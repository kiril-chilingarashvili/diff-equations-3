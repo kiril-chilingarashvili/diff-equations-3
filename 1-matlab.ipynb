{
 "cells": [
  {
   "cell_type": "code",
   "execution_count": null,
   "id": "c96da0be-82ef-4dad-9e96-49ba438aa71a",
   "metadata": {},
   "outputs": [],
   "source": [
    "A = rand(4, 4)\n",
    "b = rand(4, 1)\n",
    "x = A\\b\n",
    "b_check = A*x"
   ]
  },
  {
   "cell_type": "code",
   "execution_count": null,
   "id": "cbb9edb4-53f1-41ed-abd9-258e45c759b3",
   "metadata": {},
   "outputs": [],
   "source": []
  }
 ],
 "metadata": {
  "kernelspec": {
   "display_name": "Matlab",
   "language": "matlab",
   "name": "matlab"
  },
  "language_info": {
   "codemirror_mode": "octave",
   "file_extension": ".m",
   "help_links": [
    {
     "text": "MetaKernel Magics",
     "url": "https://metakernel.readthedocs.io/en/latest/source/README.html"
    }
   ],
   "mimetype": "text/x-octave",
   "name": "matlab",
   "version": "0.16.11"
  }
 },
 "nbformat": 4,
 "nbformat_minor": 5
}

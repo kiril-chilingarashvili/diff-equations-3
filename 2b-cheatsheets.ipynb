{
 "cells": [
  {
   "cell_type": "markdown",
   "id": "10491037-0a41-4d77-a666-6ab21d03cc9d",
   "metadata": {},
   "source": [
    "# Unit 2: Linear Algebra, Part 2b"
   ]
  },
  {
   "cell_type": "markdown",
   "id": "c2039ec9-cee4-42b4-880b-67fd08ad33af",
   "metadata": {},
   "source": [
    "## The eigenvalue-eigenvector problem\n",
    "\n",
    "### In the course Differential equations: 2 by 2 systems, we learned that the first step in solving a linear $2 \\times 2$ system of differential equations, $\\dot{\\bf{x}}$ is to find the eigenvalues and eigenvectors of the $2 \\times 2$ matrix $\\bf{A}$. The procedure for solving linear $n \\times n$ systems of DEs is the same, and starts with finding eigenvalues and eigenvectors. And even outside the context of differential equations, the eigenvalues and eigenvectors of a matrix tell us a lot about what the matrix does as a function on $\\mathbb{R}^n$."
   ]
  },
  {
   "cell_type": "markdown",
   "id": "6b29d916-661b-4e36-99ce-11338cc64d4b",
   "metadata": {},
   "source": [
    "### ***Definition 2.1***\n",
    "### Let $\\bf{A}$ be an $n \\times n$ mmatrix.\n",
    "### - An ***eigenvalue of*** $\\bf{A}$ is a ***scalar*** $\\lambda$ such that $\\bf{A}\\bf{v} = \\lambda \\bf{v}$ for some ***nonzero*** vector $\\bf{v}$.\n",
    "### - An ***eigenvector of*** $\\bf{A}$ ***associated with an eigenvalue*** $\\lambda$ is a ***nonzero*** vector $\\bf{v}$ such that $\\bf{A}\\bf{v} = \\lambda \\bf{v}$.\n",
    "\n",
    "### (We also say that an eigenvector $\\bf{v}$ “corresponds to,\" or “belongs to\" an eigenvalue $\\lambda$.)"
   ]
  },
  {
   "cell_type": "markdown",
   "id": "636a7c22-b535-4718-a698-b3e6d9ca3254",
   "metadata": {},
   "source": [
    "### The eigenvalue-eigenvector problem is to find all possible scalars $\\lambda$ and for each $\\lambda$ all vectors $\\bf{v}$ such that\n",
    "## $$ \\bf{A}\\bf{v} = \\lambda \\bf{v} $$\n",
    "\n",
    "### ***Warning***: Eigenvalues and eigenvectors are defined only for ***square*** matrices.\n",
    "### ***Warning***: The zero vector $\\bf{0}$ is never an eigenvector.\n",
    "### ***Note***: Everyone allows that $\\lambda = 0$ can be an eigenvalue."
   ]
  },
  {
   "cell_type": "markdown",
   "id": "71228bca-50d5-4811-8694-0d7cc7cbc856",
   "metadata": {},
   "source": [
    "#### ***Example 2.2***\n",
    "### The matrix $\\begin{pmatrix} 5 & 0 & 0 \\\\ 0 & 5 & 0 \\\\ 0 & 0 & 5 \\end{pmatrix}$ satisfies\n",
    "## $$ \\begin{pmatrix} 5 & 0 & 0 \\\\ 0 & 5 & 0 \\\\ 0 & 0 & 5 \\end{pmatrix} \\bf{v} = 5 \\bf{v} \\quad \\text{for all}\\, \\bf{v}\\,\\text{in}\\,\\mathbb{R}^3 $$\n",
    "\n",
    "### Therefore, the number $5$ is an eigenvalue and all (nonzero) vectors in $\\mathbb{R}^3$ are eigenvectors associated to the eigenvalue $5$."
   ]
  },
  {
   "cell_type": "markdown",
   "id": "204383b4-72b2-485a-bd14-bdbcd2a41382",
   "metadata": {},
   "source": [
    "### ***Example 2.3***\n",
    "### The diagonal matrix $\\begin{pmatrix} 2 & 0 & 0 \\\\ 0 & 0 & 0 \\\\ 0 & 0 & -1 \\end{pmatrix}$ satisfies the following:\n",
    "## $$ \\begin{pmatrix} 2 & 0 & 0 \\\\ 0 & 0 & 0 \\\\ 0 & 0 & -1 \\end{pmatrix} \\begin{pmatrix} 1 \\\\ 0 \\\\ 0 \\end{pmatrix} = 2 \\begin{pmatrix} 1 \\\\ 0 \\\\ 0 \\end{pmatrix}$$\n",
    "## $$ \\begin{pmatrix} 2 & 0 & 0 \\\\ 0 & 0 & 0 \\\\ 0 & 0 & -1 \\end{pmatrix} \\begin{pmatrix} 0 \\\\ 1 \\\\ 0 \\end{pmatrix} = \\begin{pmatrix} 0 \\\\ 0 \\\\ 0 \\end{pmatrix} = 0 \\begin{pmatrix} 0 \\\\ 1 \\\\ 0 \\end{pmatrix}$$\n",
    "## $$ \\begin{pmatrix} 2 & 0 & 0 \\\\ 0 & 0 & 0 \\\\ 0 & 0 & -1 \\end{pmatrix} \\begin{pmatrix} 0 \\\\ 0 \\\\ 1 \\end{pmatrix} = -1 \\begin{pmatrix} 0 \\\\ 0 \\\\ 1 \\end{pmatrix}$$\n",
    "### The first equation above shows that the scalar $2$ is eigenvalue with associated eigenvector $\\begin{pmatrix} 1 \\\\ 0 \\\\ 0 \\end{pmatrix}$.\n",
    "### Similarly, the second and third equations show that $0$ and $-1$ are both eigenvalues, and $\\begin{pmatrix} 0 \\\\ 1 \\\\ 0 \\end{pmatrix}$ and $\\begin{pmatrix} 0 \\\\ 0 \\\\ 1 \\end{pmatrix}$ are eigenvectors associated to $0$ and $-1$ respectively."
   ]
  },
  {
   "cell_type": "markdown",
   "id": "ec77905f-2ed9-43b7-a996-d5b681a06d5e",
   "metadata": {},
   "source": [
    "### ***Example 2.4***\n",
    "### The matrix $\\begin{pmatrix} 0 & 1 \\\\ 1 & 0 \\end{pmatrix}$ satisfies\n",
    "## $$ \\begin{pmatrix} 0 & 1 \\\\ 1 & 0 \\end{pmatrix} \\begin{pmatrix} 1 \\\\ 1 \\end{pmatrix} = \\begin{pmatrix} 1 \\\\ 1 \\end{pmatrix}  $$\n",
    "## $$ \\begin{pmatrix} 0 & 1 \\\\ 1 & 0 \\end{pmatrix} \\begin{pmatrix} 1 \\\\ -1 \\end{pmatrix} = \\begin{pmatrix} -1 \\\\ 1 \\end{pmatrix} = (-1)\\begin{pmatrix} 1 \\\\ -1 \\end{pmatrix} $$\n",
    "### Therefore, the scalar $1$ is an eigenvalue with an associated eigenvector $\\begin{pmatrix} 1 \\\\ 1 \\end{pmatrix}$, and $-1$ is an eigenvalue with an associated eigenvector $\\begin{pmatrix} 1 \\\\ -1 \\end{pmatrix}$."
   ]
  },
  {
   "cell_type": "markdown",
   "id": "93d5875f-50c0-4311-a337-be29e4e6abe4",
   "metadata": {},
   "source": [
    "## Geometric meaning\n",
    "\n",
    "### ***Geometric meaning of real eigenvalues and eigenvectors***\n",
    "### Recall that any $n \\times n$ matrix $\\bf{A}$ represents a function from $\\mathbb{R}^n$ to $\\mathbb{R}^n$. Therefore, an eigenvector $\\bf{v}$ of $\\bf{A}$ which satisfies the equation\n",
    "## $$ \\bf{A}\\bf{v} = \\lambda \\bf{v} \\quad \\text{for some scalar}\\, \\lambda $$\n",
    "### is a vector whose image under $\\bf{A}$ is a scalar multiple of itself. When the eigenvalue $\\lambda$ is real, this means that an eigenvector is a vector  whose image lies on the line in $\\mathbb{R}^n$ through $\\bf{0}$ and $\\bf{v}$, with the eigenvalue $\\lambda$ as the scaling factor.\n",
    "\n",
    "### Let us revisit the examples above."
   ]
  },
  {
   "cell_type": "markdown",
   "id": "f01015c1-653d-448d-a64d-79aeacfbd129",
   "metadata": {},
   "source": [
    "### ***Example 3.1***\n",
    "### The function represented by $\\begin{pmatrix} 5 & 0 & 0 \\\\ 0 & 5 & 0 \\\\ 0 & 0 & 5 \\end{pmatrix}$ stretches every vector in $\\mathbb{R}^3$ to $5$ times it length but does not change its direction; hence, every vector is an eigenvector associated to the eigenvalue $5$"
   ]
  },
  {
   "cell_type": "markdown",
   "id": "49f8fd5a-9e3e-4051-b0bf-0ee0cac243ca",
   "metadata": {},
   "source": [
    "### ***Example 3.2***\n",
    "### The function represented by the matrix $\\begin{pmatrix} 2 & 0 & 0 \\\\ 0 & 0 & 0 \\\\ 0 & 0 & -1 \\end{pmatrix}$\n",
    "### - stretches the eigenvector $\\begin{pmatrix} 1 \\\\ 0 \\\\ 0 \\end{pmatrix}$ to $2$ times ($2$ is the corresponding eigenvalue) its length but does not change its direction;\n",
    "### - collapses the eigenvector $\\begin{pmatrix} 0 \\\\ 1 \\\\ 0 \\end{pmatrix}$to the $\\bf{0}$ vector, since $0$ is the corresponding eigenvalue;\n",
    "### - flips the eigenvector $\\begin{pmatrix} 0 \\\\ 0 \\\\ 1 \\end{pmatrix}$ across the origin to the other side of the $z$-axis without changing its length, since $-1$ is the corresponding eigenvalue."
   ]
  },
  {
   "cell_type": "markdown",
   "id": "b965cb1e-0813-4477-b807-ca35ef644960",
   "metadata": {},
   "source": [
    "### ***Example 3.3***\n",
    "### The (function represented by the) matrix $\\begin{pmatrix} 0 & 1 \\\\ 1 & 0 \\end{pmatrix}$,\n",
    "### - does not change the direction or length of the eigenvector $\\begin{pmatrix} 1 \\\\ 1 \\end{pmatrix}$ since the corresponding eigenvalue is $1$;\n",
    "### - flips the eigenvector $\\begin{pmatrix} 1 \\\\ -1 \\end{pmatrix}$ across the origin to the other side of the line $y=-x$, since the eigenvalue is $-1$.\n",
    "### In each case, the image of the eigenvector lies on the same line as the eigenvector itself."
   ]
  },
  {
   "cell_type": "markdown",
   "id": "c7c8eb96-fe06-44c3-853f-90def4dacca3",
   "metadata": {},
   "source": [
    "## Matrix vector mathlet\n",
    "### The mathlet below shows the input and output vectors of a $2 \\times 2$ matrix $\\bf{A}$ and their relationship with the eigenlines. Recall from the course Differential equations: 2 by 2 systems that when the eigenvectors of an eigenvalue are all scalar mulitiples of just one eigenvector, then the line consisting of all the eigenvectors is called an ***eigenline***.\n",
    "### To see the action of $\\bf{A}$ on its eigenvector:\n",
    "### 1. click on all three boxes “Show eigenlines,\" “Show eigenvalues,\" and “Show eigenvectors\";\n",
    "### 2. choose values of $\\bf{A}$ (on the right) so that two eigenlines (green) are shown on the graph (on the left);\n",
    "### 3. click on a point along the eigenlines (green on the graph) to select an eigenvector $\\bf{v}$ as an input to $\\bf{A}$;\n",
    "### 4. observe that the output $\\bf{A}\\bf{v}$ lies along the same line as $\\bf{v}$ with the corresponding eigenvalue, $\\lambda_1$ or $\\lambda_2$ (bottom right) as scalar factors.\n",
    "### Observe that when the input vector $\\bf{v}$ is not an eigenvector (i.e. not on an eigenline), the output $\\bf{A}\\bf{v}$ is not on the same line as $\\bf{v}$.\n",
    "\n",
    "### [Mathlet link](https://mathlets.org/mathlets/matrix-vector/)"
   ]
  },
  {
   "cell_type": "markdown",
   "id": "47c9a8e6-1a6a-4605-86fa-483108412ee9",
   "metadata": {},
   "source": [
    "## Characteristic polynomial\n",
    "\n",
    "### The ***characteristic polynomial*** of an $n \\times n$ matrix $\\bf{A}$ is defined as\n",
    "## $$ P(\\lambda) \\colon = \\det (\\lambda \\bf{I} - \\bf{A}) $$\n",
    "\n",
    "### (If instead you use $\\det (\\bf{A} - \\lambda \\bf{I})$, you will need to negate the result when $n$ is odd in order to get a polynomial that starts with $\\lambda^n$ instead of $-\\lambda^n$.)\n",
    "\n",
    "### The roots of $P(\\lambda)$ are the eigenvalues of $\\bf{A}$."
   ]
  },
  {
   "cell_type": "markdown",
   "id": "6c3e0b0a-9c06-4f24-9697-b27b0ba07e34",
   "metadata": {},
   "source": [
    "### If $\\lambda$ is an eigenvalue, then there is a nonzero vector $\\bf{v}$ so that $\\bf{A}\\bf{v} = \\lambda \\bf{v}$. Rewriting the equation we get\n",
    "## $$ \\begin{array} {rcl} \\bf{A}\\bf{v} & = & \\lambda \\bf{v} \\\\ \\bf{A} \\bf{v} & = & \\lambda \\bf{I} \\bf{v} \\quad \\text{where }\\, \\bf{I}\\,\\text{is the identity matrix} \\\\ \\bf{0} & = & \\lambda\\bf{I}\\bf{v}-\\bf{A}\\bf{v} \\\\ \\bf{0} & = & (\\lambda\\bf{I} - \\bf{A}) \\bf{v} \\end{array} $$\n",
    "### This means that for a fixed $\\lambda$, the set of al vectors $\\bf{v}$ satisfying $(\\lambda\\bf{I}-\\bf{A})\\bf{v} = 0$ is the set of vectors satisfying $\\bf{A}\\bf{v} = \\lambda\\bf{v}$\n",
    "\n",
    "### Therefore $\\lambda$ is an eigenvalue if and only if the nullspace of the matrix $\\lambda\\bf{I}-\\bf{A}$ is nontrivial. And the nullspace is nontrivial if and only if $\\det (\\lambda\\bf{I}-\\bf{A}) = 0$. (This is an application of the theorem from the last lecture.) Therefore $\\lambda$ is an eigenvalue if and only if $\\det (\\lambda\\bf{I}-\\bf{A}) = 0$."
   ]
  },
  {
   "cell_type": "markdown",
   "id": "3a906f8b-21db-43f3-b66d-586a2e5965d0",
   "metadata": {},
   "source": [
    "### ***Problem 4.1***\n",
    "### What are the eigenvalues of the matrix\n",
    "## $$ \\bf{A} = \\begin{pmatrix} 1 & 0 & 1 \\\\ 0 & 1 & 0 \\\\ 1 & 0 & 1 \\end{pmatrix} \\, \\text{?} $$\n",
    "\n",
    "### ***Solution***\n",
    "### The characteristic polynomial of $\\bf{A}$ is\n",
    "## $$ \\begin{array} {rcl} \\det (\\lambda\\bf{I}-\\bf{A}) & = & \\left| \\begin{array} {ccc} \\lambda-1 & 0 & -1 \\\\ 0 & \\lambda-1 & 0 \\\\ -1 & 0 & \\lambda-1 \\end{array} \\right| \\\\ \\, & = & \\underbrace{(\\lambda-1)((\\lambda-1)(\\lambda-1)-(0)(0))+(-1)((0)(0)-(-1)(\\lambda-1))}_{\\text{expansion along the top row}} \\\\ \\, & = & \\lambda^3-3\\lambda^2+2\\lambda \\\\ \\, & = & \\lambda(1-\\lambda)(2-\\lambda) \\end{array} $$\n",
    "\n",
    "### The roots of the characteristic polynomial are $0,1,2$ and therefore these are the eigenvalues of $\\bf{A}$."
   ]
  },
  {
   "cell_type": "markdown",
   "id": "6cf70991-9715-4ca0-8485-3b0d292ab579",
   "metadata": {},
   "source": [
    "### ***Definition 4.2***\n",
    "\n",
    "### The ***multiplicity*** of an eigenvalue $\\lambda$ is its multiplicity as a root of the characteristic polynomial.\n",
    "### In example above, each of the eigenvalues $0,1$, and $2$ has multiplicity $1$."
   ]
  },
  {
   "cell_type": "markdown",
   "id": "e1a7d9a9-c05e-41cf-8859-4f75aae701aa",
   "metadata": {},
   "source": [
    "### ***Example 4.3***\n",
    "### For the matrix $\\bf{A} = \\begin{pmatrix} -2 & 1 & 1 \\\\ 1 & -2 & 1 \\\\ 1 & 1 & -2 \\end{pmatrix}$, find the eigenvalues and their multiplicities.\n",
    "\n",
    "### ***Solution***:\n",
    "### The characteristic polynomial is:\n",
    "## $$ \\begin{array} {rcl} \\det (\\lambda \\bf{I} - \\bf{A}) & = & \\left| \\begin{array} {ccc} \\lambda+2 & -1 & -1 \\\\ -1 & \\lambda+2 & -1 \\\\ -1 & -1 & \\lambda+2 \\end{array} \\right| \\\\ \\, & = & (\\lambda+2)((\\lambda+2)(\\lambda+2)-1)-(-1)((-1)(\\lambda+2)-(-1)(-1))+(-1)((-1)(-1)-(-1)(\\lambda+2)) \\\\ \\, & = & \\lambda^3+6\\lambda^2+9\\lambda \\\\ \\, & = & \\lambda(\\lambda+3)^2 \\end{array} $$\n",
    "### Therefore, the eigenvalues are $0$, with multiplicity $1$, and $-3$, with multiplicity $2$."
   ]
  },
  {
   "cell_type": "markdown",
   "id": "9274e13e-9d7c-4d37-b1e0-e4c5ba71464f",
   "metadata": {},
   "source": [
    "## Complex eigenvalues\n",
    "\n",
    "### Since eigenvalues are roots of a polynomial with real coefficients, they can be complex, and when they are, they come in pairs of complex conjugates.\n",
    "\n",
    "### ***Example 5.1***\n",
    "### Find the eigenvalues of the matrix $\\bf{A} = \\begin{pmatrix} 0 & -1 & 0 \\\\ 1 & 0 & 0 \\\\ 0 & 0 & 1 \\end{pmatrix}$\n",
    "### (This matrix represents the function that rotates any vector in $\\mathbb{R}^3$ by $90^\\circ$ counterclockwise about the $z$-axis.)\n",
    "\n",
    "### ***Solution***:\n",
    "## $$ \\begin{array} {rcl} \\det (\\bf{A} - \\lambda\\bf{I}) & = & \\left| \\begin{array} {rcl} -\\lambda & -1 & 0 \\\\ 1 & -\\lambda & 0 \\\\ 0 & 0 & 1-\\lambda \\end{array} \\right| \\\\ \\, & = & (\\lambda^2+1)(1-\\lambda) \\\\ \\, & = & -(\\lambda + i)(\\lambda-i)(\\lambda-1) \\\\ \\implies \\lambda & = & \\pm i,1 \\end{array} $$\n",
    "\n",
    "### Hence, the eigenvalues are $\\lambda=\\pm i, 1$, (each with multiplicity $1$). Note that both $i$ and its conjugate $-i$ are eigenvalues."
   ]
  },
  {
   "cell_type": "markdown",
   "id": "66144afb-81c2-4442-a6aa-e17724423360",
   "metadata": {},
   "source": [
    "### ***Theorem 5.2***\n",
    "### For any $n \\times n$ matrix, the total number of complex eigenvalues, counted with multiplicity, is $n$.\n",
    "### Note that complex eigenvalues include real eigenvalues.\n",
    "\n",
    "### ***Proof***\n",
    "### We apply the fundamental theorem of algebra to the characteristic polynomial of $\\bf{A}$, which is a degree $n$ polynomial with real coefficients.\n",
    "\n",
    "### ***The fundamental theorem of algebra***:  Every nonzero degree $n$ polynomial with complex coefficients has exactly $n$ complex roots when counted with multiplicity.\n",
    "\n",
    "### Remember real numbers are also complex numbers, so this implies in particular that every nonzero degree $n$ polynomial with real coefficients, e.g. the characteristic polynomial of $\\bf{A}$ has exactly $n$ complex roots when counted with multiplicity."
   ]
  },
  {
   "cell_type": "markdown",
   "id": "a4edfffd-9dbc-4354-92be-f1f18d478680",
   "metadata": {},
   "source": [
    "## Eigenspaces\n",
    "\n",
    "### We now know that the eigenvalues of a matrix are the roots of the characteristic equation $\\det (\\lambda\\bf{I} - \\bf{A}) = 0$. Let us proceed to find the eigenvectors corresponding to each eigenvalue.\n",
    "\n",
    "### ***Definition 6.1***\n",
    "### The ***eigenspace*** of an eigenvalue $\\lambda$ of a square matrix $\\bf{A}$ is the set of all eigenvectors corresponding to $\\lambda$ together with the zero vector $\\bf{0}$. In other words, it is the span of all the eigenvectors associated to the eigenvalue $\\lambda$.\n",
    "### In other words,\n",
    "## $$ \\begin{array} {rcl} \\text{the eigenspace of an eigenvalue}\\,\\lambda & = & \\{\\text{span of all eigenvectors associated to}\\,\\lambda\\} \\\\ \\, & = & \\{ \\text{all solutions to}\\, (\\lambda\\bf{I}-\\bf{A})\\bf{v} = \\bf{0} \\} \\\\ \\, & = & \\operatorname{NS}(\\lambda\\bf{I}-\\bf{A}) \\end{array} $$\n",
    "\n",
    "### There is one eigenspace for every eigenvalue. Each eigenspace is a vector space, so it can be described as the span of a basis. To compute the eigenspace of $\\lambda$, compute $\\operatorname{NS}(\\lambda\\bf{I}-\\bf{A})$ by Gaussian elimination and back-substitution."
   ]
  },
  {
   "cell_type": "code",
   "execution_count": null,
   "id": "395c4962-9c45-4520-8b26-1344c7324f6a",
   "metadata": {},
   "outputs": [],
   "source": []
  }
 ],
 "metadata": {
  "kernelspec": {
   "display_name": "Python 3",
   "language": "python",
   "name": "python3"
  },
  "language_info": {
   "codemirror_mode": {
    "name": "ipython",
    "version": 3
   },
   "file_extension": ".py",
   "mimetype": "text/x-python",
   "name": "python",
   "nbconvert_exporter": "python",
   "pygments_lexer": "ipython3",
   "version": "3.8.8"
  }
 },
 "nbformat": 4,
 "nbformat_minor": 5
}

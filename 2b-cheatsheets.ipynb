{
 "cells": [
  {
   "cell_type": "markdown",
   "id": "10491037-0a41-4d77-a666-6ab21d03cc9d",
   "metadata": {},
   "source": [
    "# Unit 2: Linear Algebra, Part 2b"
   ]
  },
  {
   "cell_type": "markdown",
   "id": "c2039ec9-cee4-42b4-880b-67fd08ad33af",
   "metadata": {},
   "source": [
    "## The eigenvalue-eigenvector problem\n",
    "\n",
    "### In the course Differential equations: 2 by 2 systems, we learned that the first step in solving a linear $2 \\times 2$ system of differential equations, $\\dot{\\bf{x}}$ is to find the eigenvalues and eigenvectors of the $2 \\times 2$ matrix $\\bf{A}$. The procedure for solving linear $n \\times n$ systems of DEs is the same, and starts with finding eigenvalues and eigenvectors. And even outside the context of differential equations, the eigenvalues and eigenvectors of a matrix tell us a lot about what the matrix does as a function on $\\mathbb{R}^n$."
   ]
  },
  {
   "cell_type": "markdown",
   "id": "6b29d916-661b-4e36-99ce-11338cc64d4b",
   "metadata": {},
   "source": [
    "### ***Definition 2.1***\n",
    "### Let $\\bf{A}$ be an $n \\times n$ mmatrix.\n",
    "### - An ***eigenvalue of*** $\\bf{A}$ is a ***scalar*** $\\lambda$ such that $\\bf{A}\\bf{v} = \\lambda \\bf{v}$ for some ***nonzero*** vector $\\bf{v}$.\n",
    "### - An ***eigenvector of*** $\\bf{A}$ ***associated with an eigenvalue*** $\\lambda$ is a ***nonzero*** vector $\\bf{v}$ such that $\\bf{A}\\bf{v} = \\lambda \\bf{v}$.\n",
    "\n",
    "### (We also say that an eigenvector $\\bf{v}$ “corresponds to,\" or “belongs to\" an eigenvalue $\\lambda$.)"
   ]
  },
  {
   "cell_type": "markdown",
   "id": "636a7c22-b535-4718-a698-b3e6d9ca3254",
   "metadata": {},
   "source": [
    "### The eigenvalue-eigenvector problem is to find all possible scalars $\\lambda$ and for each $\\lambda$ all vectors $\\bf{v}$ such that\n",
    "## $$ \\bf{A}\\bf{v} = \\lambda \\bf{v} $$\n",
    "\n",
    "### ***Warning***: Eigenvalues and eigenvectors are defined only for ***square*** matrices.\n",
    "### ***Warning***: The zero vector $\\bf{0}$ is never an eigenvector.\n",
    "### ***Note***: Everyone allows that $\\lambda = 0$ can be an eigenvalue."
   ]
  },
  {
   "cell_type": "markdown",
   "id": "71228bca-50d5-4811-8694-0d7cc7cbc856",
   "metadata": {},
   "source": [
    "#### ***Example 2.2***\n",
    "### The matrix $\\begin{pmatrix} 5 & 0 & 0 \\\\ 0 & 5 & 0 \\\\ 0 & 0 & 5 \\end{pmatrix}$ satisfies\n",
    "## $$ \\begin{pmatrix} 5 & 0 & 0 \\\\ 0 & 5 & 0 \\\\ 0 & 0 & 5 \\end{pmatrix} \\bf{v} = 5 \\bf{v} \\quad \\text{for all}\\, \\bf{v}\\,\\text{in}\\,\\mathbb{R}^3 $$\n",
    "\n",
    "### Therefore, the number $5$ is an eigenvalue and all (nonzero) vectors in $\\mathbb{R}^3$ are eigenvectors associated to the eigenvalue $5$."
   ]
  },
  {
   "cell_type": "markdown",
   "id": "204383b4-72b2-485a-bd14-bdbcd2a41382",
   "metadata": {},
   "source": [
    "### ***Example 2.3***\n",
    "### The diagonal matrix $\\begin{pmatrix} 2 & 0 & 0 \\\\ 0 & 0 & 0 \\\\ 0 & 0 & -1 \\end{pmatrix}$ satisfies the following:\n",
    "## $$ \\begin{pmatrix} 2 & 0 & 0 \\\\ 0 & 0 & 0 \\\\ 0 & 0 & -1 \\end{pmatrix} \\begin{pmatrix} 1 \\\\ 0 \\\\ 0 \\end{pmatrix} = 2 \\begin{pmatrix} 1 \\\\ 0 \\\\ 0 \\end{pmatrix}$$\n",
    "## $$ \\begin{pmatrix} 2 & 0 & 0 \\\\ 0 & 0 & 0 \\\\ 0 & 0 & -1 \\end{pmatrix} \\begin{pmatrix} 0 \\\\ 1 \\\\ 0 \\end{pmatrix} = \\begin{pmatrix} 0 \\\\ 0 \\\\ 0 \\end{pmatrix} = 0 \\begin{pmatrix} 0 \\\\ 1 \\\\ 0 \\end{pmatrix}$$\n",
    "## $$ \\begin{pmatrix} 2 & 0 & 0 \\\\ 0 & 0 & 0 \\\\ 0 & 0 & -1 \\end{pmatrix} \\begin{pmatrix} 0 \\\\ 0 \\\\ 1 \\end{pmatrix} = -1 \\begin{pmatrix} 0 \\\\ 0 \\\\ 1 \\end{pmatrix}$$\n",
    "### The first equation above shows that the scalar $2$ is eigenvalue with associated eigenvector $\\begin{pmatrix} 1 \\\\ 0 \\\\ 0 \\end{pmatrix}$.\n",
    "### Similarly, the second and third equations show that $0$ and $-1$ are both eigenvalues, and $\\begin{pmatrix} 0 \\\\ 1 \\\\ 0 \\end{pmatrix}$ and $\\begin{pmatrix} 0 \\\\ 0 \\\\ 1 \\end{pmatrix}$ are eigenvectors associated to $0$ and $-1$ respectively."
   ]
  },
  {
   "cell_type": "markdown",
   "id": "ec77905f-2ed9-43b7-a996-d5b681a06d5e",
   "metadata": {},
   "source": [
    "### ***Example 2.4***\n",
    "### The matrix $\\begin{pmatrix} 0 & 1 \\\\ 1 & 0 \\end{pmatrix}$ satisfies\n",
    "## $$ \\begin{pmatrix} 0 & 1 \\\\ 1 & 0 \\end{pmatrix} \\begin{pmatrix} 1 \\\\ 1 \\end{pmatrix} = \\begin{pmatrix} 1 \\\\ 1 \\end{pmatrix}  $$\n",
    "## $$ \\begin{pmatrix} 0 & 1 \\\\ 1 & 0 \\end{pmatrix} \\begin{pmatrix} 1 \\\\ -1 \\end{pmatrix} = \\begin{pmatrix} -1 \\\\ 1 \\end{pmatrix} = (-1)\\begin{pmatrix} 1 \\\\ -1 \\end{pmatrix} $$\n",
    "### Therefore, the scalar $1$ is an eigenvalue with an associated eigenvector $\\begin{pmatrix} 1 \\\\ 1 \\end{pmatrix}$, and $-1$ is an eigenvalue with an associated eigenvector $\\begin{pmatrix} 1 \\\\ -1 \\end{pmatrix}$."
   ]
  },
  {
   "cell_type": "markdown",
   "id": "93d5875f-50c0-4311-a337-be29e4e6abe4",
   "metadata": {},
   "source": [
    "## Geometric meaning\n",
    "\n",
    "### ***Geometric meaning of real eigenvalues and eigenvectors***\n",
    "### Recall that any $n \\times n$ matrix $\\bf{A}$ represents a function from $\\mathbb{R}^n$ to $\\mathbb{R}^n$. Therefore, an eigenvector $\\bf{v}$ of $\\bf{A}$ which satisfies the equation\n",
    "## $$ \\bf{A}\\bf{v} = \\lambda \\bf{v} \\quad \\text{for some scalar}\\, \\lambda $$\n",
    "### is a vector whose image under $\\bf{A}$ is a scalar multiple of itself. When the eigenvalue $\\lambda$ is real, this means that an eigenvector is a vector  whose image lies on the line in $\\mathbb{R}^n$ through $\\bf{0}$ and $\\bf{v}$, with the eigenvalue $\\lambda$ as the scaling factor.\n",
    "\n",
    "### Let us revisit the examples above."
   ]
  },
  {
   "cell_type": "markdown",
   "id": "f01015c1-653d-448d-a64d-79aeacfbd129",
   "metadata": {},
   "source": [
    "### ***Example 3.1***\n",
    "### The function represented by $\\begin{pmatrix} 5 & 0 & 0 \\\\ 0 & 5 & 0 \\\\ 0 & 0 & 5 \\end{pmatrix}$ stretches every vector in $\\mathbb{R}^3$ to $5$ times it length but does not change its direction; hence, every vector is an eigenvector associated to the eigenvalue $5$"
   ]
  },
  {
   "cell_type": "markdown",
   "id": "49f8fd5a-9e3e-4051-b0bf-0ee0cac243ca",
   "metadata": {},
   "source": [
    "### ***Example 3.2***\n",
    "### The function represented by the matrix $\\begin{pmatrix} 2 & 0 & 0 \\\\ 0 & 0 & 0 \\\\ 0 & 0 & -1 \\end{pmatrix}$\n",
    "### - stretches the eigenvector $\\begin{pmatrix} 1 \\\\ 0 \\\\ 0 \\end{pmatrix}$ to $2$ times ($2$ is the corresponding eigenvalue) its length but does not change its direction;\n",
    "### - collapses the eigenvector $\\begin{pmatrix} 0 \\\\ 1 \\\\ 0 \\end{pmatrix}$to the $\\bf{0}$ vector, since $0$ is the corresponding eigenvalue;\n",
    "### - flips the eigenvector $\\begin{pmatrix} 0 \\\\ 0 \\\\ 1 \\end{pmatrix}$ across the origin to the other side of the $z$-axis without changing its length, since $-1$ is the corresponding eigenvalue."
   ]
  },
  {
   "cell_type": "markdown",
   "id": "b965cb1e-0813-4477-b807-ca35ef644960",
   "metadata": {},
   "source": [
    "### ***Example 3.3***\n",
    "### The (function represented by the) matrix $\\begin{pmatrix} 0 & 1 \\\\ 1 & 0 \\end{pmatrix}$,\n",
    "### - does not change the direction or length of the eigenvector $\\begin{pmatrix} 1 \\\\ 1 \\end{pmatrix}$ since the corresponding eigenvalue is $1$;\n",
    "### - flips the eigenvector $\\begin{pmatrix} 1 \\\\ -1 \\end{pmatrix}$ across the origin to the other side of the line $y=-x$, since the eigenvalue is $-1$.\n",
    "### In each case, the image of the eigenvector lies on the same line as the eigenvector itself."
   ]
  },
  {
   "cell_type": "markdown",
   "id": "c7c8eb96-fe06-44c3-853f-90def4dacca3",
   "metadata": {},
   "source": [
    "## Matrix vector mathlet\n",
    "### The mathlet below shows the input and output vectors of a $2 \\times 2$ matrix $\\bf{A}$ and their relationship with the eigenlines. Recall from the course Differential equations: 2 by 2 systems that when the eigenvectors of an eigenvalue are all scalar mulitiples of just one eigenvector, then the line consisting of all the eigenvectors is called an ***eigenline***.\n",
    "### To see the action of $\\bf{A}$ on its eigenvector:\n",
    "### 1. click on all three boxes “Show eigenlines,\" “Show eigenvalues,\" and “Show eigenvectors\";\n",
    "### 2. choose values of $\\bf{A}$ (on the right) so that two eigenlines (green) are shown on the graph (on the left);\n",
    "### 3. click on a point along the eigenlines (green on the graph) to select an eigenvector $\\bf{v}$ as an input to $\\bf{A}$;\n",
    "### 4. observe that the output $\\bf{A}\\bf{v}$ lies along the same line as $\\bf{v}$ with the corresponding eigenvalue, $\\lambda_1$ or $\\lambda_2$ (bottom right) as scalar factors.\n",
    "### Observe that when the input vector $\\bf{v}$ is not an eigenvector (i.e. not on an eigenline), the output $\\bf{A}\\bf{v}$ is not on the same line as $\\bf{v}$.\n",
    "\n",
    "### [Mathlet link](https://mathlets.org/mathlets/matrix-vector/)"
   ]
  },
  {
   "cell_type": "markdown",
   "id": "47c9a8e6-1a6a-4605-86fa-483108412ee9",
   "metadata": {},
   "source": [
    "## Characteristic polynomial\n",
    "\n",
    "### The ***characteristic polynomial*** of an $n \\times n$ matrix $\\bf{A}$ is defined as\n",
    "## $$ P(\\lambda) \\colon = \\det (\\lambda \\bf{I} - \\bf{A}) $$\n",
    "\n",
    "### (If instead you use $\\det (\\bf{A} - \\lambda \\bf{I})$, you will need to negate the result when $n$ is odd in order to get a polynomial that starts with $\\lambda^n$ instead of $-\\lambda^n$.)\n",
    "\n",
    "### The roots of $P(\\lambda)$ are the eigenvalues of $\\bf{A}$."
   ]
  },
  {
   "cell_type": "markdown",
   "id": "6c3e0b0a-9c06-4f24-9697-b27b0ba07e34",
   "metadata": {},
   "source": [
    "### If $\\lambda$ is an eigenvalue, then there is a nonzero vector $\\bf{v}$ so that $\\bf{A}\\bf{v} = \\lambda \\bf{v}$. Rewriting the equation we get\n",
    "## $$ \\begin{array} {rcl} \\bf{A}\\bf{v} & = & \\lambda \\bf{v} \\\\ \\bf{A} \\bf{v} & = & \\lambda \\bf{I} \\bf{v} \\quad \\text{where }\\, \\bf{I}\\,\\text{is the identity matrix} \\\\ \\bf{0} & = & \\lambda\\bf{I}\\bf{v}-\\bf{A}\\bf{v} \\\\ \\bf{0} & = & (\\lambda\\bf{I} - \\bf{A}) \\bf{v} \\end{array} $$\n",
    "### This means that for a fixed $\\lambda$, the set of al vectors $\\bf{v}$ satisfying $(\\lambda\\bf{I}-\\bf{A})\\bf{v} = 0$ is the set of vectors satisfying $\\bf{A}\\bf{v} = \\lambda\\bf{v}$\n",
    "\n",
    "### Therefore $\\lambda$ is an eigenvalue if and only if the nullspace of the matrix $\\lambda\\bf{I}-\\bf{A}$ is nontrivial. And the nullspace is nontrivial if and only if $\\det (\\lambda\\bf{I}-\\bf{A}) = 0$. (This is an application of the theorem from the last lecture.) Therefore $\\lambda$ is an eigenvalue if and only if $\\det (\\lambda\\bf{I}-\\bf{A}) = 0$."
   ]
  },
  {
   "cell_type": "markdown",
   "id": "3a906f8b-21db-43f3-b66d-586a2e5965d0",
   "metadata": {},
   "source": [
    "### ***Problem 4.1***\n",
    "### What are the eigenvalues of the matrix\n",
    "## $$ \\bf{A} = \\begin{pmatrix} 1 & 0 & 1 \\\\ 0 & 1 & 0 \\\\ 1 & 0 & 1 \\end{pmatrix} \\, \\text{?} $$\n",
    "\n",
    "### ***Solution***\n",
    "### The characteristic polynomial of $\\bf{A}$ is\n",
    "## $$ \\begin{array} {rcl} \\det (\\lambda\\bf{I}-\\bf{A}) & = & \\left| \\begin{array} {ccc} \\lambda-1 & 0 & -1 \\\\ 0 & \\lambda-1 & 0 \\\\ -1 & 0 & \\lambda-1 \\end{array} \\right| \\\\ \\, & = & \\underbrace{(\\lambda-1)((\\lambda-1)(\\lambda-1)-(0)(0))+(-1)((0)(0)-(-1)(\\lambda-1))}_{\\text{expansion along the top row}} \\\\ \\, & = & \\lambda^3-3\\lambda^2+2\\lambda \\\\ \\, & = & \\lambda(1-\\lambda)(2-\\lambda) \\end{array} $$\n",
    "\n",
    "### The roots of the characteristic polynomial are $0,1,2$ and therefore these are the eigenvalues of $\\bf{A}$."
   ]
  },
  {
   "cell_type": "markdown",
   "id": "6cf70991-9715-4ca0-8485-3b0d292ab579",
   "metadata": {},
   "source": [
    "### ***Definition 4.2***\n",
    "\n",
    "### The ***multiplicity*** of an eigenvalue $\\lambda$ is its multiplicity as a root of the characteristic polynomial.\n",
    "### In example above, each of the eigenvalues $0,1$, and $2$ has multiplicity $1$."
   ]
  },
  {
   "cell_type": "markdown",
   "id": "e1a7d9a9-c05e-41cf-8859-4f75aae701aa",
   "metadata": {},
   "source": [
    "### ***Example 4.3***\n",
    "### For the matrix $\\bf{A} = \\begin{pmatrix} -2 & 1 & 1 \\\\ 1 & -2 & 1 \\\\ 1 & 1 & -2 \\end{pmatrix}$, find the eigenvalues and their multiplicities.\n",
    "\n",
    "### ***Solution***:\n",
    "### The characteristic polynomial is:\n",
    "## $$ \\begin{array} {rcl} \\det (\\lambda \\bf{I} - \\bf{A}) & = & \\left| \\begin{array} {ccc} \\lambda+2 & -1 & -1 \\\\ -1 & \\lambda+2 & -1 \\\\ -1 & -1 & \\lambda+2 \\end{array} \\right| \\\\ \\, & = & (\\lambda+2)((\\lambda+2)(\\lambda+2)-1)-(-1)((-1)(\\lambda+2)-(-1)(-1))+(-1)((-1)(-1)-(-1)(\\lambda+2)) \\\\ \\, & = & \\lambda^3+6\\lambda^2+9\\lambda \\\\ \\, & = & \\lambda(\\lambda+3)^2 \\end{array} $$\n",
    "### Therefore, the eigenvalues are $0$, with multiplicity $1$, and $-3$, with multiplicity $2$."
   ]
  },
  {
   "cell_type": "markdown",
   "id": "9274e13e-9d7c-4d37-b1e0-e4c5ba71464f",
   "metadata": {},
   "source": [
    "## Complex eigenvalues\n",
    "\n",
    "### Since eigenvalues are roots of a polynomial with real coefficients, they can be complex, and when they are, they come in pairs of complex conjugates.\n",
    "\n",
    "### ***Example 5.1***\n",
    "### Find the eigenvalues of the matrix $\\bf{A} = \\begin{pmatrix} 0 & -1 & 0 \\\\ 1 & 0 & 0 \\\\ 0 & 0 & 1 \\end{pmatrix}$\n",
    "### (This matrix represents the function that rotates any vector in $\\mathbb{R}^3$ by $90^\\circ$ counterclockwise about the $z$-axis.)\n",
    "\n",
    "### ***Solution***:\n",
    "## $$ \\begin{array} {rcl} \\det (\\bf{A} - \\lambda\\bf{I}) & = & \\left| \\begin{array} {rcl} -\\lambda & -1 & 0 \\\\ 1 & -\\lambda & 0 \\\\ 0 & 0 & 1-\\lambda \\end{array} \\right| \\\\ \\, & = & (\\lambda^2+1)(1-\\lambda) \\\\ \\, & = & -(\\lambda + i)(\\lambda-i)(\\lambda-1) \\\\ \\implies \\lambda & = & \\pm i,1 \\end{array} $$\n",
    "\n",
    "### Hence, the eigenvalues are $\\lambda=\\pm i, 1$, (each with multiplicity $1$). Note that both $i$ and its conjugate $-i$ are eigenvalues."
   ]
  },
  {
   "cell_type": "markdown",
   "id": "66144afb-81c2-4442-a6aa-e17724423360",
   "metadata": {},
   "source": [
    "### ***Theorem 5.2***\n",
    "### For any $n \\times n$ matrix, the total number of complex eigenvalues, counted with multiplicity, is $n$.\n",
    "### Note that complex eigenvalues include real eigenvalues.\n",
    "\n",
    "### ***Proof***\n",
    "### We apply the fundamental theorem of algebra to the characteristic polynomial of $\\bf{A}$, which is a degree $n$ polynomial with real coefficients.\n",
    "\n",
    "### ***The fundamental theorem of algebra***:  Every nonzero degree $n$ polynomial with complex coefficients has exactly $n$ complex roots when counted with multiplicity.\n",
    "\n",
    "### Remember real numbers are also complex numbers, so this implies in particular that every nonzero degree $n$ polynomial with real coefficients, e.g. the characteristic polynomial of $\\bf{A}$ has exactly $n$ complex roots when counted with multiplicity."
   ]
  },
  {
   "cell_type": "markdown",
   "id": "a4edfffd-9dbc-4354-92be-f1f18d478680",
   "metadata": {},
   "source": [
    "## Eigenspaces\n",
    "\n",
    "### We now know that the eigenvalues of a matrix are the roots of the characteristic equation $\\det (\\lambda\\bf{I} - \\bf{A}) = 0$. Let us proceed to find the eigenvectors corresponding to each eigenvalue.\n",
    "\n",
    "### ***Definition 6.1***\n",
    "### The ***eigenspace*** of an eigenvalue $\\lambda$ of a square matrix $\\bf{A}$ is the set of all eigenvectors corresponding to $\\lambda$ together with the zero vector $\\bf{0}$. In other words, it is the span of all the eigenvectors associated to the eigenvalue $\\lambda$.\n",
    "### In other words,\n",
    "## $$ \\begin{array} {rcl} \\text{the eigenspace of an eigenvalue}\\,\\lambda & = & \\{\\text{span of all eigenvectors associated to}\\,\\lambda\\} \\\\ \\, & = & \\{ \\text{all solutions to}\\, (\\lambda\\bf{I}-\\bf{A})\\bf{v} = \\bf{0} \\} \\\\ \\, & = & \\operatorname{NS}(\\lambda\\bf{I}-\\bf{A}) \\end{array} $$\n",
    "\n",
    "### There is one eigenspace for every eigenvalue. Each eigenspace is a vector space, so it can be described as the span of a basis. To compute the eigenspace of $\\lambda$, compute $\\operatorname{NS}(\\lambda\\bf{I}-\\bf{A})$ by Gaussian elimination and back-substitution."
   ]
  },
  {
   "cell_type": "markdown",
   "id": "304007bc-ab6b-4ddf-87ae-c366d2756812",
   "metadata": {},
   "source": [
    "### ***Steps to find all eigenvectors associated to a given eigenvalue $\\lambda$ of a square matrix $\\bf{A}$***:\n",
    "### 1. Write down $\\lambda \\bf{I} - \\bf{A}$.\n",
    "### 2. Use Gaussian elimination to find a basis of $\\operatorname{NS}(\\lambda\\bf{I}-\\bf{A})$.\n",
    "### 3. The eigenvectors corresponding to the eigenvalue $\\lambda$ are all the linear combinations of these basis vectors (but not including the zero vector)\n"
   ]
  },
  {
   "cell_type": "markdown",
   "id": "9a97fa4f-67ef-4a9a-a4e8-ede835cf8831",
   "metadata": {},
   "source": [
    "### ***Example 6.2***\n",
    "### Find all the eigenvalues, eigenvectors, and eigenspaces of $\\bf{A} = \\begin{pmatrix} 1 & 0 & 1 \\\\ 0 & 1 & 0 \\\\ 1 & 0 & 1 \\end{pmatrix}$.\n",
    "\n",
    "### ***Solution***:\n",
    "### The eigenvalues are $0$, $1$ and $2$. (We have found these before, by determining the roots of the $P(\\lambda) = \\det (\\lambda\\bf{I} - \\bf{A})$).\n",
    "### ***Eigenspace of*** $0$:\n",
    "### This is $\\operatorname{NS}(0\\bf{I}-\\bf{A}) = \\operatorname{NS}(-\\bf{A})=\\operatorname{NS}(\\bf{A})$, i.e. the set of all solutions to \n",
    "## $$ \\bf{A}\\bf{v} = \\bf{0} $$\n",
    "## $$ \\begin{pmatrix} 1 & 0 & 1 \\\\ 0 & 1 & 0 \\\\ 1 & 0 & 1 \\end{pmatrix} \\bf{v} = \\bf{0} $$\n",
    "\n",
    "### The first and third row are the same, and so subtracting row $1$ from row $3$, we get\n",
    "## $$ \\begin{pmatrix} 1 & 0 & 1 \\\\ 0 & 1 & 0 \\\\ 1 & 0 & 1 \\end{pmatrix} \\to \\begin{pmatrix} 1 & 0 & 1 \\\\ 0 & 1 & 0 \\\\ 0 & 0 & 0 \\end{pmatrix}  $$\n",
    "### The resulting matrix is in reduced row echelon form. The null space of $\\bf{A}$ is:\n",
    "## $$ \\text{Eigenspace of}\\,0 = \\operatorname{NS}(\\bf{A}) = \\operatorname{Span}\\begin{pmatrix} 1 \\\\ 0 \\\\ -1 \\end{pmatrix} $$\n",
    "### In other words, the eigenspace of the eigenvalue $0$ is the $1$-dimensional vector space spanned by the eigenvector $\\begin{pmatrix} 1 \\\\ 0 \\\\ -1 \\end{pmatrix}$, and the set of all eigenvectors is all nonzero scalar multiplies of $\\begin{pmatrix} 1 \\\\ 0 \\\\ -1 \\end{pmatrix}$. Geometrically, the eigenspace consists of all vectors along the line containing $\\begin{pmatrix} 1 \\\\ 0 \\\\ -1 \\end{pmatrix}$, which is defined by $x = -z$, $y = 0$.\n",
    "### ***Terminology***:\n",
    "### Very often, we say \"the eigenvectors of $\\lambda$\" to mean a ***basis*** of the eigenspace of $\\lambda$ even though strictly speacking, the eigenvectors are all nonzero combinations of that basis."
   ]
  },
  {
   "cell_type": "markdown",
   "id": "b681d3ae-e372-405c-8a30-445f8bfa4f34",
   "metadata": {},
   "source": [
    "### ***Eigenspace of*** $1$:\n",
    "### This is $\\operatorname{NS}(\\bf{I}-\\bf{A})$, i.e. the set of all solutions to\n",
    "## $$ (\\bf{I}-\\bf{A}) \\bf{v} = \\bf{0} $$\n",
    "## $$ \\begin{pmatrix} 1-1 & 0 & -1 \\\\ 0 & 1-1 & 0 \\\\ -1 & 0 & 1-1 \\end{pmatrix} \\bf{v} = \\begin{pmatrix} 0 & 0 & -1 \\\\ 0& 0 & 0 \\\\ -1 & 0 & 0 \\end{pmatrix}\\bf{v} = \\bf{0} $$\n",
    "### We can immediately see that the first and third components of $\\bf{v}$ must be zero, while the second component is a free parameter. Hence, the set of all solutions to $(\\bf{I}-\\bf{A})\\bf{v} = \\bf{0}$ is\n",
    "## $$ \\text{Eigenspace of}\\,1 = \\operatorname{NS}(\\bf{I}-\\bf{A}) = \\operatorname{Span}\\begin{pmatrix} 0 \\\\ 1 \\\\ 0 \\end{pmatrix} $$\n",
    "\n",
    "### The eigenspace of the eigenvalue $1$ is the $1$-dimensional vector space spanned by the eigenvector $\\begin{pmatrix} 0 \\\\ 1 \\\\ 0 \\end{pmatrix}$.\n",
    "### Geometrically, this consists of all vectors along the $y$-axis."
   ]
  },
  {
   "cell_type": "markdown",
   "id": "97e3f171-5852-4821-8999-9f3d36138ba0",
   "metadata": {},
   "source": [
    "### ***Eigenspace of*** $2$:\n",
    "### This is $\\operatorname{NS}(2\\bf{I}-\\bf{A})$, i.e. the set of all solutions to\n",
    "## $$ (2\\bf{I}-\\bf{A}) \\bf{v} = \\bf{0} $$\n",
    "## $$ \\begin{pmatrix} 2-1 & 0 & -1 \\\\ 0 & 2-1 & 0 \\\\ -1 & 0 & 2-1 \\end{pmatrix} \\bf{v} = \\begin{pmatrix} 1 & 0 & -1 \\\\ 0 & 1 & 0 \\\\ -1 & 0 & 1 \\end{pmatrix}\\bf{v} = \\bf{0} $$\n",
    "### This matrix can be reduced to:\n",
    "## $$ \\begin{pmatrix} 1 & 0 & -1 \\\\ 0 & 1 & 0 \\\\ -1 & 0 & 1 \\end{pmatrix} \\to \\begin{pmatrix} 1 & 0 & -1 \\\\ 0 & 1 & 0 \\\\ 0 & 0 & 0 \\end{pmatrix} $$\n",
    "\n",
    "### This gives a set of all solutions to $(2\\bf{I}-\\bf{A})\\bf{v} = \\bf{0}$ to be\n",
    "## $$ \\text{Eigenspace of}\\,2 = \\operatorname{NS}(2\\bf{I}-\\bf{A}) = \\operatorname{Span}\\begin{pmatrix} 1 \\\\ 0 \\\\ 1 \\end{pmatrix} $$\n",
    "\n",
    "### The eigenspace of the eigenvalue $2$ is the $1$-dimensional vector space spanned by the eigenvector $\\begin{pmatrix} 1 \\\\ 0 \\\\ 1 \\end{pmatrix}$.\n",
    "### Geometrically, this is the line along the vector $\\begin{pmatrix} 1 \\\\ 0 \\\\ 1 \\end{pmatrix}$ (the line defined by $x=z, y=0$)."
   ]
  },
  {
   "cell_type": "markdown",
   "id": "826c75f9-a71a-49b7-9314-e9c5193aadf4",
   "metadata": {},
   "source": [
    "### ***Conclusion***:\n",
    "### The eigenvalues and corresponding eigenspaces of the matrix\n",
    "## $$ \\bf{A} = \\begin{pmatrix} 1 & 0 & 1 \\\\ 0 & 1 & 0 \\\\ 1 & 0 & 1 \\end{pmatrix} $$\n",
    "### are\n",
    "## $$ \\begin{array} {rcl}  \\text{eigenvalue} & & \\text{Corresponding eigenspace} \\\\ \\lambda = 0 & ; & \\operatorname{Span}\\begin{pmatrix} 1 \\\\ 0 \\\\ -1 \\end{pmatrix} \\\\ \\lambda=1 & ; & \\operatorname{Span}\\begin{pmatrix} 0 \\\\ 1 \\\\ 0 \\end{pmatrix} \\\\ \\lambda=2 & ; & \\operatorname{Span}\\begin{pmatrix} 1 \\\\ 0 \\\\ 1 \\end{pmatrix} \\end{array}  $$\n",
    "### The eigenvectors for each eigenvalue are all nonzero vectors in the corresponding eigenspace."
   ]
  },
  {
   "cell_type": "markdown",
   "id": "bfac5e4f-3748-499f-84b8-b074cb9a593f",
   "metadata": {},
   "source": [
    "## Worked example\n",
    "\n",
    "### ***Problem 7.1***\n",
    "###  Find all the eigenvalues, eigenvectors, and eigenspaces of\n",
    "## $$ \\bf{A} = \\begin{pmatrix} -2 & 1 & 1 \\\\ 1 & -2 & 1 \\\\ 1 & 1 & -2 \\end{pmatrix} $$\n",
    "\n",
    "### ***Solution***:\n",
    "### We found previously that the eignevalues are $0$, $-3$, where $-3$ is of multiplicity $2$.\n",
    "\n",
    "### ***Eigenspace of*** $0$:\n",
    "### This is $\\operatorname{NS}(\\bf{A})$, that is, the set of all solutions to\n",
    "## $$ \\bf{A}\\bf{v} = \\bf{0} $$\n",
    "## $$ \\begin{pmatrix} -2 & 1 & 1 \\\\ 1 & -2 & 1 \\\\ 1 & 1 & -2 \\end{pmatrix} \\bf{v} = \\bf{0} $$\n",
    "### We reduce the matrix to reduced row echelon form:\n",
    "## $$ \\begin{pmatrix} -2 & 1 & 1 \\\\ 1 & -2 & 1 \\\\ 1 & 1 & -2 \\end{pmatrix} \\to \\begin{pmatrix} -2 & 1 & 1 \\\\ 0 & -3/2 & 3/2 \\\\ 0 & 3/2 & -3/2 \\end{pmatrix} \\to \\begin{pmatrix} -2 & 1 & 1 \\\\ 0 & -3/2 & 3/2 \\\\ 0 & 0 & 0 \\end{pmatrix} $$\n",
    "## $$ \\to \\begin{pmatrix} -2 & 1 & 1 \\\\ 0 & 1 & -1 \\\\ 0 & 0 & 0 \\end{pmatrix} \\to \\begin{pmatrix} -2 & 0 & 2 \\\\ 0 & 1 & -1 \\\\ 0 & 0 & 0 \\end{pmatrix} \\to \\begin{pmatrix} 1 & 0 & -1 \\\\ 0 & 1 & -1 \\\\ 0 & 0 & 0 \\end{pmatrix} $$\n",
    "### Hence, $z$ is a free parameter, and the eigenspace is given by\n",
    "## $$ \\text{Eigenspace of}\\, 0 = \\operatorname{NS}(\\bf{A}) = \\operatorname{Span}\\begin{pmatrix} 1 \\\\ 1 \\\\ 1 \\end{pmatrix} $$\n"
   ]
  },
  {
   "cell_type": "markdown",
   "id": "52b73b5d-b673-4572-9a77-694554147e78",
   "metadata": {},
   "source": [
    "### ***Eigenspace of*** $-3$:\n",
    "### We use the fact that $\\operatorname{NS}(-3\\bf{I}-\\bf{A}) = \\operatorname{NS}(\\bf{A} + 3\\bf{I})$ to avoid negative sign errors. The set of all solutions to\n",
    "## $$ (\\bf{A}+3\\bf{I}) \\bf{v} = \\bf{0} $$\n",
    "## $$ \\begin{pmatrix} -2+3 & 1 & 1 \\\\ 1 & -2+3 & 1 \\\\ 1 & 1 & -2+3 \\end{pmatrix} \\bf{v} = \\begin{pmatrix} 1 & 1 & 1 \\\\ 1 & 1 & 1 \\\\ 1 & 1 & 1 \\end{pmatrix} \\bf{v} = \\bf{0} $$\n",
    "### This matrix can be reduced to:\n",
    "## $$ \\begin{pmatrix} 1 & 1 & 1 \\\\ 1 & 1 & 1 \\\\ 1 & 1 & 1 \\end{pmatrix} \\to \\begin{pmatrix} 1 & 1 & 1 \\\\ 0 & 0 & 0 \\\\ 0 & 0 & 0 \\end{pmatrix} $$\n",
    "### Hence, both $y$ and $z$ can be free parameters and $x=-y-z$. The eigenspace is given by\n",
    "## $$ \\text{Eigenspace of}\\, -3 = \\operatorname{NS}(\\bf{A}+3\\bf{I}) = \\operatorname{Span} \\left( \\begin{pmatrix} -1 \\\\ 1 \\\\ 0 \\end{pmatrix}, \\begin{pmatrix} -1 \\\\ 0 \\\\ 1 \\end{pmatrix} \\right) $$\n",
    "### This is a $2$-dimensional vector space spanned by two independent vectors $\\begin{pmatrix} -1 \\\\ 1 \\\\ 0 \\end{pmatrix}$, $\\begin{pmatrix} -1 \\\\ 0 \\\\ 1 \\end{pmatrix}$. Geometrically, this consists of all vectors on the plane $x=-y-z$.\n",
    "\n",
    "### ***Conclusion***:\n",
    "### The eigenvalues and corresponding eigenspaces of the matrix $\\begin{pmatrix} -2 & 1 & 1 \\\\ 1 & -2 & 1 \\\\ 1 & 1 & -2 \\end{pmatrix}$ are:\n",
    "## $$ \\begin{array} {rcl} \\text{Eigenvalue} & & \\text{Corresponding eigenspace} \\\\ \\lambda=0 & ; & \\operatorname{Span}\\begin{pmatrix} 1 \\\\ 1 \\\\ 1 \\end{pmatrix} \\\\ \\lambda=-3 & ; & \\operatorname{Span}\\left( \\begin{pmatrix} -1 \\\\ 1 \\\\ 0 \\end{pmatrix}, \\begin{pmatrix} -1 \\\\ 0 \\\\ 1 \\end{pmatrix} \\right) \\end{array} $$\n",
    "### (The eigenvectors for each eigenvalue are all nonzero vectors in the corresponding eigenspace.) Notice that the eigenspace of $-3$ is $2$-dimensional."
   ]
  },
  {
   "cell_type": "markdown",
   "id": "b1caba88-09ad-4a7e-8d7e-da982e393225",
   "metadata": {},
   "source": [
    "## Trace\n",
    "\n",
    "### Let us take a quick detour to discuss the relationship between eigenvalues and the trace and determinant of a matrix.\n",
    "\n",
    "### ***Definition 9.1***\n",
    "### The ***trace*** of a square matrix $\\bf{A}$ is the sum of the entries along the main diagonal. That is, for\n",
    "## $$ \\begin{pmatrix}  {\\color{orange}{a_{11}}} & \\cdots & \\cdots & a_{1n} \\\\ a_{21}& {\\color{orange}{a_{22}}} & \\cdots & a_{2n} \\\\ \\vdots & & \\ddots & \\vdots \\\\ a_{n1}& \\cdots & \\cdots & {\\color{orange}{a_{nn}}} \\end{pmatrix} $$\n",
    "### The trace is\n",
    "## $$ \\operatorname{tr} \\bf{A} = {\\color{orange}{a_{11}}} + {\\color{orange}{a_{22}}} + \\ldots + {\\color{orange}{a_{nn}}} $$\n"
   ]
  },
  {
   "cell_type": "markdown",
   "id": "3252cd18-f4fc-4753-997e-86ae2ffdbc98",
   "metadata": {},
   "source": [
    "### ***Example 9.2***\n",
    "\n",
    "### If $ \\bf{A} = \\begin{pmatrix} {\\color{orange}{4}} & 6 & 9 \\\\ 1 & {\\color{orange}{7}} & 8 \\\\ 2 & 3 & {\\color{orange}{5}} \\end{pmatrix}$, then $\\operatorname{tr} \\bf{A} = {\\color{orange}{4}} + {\\color{orange}{7}} + {\\color{orange}{5}} = 16$.\n",
    "### ***Warning***\n",
    "### Recall that trace and determinant make sense only for ***square*** matrices."
   ]
  },
  {
   "cell_type": "markdown",
   "id": "47fe3f30-6910-4729-9ec9-29884df03935",
   "metadata": {},
   "source": [
    "### ***Problem 9.3***\n",
    "### For an $n \\times n$ matrix $\\bf{A}$, how do $\\operatorname{tr}(-\\bf{A})$ and $\\det(-\\bf{A})$ relate to $\\operatorname{tr} \\bf{A}$ and $\\det \\bf{A}$?\n",
    "\n",
    "### ***Solution***\n",
    "### Negating $\\bf{A}$ negates in particular all diagonal entries of $\\bf{A}$, so $\\operatorname{tr}(-\\bf{A}) = -\\operatorname{tr} \\bf{A}$.\n",
    "### On the other hand, negating $\\bf{A}$ amounts to multiplying every row by $-1$, which multiplies $\\det \\bf{A}$ by $(-1)^n$ because there is one factor of $-1$ for each row. Thus\n",
    "### - If $n$ is even, then $\\det(-\\bf{A}) = \\det \\bf{A}$\n",
    "### - If $n$ is odd, then $\\det(-\\bf{A}) = -\\det \\bf{A}$"
   ]
  },
  {
   "cell_type": "markdown",
   "id": "373c8f35-1d68-421c-90d7-0e46f04b4222",
   "metadata": {},
   "source": [
    "## Eigenvalues, and trace and determinant\n",
    "\n",
    "### Recall that for any $2 \\times 2$ matrix $\\bf{A}$ the characteristic polynomial can also be written in terms of the trace and determinant as follows:\n",
    "## $$ \\lambda^2 - (\\operatorname{tr}\\bf{A})\\lambda + \\det\\bf{A} $$\n",
    "### ***Proof***\n",
    "### For a matrix $\\bf{A}=\\begin{pmatrix} a & b \\\\ c & d \\end{pmatrix}$, the characteristic polynomial is\n",
    "## $$ \\begin{array} {rcl} \\det (\\lambda\\bf{I}-\\bf{A}) & = & \\det \\begin{pmatrix} \\lambda-a & -b \\\\ -c & \\lambda-d \\end{pmatrix} \\\\ \\, & = & (\\lambda-a)(\\lambda-d)-bc \\\\ \\, & = & \\lambda^2-(a+d)\\lambda + (ad-bc) \\\\ \\, & = & \\lambda^2 -(\\operatorname{tr}\\bf{A})\\lambda+(\\det\\bf{A}) \\end{array} $$"
   ]
  },
  {
   "cell_type": "markdown",
   "id": "7235e66b-ff23-4616-a9c4-bad92368966d",
   "metadata": {},
   "source": [
    "### For an $n \\times n$ matrix $\\bf{A}$, where $n \\geq 2$, it turns out that the characteristic polynomial, multiplied by $\\pm 1$ to make the leading coefficient $1$, takes the form\n",
    "## $$ \\lambda^n - (\\operatorname{tr}\\bf{A})\\lambda^{n-1} + \\ldots \\pm \\det\\bf{A} $$\n",
    "### where the $\\pm$ is $+$ if $n$ is even, and $-$ if $n$ is odd.\n",
    "### So knowing $\\operatorname{tr}\\bf{A}$ and $\\det \\bf{A}$ determines $2$ coefficients of the characteristic polynomial. More importantly, since\n",
    "## $$ \\lambda^n - (\\operatorname{tr}\\bf{A})\\lambda^{n-1} + \\ldots \\pm \\det \\bf{A} = (\\lambda-\\lambda_1)(\\lambda-\\lambda_2)\\cdots(\\lambda-\\lambda_n) $$\n",
    "### where $\\lambda_1,\\ldots,\\lambda_n$ are the $n$ (not necessarily distinct) eigenvalues. Comparing coefficients gives\n",
    "## $$ \\operatorname{tr}(\\bf{A}) = \\lambda_1 + \\lambda_2 + \\cdots + \\lambda_n $$\n",
    "## $$ \\det(\\bf{A}) = (\\lambda_1)(\\lambda_2)\\cdots(\\lambda_n) $$\n",
    "### In other words, the trace is the ***sum*** of all $n$ (not necessarily distinct) eigenvalues; the determinant is the ***product*** of all $n$ eigenvalues."
   ]
  },
  {
   "cell_type": "markdown",
   "id": "d924131a-0013-42d3-b200-9a3a927db72f",
   "metadata": {},
   "source": [
    "## Complex eigenvalues and eigenvectors\n",
    "\n",
    "### Recall that complex non-real eigenvalues come in pairs of complex conjugates. It turns out the eigenvectors of a complex eigenvalue are the complex conjugates of the eigenvectors of the conjugate eigenvalue."
   ]
  },
  {
   "cell_type": "markdown",
   "id": "880579b2-1327-4c17-99e2-0c168c6cd74a",
   "metadata": {},
   "source": [
    "### ***Example 11.1***\n",
    "### Find the eigenvalues and eigenvectors of the matrix $\\bf{A} = \\begin{pmatrix} 0 & -1 & 0 \\\\ 1 & 0 & 0 \\\\ 0 & 0 & 1 \\end{pmatrix}$.\n",
    "### We have found previously that the eigenvalues are $1$, $\\pm i$. Let us now find the eigenvectors. We will start with those of the complex eigenvalue $i$.\n",
    "\n",
    "### ***Eigenspace of*** $i$: $\\operatorname{NS}(i\\bf{I}-\\bf{A})$\n",
    "### We reduce $i\\bf{I}-\\bf{A}$ to row echelon form\n",
    "## $$ \\begin{array} {rcccl} i\\bf{I}-\\bf{A} & = & \\begin{pmatrix} i & 1 & 0 \\\\ -1 & i & 0 \\\\ 0 & 0 & i-1 \\end{pmatrix} & \\to & \\begin{pmatrix} i & 1 & 0 \\\\ -1-(i*i) & i-(i*1) & 0-(i*0) \\\\ 0 & 0 & i-1 \\end{pmatrix} \\\\ \\, & \\to & \\begin{pmatrix} i & 1 & 0 \\\\ 0 & 0 & 0 \\\\ 0 & 0 & i-1 \\end{pmatrix} & \\to & \\begin{pmatrix} i & 1 & 0 \\\\ 0 & 0 & i-1 \\\\ 0 & 0 & 0 \\end{pmatrix} \\\\ \\, & \\to & \\begin{pmatrix} i & 1 & 0 \\\\ \\frac{0}{1-i} & \\frac{0}{1-i} & \\frac{i-1}{1-i} \\\\ 0 & 0 & 0 \\end{pmatrix} & \\to & \\begin{pmatrix} i & 1 & 0 \\\\ 0 & 0 & -1 \\\\ 0 & 0 & 0 \\end{pmatrix} \\end{array} $$"
   ]
  },
  {
   "cell_type": "code",
   "execution_count": null,
   "id": "927f5ddc-7a27-4e99-8599-aa1f956c866d",
   "metadata": {},
   "outputs": [],
   "source": []
  }
 ],
 "metadata": {
  "kernelspec": {
   "display_name": "Python 3",
   "language": "python",
   "name": "python3"
  },
  "language_info": {
   "codemirror_mode": {
    "name": "ipython",
    "version": 3
   },
   "file_extension": ".py",
   "mimetype": "text/x-python",
   "name": "python",
   "nbconvert_exporter": "python",
   "pygments_lexer": "ipython3",
   "version": "3.8.8"
  }
 },
 "nbformat": 4,
 "nbformat_minor": 5
}

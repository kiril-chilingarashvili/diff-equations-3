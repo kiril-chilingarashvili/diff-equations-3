{
 "cells": [
  {
   "cell_type": "markdown",
   "id": "5fc1448f-7d3f-4dae-baf9-f119336d7a21",
   "metadata": {},
   "source": [
    "# Unit 2: Linear Algebra, Part 2"
   ]
  },
  {
   "cell_type": "markdown",
   "id": "923cb855-32fb-435c-be28-8caaef479a01",
   "metadata": {},
   "source": [
    "## Example: a projection\n",
    "\n",
    "### Let $\\bf{f}$ be the function from $\\mathbb{R}^3$ to $\\mathbb{R}^3$ that projects all of $\\mathbb{R}^3$ onto the $xy$-plane:\n",
    "## $$ \\bf{f} \\begin{pmatrix} x \\\\ y \\\\ z \\end{pmatrix} = \\begin{pmatrix} x \\\\ y \\\\ 0 \\end{pmatrix} $$\n",
    "\n",
    "### 1. What is the matrix $\\bf{A}$ that represents $\\bf{f}$?\n",
    "### 2. Which vectors from the input vector spae does $\\bf{f}$ map to $\\bf{0}$?\n",
    "### 3. Describe the range (or omage) of $\\bf{f}$ geometrically in the output space. Recall that the range of $\\bf{f}$ is the set of all vectors $\\bf{b} = \\bf{f}(\\bf{x})$ for all vectors $\\bf{x}$ in the input space.\n",
    "\n",
    "### ***Solution***:\n",
    "### 1. $\\bf{A}$ is a $3 \\times 3$ matrix such that\n",
    "## $$ \\begin{array} {lcccr} (\\text{first column of}\\,\\bf{A}) & = & \\bf{f} \\begin{pmatrix} 1 \\\\ 0 \\\\ 0 \\end{pmatrix} & = & \\begin{pmatrix} 1 \\\\ 0 \\\\ 0 \\end{pmatrix} \\\\ (\\text{second column of}\\,\\bf{A}) & = & \\bf{f} \\begin{pmatrix} 0 \\\\ 1 \\\\ 0 \\end{pmatrix} & = & \\begin{pmatrix} 0 \\\\ 1 \\\\ 0  \\end{pmatrix} \\\\ (\\text{third column of}\\,\\bf{A}) & = & \\bf{f} \\begin{pmatrix} 0 \\\\ 0 \\\\ 1 \\end{pmatrix} & = & \\begin{pmatrix} 0 \\\\ 0 \\\\ 0 \\end{pmatrix} \\end{array} $$\n",
    "\n",
    "### Thus $\\bf{A} = \\begin{pmatrix} 1 & 0 & 0 \\\\ 0 & 1 & 0 \\\\ 0 & 0 & 0 \\end{pmatrix} $.\n",
    "\n",
    "### 2. Note that $\\bf{f} \\begin{pmatrix} x \\\\ y \\\\ z \\end{pmatrix} = \\begin{pmatrix} x \\\\ y \\\\ 0 \\end{pmatrix} $ is the zero vector if and only if $x = 0$ and $y = 0$. Thus the projection takes any vector of the form $\\begin{pmatrix} 0 \\\\ 0 \\\\ z \\end{pmatrix}$ to the zero vector. Geometrically, this says that the entire $z$-axis is sent to the zero vector.\n",
    "![Projection](img/projection.png)\n",
    "\n",
    "### The set of vectors mapped to $\\bf{0}$ by $\\bf{f}$ is the same as the set of solutions to $\\bf{A} \\bf{x} = \\bf{0}$. \n",
    "### Using our algorithm from the last lecture, we find the set of solutions to $\\bf{A}\\bf{x} = \\bf{0}$. \n",
    "### This set of solutions forms a vector space called the ***nullspace***. The nullspace $\\operatorname{NS}(\\bf{A})$ is a subspace of the ***input*** space; in this example:\n",
    "## $$ \\begin{array} {rcl} \\operatorname{NS}(\\bf{A}) & = & \\{ \\text{solutions to}\\, \\bf{A}\\bf{x} = \\bf{0} \\} \\\\ \\, & = & \\{ \\text{solutions to}\\,\\bf{f}(x,y,z) = \\bf{0} \\} \\\\ \\, & = & \\{ (0, 0, z): z \\in \\mathbb{R} \\} \\\\ \\, & = & \\text{the }\\, z\\text{-axis in the input space}\\, \\mathbb{R}^3 \\end{array} $$\n",
    "\n",
    "### 3. The set of all vectors $\\bf{b}$ in the image (also called range) of $\\bf{f}$ are all vectors $\\bf{f}(\\bf{x})$; in our example:\n",
    "## $$ \\begin{array} {rcl} \\text{Image of}\\,\\bf{f}(x,y,z) & = & \\{ (x, y, 0): x,y \\in \\mathbb{R} \\} \\\\ \\, & = & \\text{the }\\, xy\\text{-plane in the output space}\\, \\mathbb{R}^3 \\end{array} $$\n",
    "\n",
    "### Another way of thinking of this is as the set of all vectors $\\bf{f}$ that can be written as $\\bf{A}\\bf{x}$ for some vector $\\bf{x}$; in our example:\n",
    "## $$ \\text{All vectors}\\, \\bf{A}\\bf{x} = \\text{all linear combinations of the columns of }\\,\\bf{A} $$\n",
    "\n",
    "### Therefore the set of al vectors $\\bf{b} = \\bf{A}\\bf{x}$ is the same as the span of the columns of $\\bf{A}$. \n",
    "### The span of the columns of $\\bf{A}$ is called the ***column space*** $\\operatorname{CS}(\\bf{A})$; it is a subspace of the ***output space***."
   ]
  },
  {
   "cell_type": "code",
   "execution_count": null,
   "id": "21dd961d-6339-4a08-b187-8c235f2031b2",
   "metadata": {},
   "outputs": [],
   "source": []
  }
 ],
 "metadata": {
  "kernelspec": {
   "display_name": "Python 3",
   "language": "python",
   "name": "python3"
  },
  "language_info": {
   "codemirror_mode": {
    "name": "ipython",
    "version": 3
   },
   "file_extension": ".py",
   "mimetype": "text/x-python",
   "name": "python",
   "nbconvert_exporter": "python",
   "pygments_lexer": "ipython3",
   "version": "3.8.8"
  }
 },
 "nbformat": 4,
 "nbformat_minor": 5
}

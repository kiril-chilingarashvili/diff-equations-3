{
 "cells": [
  {
   "cell_type": "markdown",
   "id": "5fcf9d58-9752-44ed-963e-221143d4ea04",
   "metadata": {},
   "source": [
    "# Unit 3: Solving systems of first order ODEs using matrix methods, Part b"
   ]
  },
  {
   "cell_type": "markdown",
   "id": "69969cb3-3072-4cd8-89cc-3f68e9ac95b5",
   "metadata": {},
   "source": [
    "## General solution to inhomogeneous systems\n",
    "\n",
    "### Recall that an ***inhomogeneous*** first order $n \\times n$ linear system of ODEs is\n",
    "## $$ \\dot{\\bf{x}} =\\bf{A}\\bf{x}+{\\color{red}{\\bf{r}(t)}} $$\n",
    "### where $\\bf{A}$ is an $n \\times n$ matrix, ${\\color{red}{\\bf{r}(t)}}$ is a vector in $n$-dimensional space, and they both depend only on the independent variable $t$ \n",
    "### The general solution to such an inhomogeneous system is\n",
    "## $$ \\bf{x}(t) = \\underbrace{\\bf{x_h}(t)}_{\\text{homogenous}}+{\\color{red}{\\underbrace{\\bf{x_p}(t)}_{\\text{particular}}}} $$\n",
    "### where $\\bf{x_h}$ is the general solution to the associated homogeneous system:\n",
    "## $$ \\dot{\\bf{x}}_h = \\bf{A}\\bf{x_h} $$\n",
    "### and ${\\color{red}{\\bf{x_p}}}$ is one particular solution satisfying the full inhomogeneous equation:\n",
    "## $$ {\\color{red}{\\dot{\\bf{x}}_p}} = \\bf{A}{\\color{red}{\\bf{x_p}}} + {\\color{red}{\\bf{r}}} $$\n",
    "### This is due to the linearity of the system and the superposition principle.\n",
    "### As before in this course, we will restrict ourselves to the case when $\\bf{A}$ is ***constant***."
   ]
  },
  {
   "cell_type": "markdown",
   "id": "95f896ce-70bb-4d06-aa49-c86bbcb10410",
   "metadata": {},
   "source": [
    "## Variation of parameters\n",
    "\n",
    "### Long ago, we used ***variation of parameters*** to solve single first order inhomogeneous linear ODEs\n",
    "## $$ \\dot{\\bf{x}}+p(t)x = r(t) $$ \n",
    "### We first find a solution #x_h# to the associated homogeneous equation, seek a particular solution of the form $x_p(t) = u(t)x_h(t)$, and use the original inhomogeneous ODE to solve for the unknown function $u(t)$.\n",
    "### Now, we are going to use the same idea to solve an inhomogeneous linear $n \\times n$ ***system*** of ODEs:\n",
    "## $$ \\dot{\\bf{x}} = \\bf{A}\\bf{x}+\\bf{r} $$\n",
    "### where $\\bf{r}$ is a vector-valued function of $t$.\n",
    "### First, find a basis of solutions to the corresponding homogeneous system\n",
    "## $$ \\dot{\\bf{x}} = \\bf{A}\\bf{x} $$\n",
    "### Call the basis solutions $\\bf{x_1}, \\bf{x_2}, \\ldots,\\bf{x_n}(t)$.  The general homogeneous solution is any linear combination of these:\n",
    "## $$ \\bf{x_h}(t) = c_1\\bf{x_1}+c_2\\bf{x_2}+\\ldots+c_n\\bf{x_n} $$\n",
    "## $$ =\\bf{X}\\bf{c} \\quad \\text{where} \\, \\bf{X} = \\begin{pmatrix} | & | &  & | \\\\ \\bf{x_1} & \\bf{x_2} & \\cdots & \\bf{x_n} \\\\ | & | & & | \\end{pmatrix}, \\bf{c} = \\begin{pmatrix} c_1 \\\\ c_2 \\\\ \\vdots \\\\ c_n \\end{pmatrix} $$\n",
    "### Notice that in 1 dimension, $x_h(t) = c x_1(t) = x_1(t)c$, but in higher dimensions, $\\bf{x_h}(t) = \\bf{X}\\bf{c}$ where $\\bf{c}$ is a column vector and must be placed to the right of the fundamental matrix $\\bf{X}$.\n",
    "### To find a particular solution, we let the coefficients $c_i$ vary with time. In other words, replace the constant vector $\\bf{c}$ by the vector ***function***\n",
    "## $$ \\bf{v}(t) = \\begin{pmatrix} v_1 (t) \\\\ v_2 (t) \\\\ \\vdots \\\\ v_n(t) \\end{pmatrix} $$\n",
    "### Now, substitute $\\bf{x} = \\bf{X}\\bf{v}(t)$ in the original system:\n",
    "## $$ \\begin{array} {rcl} \\dot{\\bf{x}} & = & \\bf{A}\\bf{x}+\\bf{r} \\\\ \\dot{\\bf{X}}\\bf{v}+\\bf{X}\\dot{\\bf{v}} & = & \\bf{A} \\bf{X}\\bf{v} + \\bf{r} \\quad (\\text{product rule of differentiation}) \\\\ \\bf{A}\\bf{X}\\bf{v}+\\bf{X}\\dot{\\bf{v}} & = & \\bf{A}\\bf{X}\\bf{v}+\\bf{r} \\quad (\\dot{\\bf{X}} = \\bf{A}\\bf{X}) \\\\ \\bf{X}\\dot{\\bf{v}} & = & \\bf{r} \\\\ \\dot{\\bf{v}} & = & \\bf{X}^{-1}\\bf{r} \\quad (\\bf{X}\\,\\text{invertible}) \\end{array} $$\n",
    "### This means\n",
    "## $$ \\bf{v}(t) = \\int \\bf{X}^{-1}\\bf{r} dt $$\n",
    "### and the general solution to the inhomogeneous system is\n",
    "## $$ \\bf{x}(t) = \\bf{X}\\bf{v}(t) = \\bf{X} \\left( \\int \\bf{X}^{-1} \\bf{r} dt \\right) $$\n",
    "### for any fundamental matrix $\\bf{X}$ of the associated homogeneous system.\n",
    "\n",
    "### This is a family of solutions because the indefinite integral on the right hand side will result in a constant of integration. Note that the constant of integration is a column vector."
   ]
  },
  {
   "cell_type": "code",
   "execution_count": null,
   "id": "57d2b467-753a-4aa2-9555-3bb6be126012",
   "metadata": {},
   "outputs": [],
   "source": []
  }
 ],
 "metadata": {
  "kernelspec": {
   "display_name": "Python 3 (ipykernel)",
   "language": "python",
   "name": "python3"
  },
  "language_info": {
   "codemirror_mode": {
    "name": "ipython",
    "version": 3
   },
   "file_extension": ".py",
   "mimetype": "text/x-python",
   "name": "python",
   "nbconvert_exporter": "python",
   "pygments_lexer": "ipython3",
   "version": "3.9.7"
  }
 },
 "nbformat": 4,
 "nbformat_minor": 5
}

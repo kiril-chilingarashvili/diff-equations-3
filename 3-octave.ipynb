{
 "cells": [
  {
   "cell_type": "code",
   "execution_count": 1,
   "id": "8579be8c-b3d8-4959-ad00-6454566d3dcc",
   "metadata": {},
   "outputs": [
    {
     "name": "stdout",
     "output_type": "stream",
     "text": [
      "A =\n",
      "\n",
      "  -1   1   0\n",
      "   1  -2   1\n",
      "   0   1  -1\n",
      "\n",
      "S =\n",
      "\n",
      "  -4.0825e-01  -7.0711e-01   5.7735e-01\n",
      "   8.1650e-01   9.7145e-17   5.7735e-01\n",
      "  -4.0825e-01   7.0711e-01   5.7735e-01\n",
      "\n",
      "D =\n",
      "\n",
      "Diagonal Matrix\n",
      "\n",
      "  -3.0000e+00            0            0\n",
      "            0  -1.0000e+00            0\n",
      "            0            0  -9.9966e-17\n",
      "\n"
     ]
    }
   ],
   "source": [
    "A = [\n",
    "    -1,1,0;\n",
    "    1,-2,1;\n",
    "    0,1,-1\n",
    "]\n",
    "[S,D]=eig(A)"
   ]
  },
  {
   "cell_type": "code",
   "execution_count": 4,
   "id": "8676119a-9a23-421d-9e89-893f563e3eef",
   "metadata": {},
   "outputs": [
    {
     "name": "stdout",
     "output_type": "stream",
     "text": [
      "c =\n",
      "\n",
      "  -0.7071\n",
      "   0.7071\n",
      "\n"
     ]
    }
   ],
   "source": [
    "% Input the 2x2 matrix describing your linear system as a variable A\n",
    "A = [\n",
    "    -1,1;\n",
    "    1,-1\n",
    "];\n",
    "% Input your initial conditions as a column vector x0\n",
    "x0 = [\n",
    "    0;\n",
    "    1\n",
    "];\n",
    "% Use eig(A) to find the eigenvalues and eigenvectors of A. \n",
    "% Then define the eigenvectors as column vectors v1 and v2, and the eigenvalues as lambda1, lambda2\n",
    "% so that A*v1 = lambda1*v1, etc.\n",
    "[V,D] = eig(A);\n",
    "v1 = V(:,1);\n",
    "v2 = V(:,2);\n",
    "lambda1 = D(1,1);\n",
    "lambda2 = D(2,2);\n",
    "% Calculate the column vector c = [c1;c2] from the initial conditions using inv(V)\n",
    "c = inv(V)*x0;\n",
    "c1 = c(1,1);\n",
    "c2 = c(2,1);\n",
    "c"
   ]
  },
  {
   "cell_type": "code",
   "execution_count": 10,
   "id": "170701bf-c001-440d-9cb6-62eb2676884a",
   "metadata": {},
   "outputs": [
    {
     "name": "stdout",
     "output_type": "stream",
     "text": [
      " added to session magics.\n",
      "\n"
     ]
    },
    {
     "data": {
      "image/png": "[encoded data removed]",
      "text/plain": [
       "<IPython.core.display.Image object>"
      ]
     },
     "metadata": {},
     "output_type": "display_data"
    }
   ],
   "source": [
    "%%% Copy and paste all of the correct code from the previous part here\n",
    "% Input the 2x2 matrix describing your linear system as a variable A\n",
    "A = [\n",
    "    -1,1;\n",
    "    1,-1\n",
    "];\n",
    "% Input your initial conditions as a column vector x0\n",
    "x0 = [\n",
    "    0;\n",
    "    1\n",
    "];\n",
    "% Use eig(A) to find the eigenvalues and eigenvectors of A. \n",
    "% Then define the eigenvectors as column vectors v1 and v2, and the eigenvalues as lambda1, lambda2\n",
    "% so that A*v1 = lambda1*v1, etc.\n",
    "[V,D] = eig(A);\n",
    "v1 = V(:,1);\n",
    "v2 = V(:,2);\n",
    "lambda1 = D(1,1);\n",
    "lambda2 = D(2,2);\n",
    "% Calculate the column vector c = [c1;c2] from the initial conditions using inv(V)\n",
    "c = inv(V)*x0;\n",
    "c1 = c(1,1); c2 = c(2,1);\n",
    "%%% Define a row vector t with 100 equally spaced entries, \n",
    "%%% beginning with 0 and ending at 4.\n",
    "t = linspace(0,4,100);\n",
    "%%% Define two row vectors h1 and h2, with entries corresponding \n",
    "%%% to h1(t) and h2(t) evaluated at each time in t.\n",
    "h1 = c1*exp(lambda1*t)*v1(1,1)+c2*exp(lambda2*t)*v2(1,1);\n",
    "h2 = c1*exp(lambda1*t)*v1(2,1)+c2*exp(lambda2*t)*v2(2,1);\n",
    "%%% Now use plot to plot the two vectors against time on the same figure\n",
    "%\n",
    "plot(t,h1) %tell MATLAB to plot h1 here\n",
    "%\n",
    "hold on % You need to put this command in between the plot commands so that the curves appear on the same figure\n",
    "%\n",
    "plot(t,h2) %tell MATLAB to plot h2 here\n",
    "%\n",
    "% Don't worry about the following commands, they are just formatting commands for the figure\n",
    "set(gca,'fontsize',18)\n",
    "xlabel('Time')\n",
    "ylabel('Volume')\n",
    "title('Time series')\n"
   ]
  },
  {
   "cell_type": "code",
   "execution_count": 11,
   "id": "38c4eed1-f697-473c-b2e9-9dfb29e4b1e8",
   "metadata": {},
   "outputs": [
    {
     "data": {
      "image/png": "[encoded data removed]",
      "text/plain": [
       "<IPython.core.display.Image object>"
      ]
     },
     "metadata": {},
     "output_type": "display_data"
    }
   ],
   "source": [
    "% Input the 3x3 matrix describing your linear system as a variable A\n",
    "A = [\n",
    "    -2,1,1;\n",
    "    1,-2,1;\n",
    "    1,1,-2\n",
    "];\n",
    "% Input your initial conditions as a column vector x0\n",
    "x0 =[\n",
    "    0;\n",
    "    1;\n",
    "    0\n",
    "];\n",
    "% Use eig(A) to find the eigenvalues and eigenvectors of A \n",
    "% Define the eigenvectors as column vectors v1, v2 and v3,\n",
    "% and the eigenvalues as lambda1, lambda2, lambda3\n",
    "% so that A*v1 = lambda1*v1, etc.\n",
    "[V,D] = eig(A);\n",
    "v1 = V(:,1);\n",
    "v2 = V(:,2);\n",
    "v3 = V(:,3);\n",
    "lambda1 = D(1,1);\n",
    "lambda2 = D(2,2);\n",
    "lambda3 = D(3,3);\n",
    "% Calculate the column vector c = [c1;c2;c3] from the initial conditions using inv(V)\n",
    "c = inv(V)*x0;\n",
    "c1 = c(1,1); c2 = c(2,1); c3 = c(3,1);\n",
    "%%% Define a row vector t with 100 equally spaced entries, \n",
    "%%% beginning with 0 and ending at 4.\n",
    "t = linspace(0,4,100);\n",
    "%%% Define three row vectors h1, h2 and h3, with entries corresponding \n",
    "%%% to h1(t), h2(t) and h3(t) evaluated at each time in t.\n",
    "h1 = c1*exp(lambda1*t)*v1(1,1)+c2*exp(lambda2*t)*v2(1,1)+c3*exp(lambda3*t)*v3(1,1);\n",
    "h2 = c1*exp(lambda1*t)*v1(2,1)+c2*exp(lambda2*t)*v2(2,1)+c3*exp(lambda3*t)*v3(2,1);\n",
    "h3 = c1*exp(lambda1*t)*v1(3,1)+c2*exp(lambda2*t)*v2(3,1)+c3*exp(lambda3*t)*v3(3,1);\n",
    "%%% Now use plot to plot the three vectors against time on the same figure\n",
    "plot(t,h1) %tell MATLAB to plot h1 here\n",
    "hold on\n",
    "plot(t,h2) %tell MATLAB to plot h2 here\n",
    "plot(t,h3) %tell MATLAB to plot h2 here\n",
    "set(gca,'fontsize',18)\n",
    "xlabel('Time')\n",
    "ylabel('Volume')\n",
    "title('Time series')\n"
   ]
  },
  {
   "cell_type": "code",
   "execution_count": 12,
   "id": "295f730b-3adc-47bb-99df-ee2c2ae79961",
   "metadata": {},
   "outputs": [
    {
     "data": {
      "image/png": "[encoded data removed]",
      "text/plain": [
       "<IPython.core.display.Image object>"
      ]
     },
     "metadata": {},
     "output_type": "display_data"
    }
   ],
   "source": [
    "% Input the 3x3 matrix describing your linear system as a variable A\n",
    "A = [\n",
    "    -3/2,1,1/2;\n",
    "    1,-3,2;\n",
    "    1/2,2,-5/2\n",
    "];\n",
    "% Input your initial conditions as a column vector x0\n",
    "x0 =[\n",
    "    1;\n",
    "    0;\n",
    "    1\n",
    "];\n",
    "% Use eig(A) to find the eigenvalues and eigenvectors of A \n",
    "% Define the eigenvectors as column vectors v1, v2 and v3,\n",
    "% and the eigenvalues as lambda1, lambda2, lambda3\n",
    "% so that A*v1 = lambda1*v1, etc.\n",
    "[V,D] = eig(A);\n",
    "v1 = V(:,1);\n",
    "v2 = V(:,2);\n",
    "v3 = V(:,3);\n",
    "lambda1 = D(1,1);\n",
    "lambda2 = D(2,2);\n",
    "lambda3 = D(3,3);\n",
    "% Calculate the column vector c = [c1;c2;c3] from the initial conditions using inv(V)\n",
    "c = inv(V)*x0;\n",
    "c1 = c(1,1); c2 = c(2,1); c3 = c(3,1);\n",
    "%%% Define a row vector t with 100 equally spaced entries, \n",
    "%%% beginning with 0 and ending at 4.\n",
    "t = linspace(0,4,100);\n",
    "%%% Define three row vectors h1, h2 and h3, with entries corresponding \n",
    "%%% to h1(t), h2(t) and h3(t) evaluated at each time in t.\n",
    "h1 = c1*exp(lambda1*t)*v1(1,1)+c2*exp(lambda2*t)*v2(1,1)+c3*exp(lambda3*t)*v3(1,1);\n",
    "h2 = c1*exp(lambda1*t)*v1(2,1)+c2*exp(lambda2*t)*v2(2,1)+c3*exp(lambda3*t)*v3(2,1);\n",
    "h3 = c1*exp(lambda1*t)*v1(3,1)+c2*exp(lambda2*t)*v2(3,1)+c3*exp(lambda3*t)*v3(3,1);\n",
    "%%% Now use plot to plot the three vectors against time on the same figure\n",
    "plot(t,h1) %tell MATLAB to plot h1 here\n",
    "hold on\n",
    "plot(t,h2) %tell MATLAB to plot h2 here\n",
    "plot(t,h3) %tell MATLAB to plot h2 here\n",
    "set(gca,'fontsize',18)\n",
    "xlabel('Time')\n",
    "ylabel('Volume')\n",
    "title('Time series')\n",
    "axis square\n"
   ]
  },
  {
   "cell_type": "code",
   "execution_count": 13,
   "id": "7ffae8e0-1c42-4cc3-bdb3-fc9d4d004c21",
   "metadata": {},
   "outputs": [
    {
     "data": {
      "image/png": "[encoded data removed]",
      "text/plain": [
       "<IPython.core.display.Image object>"
      ]
     },
     "metadata": {},
     "output_type": "display_data"
    }
   ],
   "source": [
    "% Input the 3x3 matrix describing your linear system as a variable A\n",
    "A = [\n",
    "    -2,1,0;\n",
    "    1,-2,1;\n",
    "    0,1,-1\n",
    "];\n",
    "% Input your initial conditions as a column vector x0\n",
    "x0 =[\n",
    "    1/2;\n",
    "    0;\n",
    "    1/2\n",
    "];\n",
    "% Use eig(A) to find the eigenvalues and eigenvectors of A \n",
    "% Define the eigenvectors as column vectors v1, v2 and v3,\n",
    "% and the eigenvalues as lambda1, lambda2, lambda3\n",
    "% so that A*v1 = lambda1*v1, etc.\n",
    "[V,D] = eig(A);\n",
    "v1 = V(:,1);\n",
    "v2 = V(:,2);\n",
    "v3 = V(:,3);\n",
    "lambda1 = D(1,1);\n",
    "lambda2 = D(2,2);\n",
    "lambda3 = D(3,3);\n",
    "% Calculate the column vector c = [c1;c2;c3] from the initial conditions using inv(V)\n",
    "c = inv(V)*x0;\n",
    "c1 = c(1,1); c2 = c(2,1); c3 = c(3,1);\n",
    "%%% Define a row vector t with 100 equally spaced entries, \n",
    "%%% beginning with 0 and ending at 4.\n",
    "t = linspace(0,4,100);\n",
    "%%% Define three row vectors h1, h2 and h3, with entries corresponding \n",
    "%%% to h1(t), h2(t) and h3(t) evaluated at each time in t.\n",
    "h1 = c1*exp(lambda1*t)*v1(1,1)+c2*exp(lambda2*t)*v2(1,1)+c3*exp(lambda3*t)*v3(1,1);\n",
    "h2 = c1*exp(lambda1*t)*v1(2,1)+c2*exp(lambda2*t)*v2(2,1)+c3*exp(lambda3*t)*v3(2,1);\n",
    "h3 = c1*exp(lambda1*t)*v1(3,1)+c2*exp(lambda2*t)*v2(3,1)+c3*exp(lambda3*t)*v3(3,1);\n",
    "%%% Now use plot to plot the three vectors against time on the same figure\n",
    "plot(t,h1) %tell MATLAB to plot h1 here\n",
    "hold on\n",
    "plot(t,h2) %tell MATLAB to plot h2 here\n",
    "plot(t,h3) %tell MATLAB to plot h3 here\n",
    "set(gca,'fontsize',18)\n",
    "xlabel('Time')\n",
    "ylabel('Volume')\n",
    "title('Time series')"
   ]
  },
  {
   "cell_type": "markdown",
   "id": "14fc9757-3b55-433c-ba03-cb5ce34db086",
   "metadata": {},
   "source": []
  }
 ],
 "metadata": {
  "kernelspec": {
   "display_name": "Octave",
   "language": "octave",
   "name": "octave"
  },
  "language_info": {
   "file_extension": ".m",
   "help_links": [
    {
     "text": "GNU Octave",
     "url": "https://www.gnu.org/software/octave/support.html"
    },
    {
     "text": "Octave Kernel",
     "url": "https://github.com/Calysto/octave_kernel"
    },
    {
     "text": "MetaKernel Magics",
     "url": "https://metakernel.readthedocs.io/en/latest/source/README.html"
    }
   ],
   "mimetype": "text/x-octave",
   "name": "octave",
   "version": "6.4.0"
  }
 },
 "nbformat": 4,
 "nbformat_minor": 5
}

{
 "cells": [
  {
   "cell_type": "code",
   "execution_count": 1,
   "id": "8579be8c-b3d8-4959-ad00-6454566d3dcc",
   "metadata": {},
   "outputs": [
    {
     "name": "stdout",
     "output_type": "stream",
     "text": [
      "A =\n",
      "\n",
      "  -1   1   0\n",
      "   1  -2   1\n",
      "   0   1  -1\n",
      "\n",
      "S =\n",
      "\n",
      "  -4.0825e-01  -7.0711e-01   5.7735e-01\n",
      "   8.1650e-01   9.7145e-17   5.7735e-01\n",
      "  -4.0825e-01   7.0711e-01   5.7735e-01\n",
      "\n",
      "D =\n",
      "\n",
      "Diagonal Matrix\n",
      "\n",
      "  -3.0000e+00            0            0\n",
      "            0  -1.0000e+00            0\n",
      "            0            0  -9.9966e-17\n",
      "\n"
     ]
    }
   ],
   "source": [
    "A = [\n",
    "    -1,1,0;\n",
    "    1,-2,1;\n",
    "    0,1,-1\n",
    "]\n",
    "[S,D]=eig(A)"
   ]
  },
  {
   "cell_type": "markdown",
   "id": "934ca377-0b9a-4c94-9a6c-f83817f12c66",
   "metadata": {},
   "source": []
  }
 ],
 "metadata": {
  "kernelspec": {
   "display_name": "Octave",
   "language": "octave",
   "name": "octave"
  },
  "language_info": {
   "file_extension": ".m",
   "help_links": [
    {
     "text": "GNU Octave",
     "url": "https://www.gnu.org/software/octave/support.html"
    },
    {
     "text": "Octave Kernel",
     "url": "https://github.com/Calysto/octave_kernel"
    },
    {
     "text": "MetaKernel Magics",
     "url": "https://metakernel.readthedocs.io/en/latest/source/README.html"
    }
   ],
   "mimetype": "text/x-octave",
   "name": "octave",
   "version": "6.4.0"
  }
 },
 "nbformat": 4,
 "nbformat_minor": 5
}

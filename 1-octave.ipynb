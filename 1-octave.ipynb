{
 "cells": [
  {
   "cell_type": "code",
   "execution_count": 1,
   "id": "9a95a3d9-9903-4bc0-acb9-a3c7704dac84",
   "metadata": {},
   "outputs": [
    {
     "name": "stdout",
     "output_type": "stream",
     "text": [
      "A =\n",
      "\n",
      "   0.085381   0.379548   0.145338   0.995693\n",
      "   0.744285   0.906137   0.573369   0.203109\n",
      "   0.332747   0.652882   0.709831   0.308164\n",
      "   0.780332   0.450178   0.180991   0.454664\n",
      "\n",
      "b =\n",
      "\n",
      "   0.33155\n",
      "   0.69587\n",
      "   0.64873\n",
      "   0.26370\n",
      "\n",
      "x =\n",
      "\n",
      "  -0.145832\n",
      "   0.642428\n",
      "   0.371241\n",
      "   0.046415\n",
      "\n",
      "b_check =\n",
      "\n",
      "   0.33155\n",
      "   0.69587\n",
      "   0.64873\n",
      "   0.26370\n",
      "\n"
     ]
    }
   ],
   "source": [
    "A = rand(4, 4)\n",
    "b = rand(4, 1)\n",
    "x = A\\b\n",
    "b_check = A*x"
   ]
  },
  {
   "cell_type": "code",
   "execution_count": 2,
   "id": "dbb7f61e-5e93-433f-bc9c-29fe71f2b5c3",
   "metadata": {},
   "outputs": [
    {
     "name": "stdout",
     "output_type": "stream",
     "text": [
      "ans =\n",
      "\n",
      "   1   2\n",
      "\n"
     ]
    }
   ],
   "source": [
    "[1,2]"
   ]
  },
  {
   "cell_type": "code",
   "execution_count": 3,
   "id": "e3fded3d-91ba-464b-96ee-476eb3ec26f0",
   "metadata": {},
   "outputs": [
    {
     "name": "stdout",
     "output_type": "stream",
     "text": [
      "A =\n",
      "\n",
      "    2    1    9\n",
      "    3    2   11\n",
      "   -1   -3    8\n",
      "    4    6   -4\n",
      "\n",
      "ans =\n",
      "\n",
      "   1   0   0\n",
      "   0   1   0\n",
      "   0   0   1\n",
      "   0   0   0\n",
      "\n"
     ]
    }
   ],
   "source": [
    "A = [2,1,9;3,2,11;-1,-3,8;4,6,-4]\n",
    "b = [0;0;0;0];\n",
    "x = A\\b;\n",
    "b_check = A*x;\n",
    "rref(A)"
   ]
  },
  {
   "cell_type": "code",
   "execution_count": 8,
   "id": "719e138b-2ee6-4091-b5f7-ae9f65ecc396",
   "metadata": {},
   "outputs": [
    {
     "name": "stdout",
     "output_type": "stream",
     "text": [
      "A =\n",
      "\n",
      "   1   2   3\n",
      "   1   2   3\n",
      "   2   5   8\n",
      "\n",
      "warning: matrix singular to machine precision\n",
      "x =\n",
      "\n",
      "   0\n",
      "   0\n",
      "   0\n",
      "\n",
      "ans =\n",
      "\n",
      "   1   0  -1\n",
      "   0   1   2\n",
      "   0   0   0\n",
      "\n"
     ]
    }
   ],
   "source": [
    "A = [1,2,3;1,2,3;2,5,8]\n",
    "b = [0;0;0];\n",
    "x = A\\b\n",
    "b_check = A*x;\n",
    "rref(A)"
   ]
  },
  {
   "cell_type": "code",
   "execution_count": 9,
   "id": "45cb8f22-7bac-47c2-a3ba-04064a038d52",
   "metadata": {},
   "outputs": [
    {
     "name": "stdout",
     "output_type": "stream",
     "text": [
      "v1 =\n",
      "\n",
      "   1\n",
      "   1\n",
      "   2\n",
      "\n",
      "v2 =\n",
      "\n",
      "   2\n",
      "   2\n",
      "   5\n",
      "\n",
      "ans =\n",
      "\n",
      "   1\n",
      "  -1\n",
      "   0\n",
      "\n"
     ]
    }
   ],
   "source": [
    "v1 = [1;1;2];\n",
    "v2 = [2;2;5];\n",
    "cross(v1, v2)\n",
    "# therefor plane equation is x - y = 0"
   ]
  },
  {
   "cell_type": "code",
   "execution_count": 1,
   "id": "278fce6a-66ef-4bdb-89d2-527863ab2f5c",
   "metadata": {},
   "outputs": [
    {
     "name": "stdout",
     "output_type": "stream",
     "text": [
      "A =\n",
      "\n",
      "   11   47  -13\n",
      "   -5   23    8\n",
      "\n",
      "x =\n",
      "\n",
      "   0\n",
      "   0\n",
      "   0\n",
      "\n",
      "ans =\n",
      "\n",
      "   1.00000   0.00000  -1.38320\n",
      "   0.00000   1.00000   0.04713\n",
      "\n"
     ]
    }
   ],
   "source": [
    "A = [11,47,-13;-5,23,8]\n",
    "b = [0;0];\n",
    "x = A\\b\n",
    "b_check = A*x;\n",
    "rref(A)"
   ]
  },
  {
   "cell_type": "code",
   "execution_count": 3,
   "id": "85d63cb1-eed9-435b-a07b-d46ac97dd4f7",
   "metadata": {},
   "outputs": [
    {
     "name": "stdout",
     "output_type": "stream",
     "text": [
      "A =\n",
      "\n",
      "   1  -2\n",
      "  -1   2\n",
      "   1  -2\n",
      "  -1   2\n",
      "\n",
      "x =\n",
      "\n",
      "   0\n",
      "   0\n",
      "\n",
      "ans =\n",
      "\n",
      "   1  -2\n",
      "   0   0\n",
      "   0   0\n",
      "   0   0\n",
      "\n"
     ]
    }
   ],
   "source": [
    "A = [1,-2;-1,2;1,-2;-1,2]\n",
    "b = [0;0;0;0];\n",
    "x = A\\b\n",
    "b_check = A*x;\n",
    "rref(A)"
   ]
  },
  {
   "cell_type": "code",
   "execution_count": 6,
   "id": "aa5ed595-9696-4433-99d9-5842227eb6af",
   "metadata": {},
   "outputs": [
    {
     "name": "stdout",
     "output_type": "stream",
     "text": [
      "A =\n",
      "\n",
      "   1   0   1\n",
      "   0   0   1\n",
      "\n",
      "x =\n",
      "\n",
      "   0\n",
      "   0\n",
      "   0\n",
      "\n",
      "rref_A =\n",
      "\n",
      "   1   0   0\n",
      "   0   0   1\n",
      "\n"
     ]
    }
   ],
   "source": [
    "A = [1,0,1;0,0,1]\n",
    "b = [0;0];\n",
    "x = A\\b\n",
    "b_check = A*x;\n",
    "rref_A = rref(A)"
   ]
  },
  {
   "cell_type": "code",
   "execution_count": 2,
   "id": "48d9a2b5-56cc-424f-be98-c9f8e91ea9cf",
   "metadata": {},
   "outputs": [
    {
     "name": "stdout",
     "output_type": "stream",
     "text": [
      "A =\n",
      "\n",
      "    0    0   -2    0    7   12\n",
      "    2    4  -10    6   12   28\n",
      "    2    4   -5    6   -5   -1\n",
      "\n",
      "rrefA =\n",
      "\n",
      "   1   2   0   3   0   7\n",
      "   0   0   1   0   0   1\n",
      "   0   0   0   0   1   2\n",
      "\n"
     ]
    }
   ],
   "source": [
    "A = [\n",
    "    0,0,-2,0,7,12;\n",
    "    2,4,-10,6,12,28;\n",
    "    2,4,-5,6,-5,-1\n",
    "    ]\n",
    "rrefA = rref(A)"
   ]
  },
  {
   "cell_type": "code",
   "execution_count": 4,
   "id": "342a183e-bb6c-4bd1-aec2-4bcb7a795674",
   "metadata": {},
   "outputs": [
    {
     "name": "stdout",
     "output_type": "stream",
     "text": [
      "A =\n",
      "\n",
      "  -3   6  -1   1   7\n",
      "   1  -2   2   3  -1\n",
      "   2  -4   5   8  -4\n",
      "\n",
      "rrefA =\n",
      "\n",
      "   1  -2   0  -1   0\n",
      "   0   0   1   2   0\n",
      "   0   0   0   0   1\n",
      "\n",
      "nullA =\n",
      "\n",
      "   0.5896   0.6783\n",
      "   0.1161   0.4661\n",
      "  -0.7149   0.5081\n",
      "   0.3575  -0.2540\n",
      "        0  -0.0000\n",
      "\n"
     ]
    }
   ],
   "source": [
    "A = [\n",
    "    -3,6,-1,1,7;\n",
    "    1,-2,2,3,-1;\n",
    "    2,-4,5,8,-4\n",
    "    ]\n",
    "rrefA = rref(A)\n",
    "nullA = null(A)"
   ]
  },
  {
   "cell_type": "code",
   "execution_count": 11,
   "id": "a713c949-8e7b-471e-a176-d2f546d3efce",
   "metadata": {},
   "outputs": [
    {
     "name": "stdout",
     "output_type": "stream",
     "text": [
      "A =\n",
      "\n",
      "   2   2  -1   0   1\n",
      "  -1  -1   2  -3   1\n",
      "   1   1  -2   0  -1\n",
      "   0   0   1   1   1\n",
      "\n",
      "rrefA =\n",
      "\n",
      "   1   1   0   0   1\n",
      "   0   0   1   0   1\n",
      "   0   0   0   1   0\n",
      "   0   0   0   0   0\n",
      "\n",
      "nullA =\n",
      "\n",
      "  -0.3935  -0.6672\n",
      "   0.7596   0.1515\n",
      "   0.3661  -0.5157\n",
      "        0        0\n",
      "  -0.3661   0.5157\n",
      "\n"
     ]
    }
   ],
   "source": [
    "A = [\n",
    "    2,2,-1,0,1;\n",
    "    -1,-1,2,-3,1;\n",
    "    1,1,-2,0,-1;\n",
    "    0,0,1,1,1\n",
    "    ]\n",
    "rrefA = rref(A)\n",
    "nullA = null(A)"
   ]
  },
  {
   "cell_type": "code",
   "execution_count": 1,
   "id": "f258ebc6-6c69-4dc2-80e7-ff739f0fe639",
   "metadata": {},
   "outputs": [
    {
     "name": "stdout",
     "output_type": "stream",
     "text": [
      "A =\n",
      "\n",
      "   1   2   3\n",
      "   2   4   6\n",
      "\n",
      "rrefA =\n",
      "\n",
      "   1   2   3\n",
      "   0   0   0\n",
      "\n",
      "nullA =\n",
      "\n",
      "   0.9449  -0.1890\n",
      "  -0.3085  -0.7868\n",
      "  -0.1093   0.5875\n",
      "\n"
     ]
    }
   ],
   "source": [
    "A = [\n",
    "    1,2,3;\n",
    "    2,4,6\n",
    "    ]\n",
    "rrefA = rref(A)\n",
    "nullA = null(A)"
   ]
  },
  {
   "cell_type": "code",
   "execution_count": 2,
   "id": "79955e93-75ad-4a1b-b053-60301179fe19",
   "metadata": {},
   "outputs": [
    {
     "name": "stdout",
     "output_type": "stream",
     "text": [
      "v =\n",
      "\n",
      "   1   2   3\n",
      "\n"
     ]
    }
   ],
   "source": [
    "% Create a row vector v with at least two entries.\n",
    "% Run the code with and without the semicolon.\n",
    "\n",
    "% vector with three entries\n",
    "v = [1,2,3]\n",
    "\n",
    "% Try submitting your answer! You have infinitely many attempts to submit MATLAB problems in edX"
   ]
  },
  {
   "cell_type": "code",
   "execution_count": 3,
   "id": "4ac612a4-a848-48e0-b7e2-4e755fcb08c1",
   "metadata": {},
   "outputs": [
    {
     "name": "stdout",
     "output_type": "stream",
     "text": [
      "v2 =\n",
      "\n",
      "  -1\n",
      "   0\n",
      "   2\n",
      "   1\n",
      "\n",
      "A =\n",
      "\n",
      "  -1   1   9\n",
      "   0   0   1\n",
      "  -2  -3   2\n",
      "\n",
      "B =\n",
      "\n",
      "    1    1    2    3\n",
      "    5    8   13   21\n",
      "\n"
     ]
    }
   ],
   "source": [
    "% Firstly define the row vector v1 defined above\n",
    "v1 = [-1,2,4];\n",
    "% Note that we end the line with a semicolon. This just tells MATLAB not to output the value of v1.\n",
    "%\n",
    "% Now define the column vector v2 defined above.\n",
    "v2 = [-1;0;2;1]\n",
    "% Now define the square matrix A defined above.\n",
    "A = [-1,1,9;0,0,1;-2,-3,2]\n",
    "% Now define the matrix B defined above.\n",
    "B = [1,1,2,3;5,8,13,21]\n"
   ]
  },
  {
   "cell_type": "code",
   "execution_count": 4,
   "id": "4f3db71b-1484-4b93-bd3d-7d88fbffc86e",
   "metadata": {},
   "outputs": [
    {
     "name": "stdout",
     "output_type": "stream",
     "text": [
      "B =\n",
      "\n",
      "   29   10    6\n",
      "   28   22   30\n",
      "   28   24   43\n",
      "\n"
     ]
    }
   ],
   "source": [
    "% Firstly enter a 3x3 matrix B of random integers\n",
    "B = randi([0,50],3)\n",
    "% Now define b and v\n",
    "b = B(2,3);\n",
    "v = B(2,:);"
   ]
  },
  {
   "cell_type": "code",
   "execution_count": 5,
   "id": "455590cc-f349-4a9a-8605-89136ad4397a",
   "metadata": {},
   "outputs": [
    {
     "name": "stdout",
     "output_type": "stream",
     "text": [
      "Aug =\n",
      "\n",
      "    2    1    1    1\n",
      "    1    7    4   -1\n",
      "   -3    5   10    1\n",
      "\n",
      "R =\n",
      "\n",
      "   1.0000        0        0   0.5000\n",
      "        0   1.0000        0  -0.5000\n",
      "        0        0   1.0000   0.5000\n",
      "\n",
      "x =\n",
      "\n",
      "   0.5000\n",
      "  -0.5000\n",
      "   0.5000\n",
      "\n",
      "b1 =\n",
      "\n",
      "   1.0000\n",
      "  -1.0000\n",
      "   1.0000\n",
      "\n"
     ]
    }
   ],
   "source": [
    "% Input your 3x3 matrix A and the 3x1 vector b\n",
    "A = [2,1,1;1,7,4;-3,5,10];\n",
    "b = [1;-1;1];\n",
    "% Now create the 3x4 matrix Augmented matrix. You do not need to type out all of the elements again!\n",
    "% Think about what we learnt about creating arrays in recitation 1.\n",
    "%\n",
    "Aug = [A,b]\n",
    "%\n",
    "% MATLAB will now calculate the reduced row echelon form of Aug\n",
    "%\n",
    "R = rref(Aug)\n",
    "%\n",
    "% Recall For a 3x3 matrix, the solution x (if it exists) will just be the last column of R. \n",
    "% Extract the last column of R and assign it to a variable x.\n",
    "%\n",
    "x = R(:,4)\n",
    "%\n",
    "% Now check that this does indeed solve the problem by calculating b1 = A*x.\n",
    "b1 = A*x   "
   ]
  },
  {
   "cell_type": "code",
   "execution_count": 6,
   "id": "5a4e4f41-2df4-4e95-9244-ea86eb5f9c17",
   "metadata": {},
   "outputs": [
    {
     "name": "stdout",
     "output_type": "stream",
     "text": [
      "A =\n",
      "\n",
      "   0.1750   0.2691   0.4730   0.4703\n",
      "   0.5141   0.7232   0.9495   0.6513\n",
      "   0.6380   0.2435   0.2054   0.8970\n",
      "   0.7047   0.2410   0.7851   0.1270\n",
      "\n",
      "b =\n",
      "\n",
      "   0.4173\n",
      "   0.9646\n",
      "   0.8161\n",
      "   0.1755\n",
      "\n",
      "x =\n",
      "\n",
      "   0.2071\n",
      "   1.3200\n",
      "  -0.4496\n",
      "   0.5071\n",
      "\n",
      "ans =\n",
      "\n",
      "   0.4173\n",
      "   0.9646\n",
      "   0.8161\n",
      "   0.1755\n",
      "\n"
     ]
    }
   ],
   "source": [
    "%create a random 4x4 matrix A (values between 0 and 1)\n",
    "A = rand(4,4)\n",
    "%create a random column vector b with 4 entries (values between 0 and 1)\n",
    "b = rand(4,1)\n",
    "\n",
    "%Solve the linear system Ax=b using the backslash command\n",
    "x = A\\b\n",
    "\n",
    "A*x\n"
   ]
  },
  {
   "cell_type": "code",
   "execution_count": 7,
   "id": "f93729ed-e8cb-4fdf-9c1c-f292c6956639",
   "metadata": {},
   "outputs": [
    {
     "name": "stdout",
     "output_type": "stream",
     "text": [
      "N =\n",
      "\n",
      "   1   0   0\n",
      "   0  -3  -5\n",
      "   0   1   0\n",
      "   0   0  -7\n",
      "   0   0  -9\n",
      "   0   0   1\n",
      "\n"
     ]
    }
   ],
   "source": [
    "B = [0 1 3 0 0 5; 0 0 0 1 0 7; 0 0 0 0 1 9; 0 0 0 0 0 0];\n",
    "% Create a matrix N whose columns are a basis for the nullspace of B.\n",
    "N=[1,0,0;0,-3,-5;0,1,0;0,0,-7;0,0,-9;0,0,1]"
   ]
  },
  {
   "cell_type": "code",
   "execution_count": 8,
   "id": "191a116d-f853-426a-8dcf-34b729ebfc55",
   "metadata": {},
   "outputs": [
    {
     "name": "stdout",
     "output_type": "stream",
     "text": [
      "N =\n",
      "\n",
      "   0.024212  -0.784632  -0.076250\n",
      "  -0.740864   0.147882   0.411593\n",
      "  -0.490099   0.048864  -0.038854\n",
      "   0.239334   0.050153   0.489302\n",
      "  -0.126058   0.292654  -0.676401\n",
      "   0.113277   0.342807  -0.187099\n",
      "   0.352611   0.392960   0.302203\n",
      "\n",
      "size =\n",
      "\n",
      "   7   3\n",
      "\n",
      "dim = 3\n",
      "B =\n",
      "\n",
      "   4.6291e-16   1.7635e-16   2.2007e-16\n",
      "   1.4871e-16  -5.5216e-17   1.6763e-16\n",
      "   1.0003e-16   2.0042e-16  -3.8716e-17\n",
      "  -1.2277e-16   1.8425e-16   1.3043e-16\n",
      "   1.9565e-16  -1.1228e-16  -4.2176e-16\n",
      "   5.3043e-16  -2.2219e-17   2.7351e-17\n",
      "  -2.5262e-16  -1.2165e-16  -2.3909e-16\n",
      "   3.4309e-16   9.0206e-17  -1.2546e-16\n",
      "\n"
     ]
    }
   ],
   "source": [
    "%The matrix A is defined for you (and locked so you cannot change its definition)\n",
    "A = [0.9653    0.0345    0.8963   -0.8830   -0.4327    0.9822    1.3811;\n",
    "    -0.4002   -0.3695    0.3388   -0.7290   -0.0606   -1.3775    0.6377;\n",
    "     0.6734   -0.2631    1.1996    0.6106    0.1278    0.7653    0.4537;\n",
    "     0.9755   -0.2065    1.3885    0.4758    0.5416    0.1616    1.2478;\n",
    "     0.2546   -0.4360    1.1266    0.8531   -0.7262    2.1241   -0.8887;\n",
    "     0.1431   -0.8431    1.8293   -0.7305   -0.5756   -0.2793    1.1411;\n",
    "    -0.2426    0.3752   -0.9930    0.9713   -0.0005    1.1049   -1.5896;\n",
    "     0.5974   -0.6121    1.8216    0.0908   -0.5123    1.1007    0.6064];\n",
    "%Find the dimension of its nullspace\n",
    "%You must create a matrix N and variable dim as described above.\n",
    "N = null(A)\n",
    "size = size(N)\n",
    "dim = size(2)\n",
    "\n",
    "%Finally, look at B = A*N. Is this a matrix of zeroes? Why or why not?\n",
    "%Note that numerically, values close to zero should be assumed to be equal to zero.\n",
    "%But why is it not an exact equality?\n",
    "B = A * N"
   ]
  },
  {
   "cell_type": "code",
   "execution_count": 9,
   "id": "d2819997-acae-4b4e-ac2d-8558e5db5b24",
   "metadata": {},
   "outputs": [
    {
     "name": "stdout",
     "output_type": "stream",
     "text": [
      "b =\n",
      "\n",
      "   0\n",
      "   0\n",
      "   0\n",
      "   0\n",
      "\n",
      "x =\n",
      "\n",
      "   0\n",
      "   0\n",
      "   0\n",
      "   0\n",
      "   0\n",
      "\n",
      "N =\n",
      "\n",
      "  -0.6325        0\n",
      "  -0.0000        0\n",
      "   0.6325        0\n",
      "   0.3162   0.7071\n",
      "  -0.3162   0.7071\n",
      "\n",
      "error: size(-0.632456): subscripts must be either integers 1 to (2^63)-1 or logicals (note: variable 'size' shadows function)\n",
      "error: 'sizeN' undefined near line 1, column 1\n"
     ]
    }
   ],
   "source": [
    "warning off backtrace\n",
    "% The matrix A below\n",
    "A = [ -0.7950   -2.3851   -0.9578    0.1628   -0.1628;\n",
    "      -0.1236   -0.3708   -0.8113    0.6877   -0.6877;\n",
    "      -0.5517   -1.6551    0.5935   -1.1452    1.1452;\n",
    "       0.3406    1.0219   -0.1154    0.4560   -0.4560];\n",
    "%Use the backslash command to solve for x \n",
    "b = [0;0;0;0]\n",
    "x = A\\b\n",
    "\n",
    "% Find the dimension of the nullspace to see if this makes any sense. \n",
    "% Store the dimension in a variable called dim\n",
    "% Hint first run the code (commenting out the line below), then enter a number.\n",
    "N = null(A)\n",
    "sizeN = size(N)\n",
    "dim = sizeN(2)\n",
    "\n"
   ]
  },
  {
   "cell_type": "code",
   "execution_count": 10,
   "id": "39a30462-e80f-4ae9-a188-e841b03eee39",
   "metadata": {},
   "outputs": [
    {
     "name": "stdout",
     "output_type": "stream",
     "text": [
      "b =\n",
      "\n",
      "   0\n",
      "   0\n",
      "   0\n",
      "   0\n",
      "\n",
      "N =\n",
      "\n",
      "  -0.6325        0\n",
      "  -0.0000        0\n",
      "   0.6325        0\n",
      "   0.3162   0.7071\n",
      "  -0.3162   0.7071\n",
      "\n",
      "error: size(-0.632456): subscripts must be either integers 1 to (2^63)-1 or logicals (note: variable 'size' shadows function)\n",
      "x =\n",
      "\n",
      "        0\n",
      "        0\n",
      "        0\n",
      "   0.7071\n",
      "   0.7071\n",
      "\n"
     ]
    }
   ],
   "source": [
    "%Find a nonzero solution x to Ax=0.\n",
    "A = [ -0.7950   -2.3851   -0.9578    0.1628   -0.1628;\n",
    "      -0.1236   -0.3708   -0.8113    0.6877   -0.6877;\n",
    "      -0.5517   -1.6551    0.5935   -1.1452    1.1452;\n",
    "       0.3406    1.0219   -0.1154    0.4560   -0.4560];\n",
    "\n",
    "\n",
    "b = [0;0;0;0]\n",
    "N = null(A)\n",
    "sizeN = size(N)\n",
    "x = N(:,2)\n",
    "%Check that x is a solution:\n",
    "b = A*x;"
   ]
  },
  {
   "cell_type": "code",
   "execution_count": null,
   "id": "bbf897c7-8b57-4d17-938f-2051b8196f5e",
   "metadata": {},
   "outputs": [],
   "source": []
  }
 ],
 "metadata": {
  "kernelspec": {
   "display_name": "Octave",
   "language": "octave",
   "name": "octave"
  },
  "language_info": {
   "file_extension": ".m",
   "help_links": [
    {
     "text": "GNU Octave",
     "url": "https://www.gnu.org/software/octave/support.html"
    },
    {
     "text": "Octave Kernel",
     "url": "https://github.com/Calysto/octave_kernel"
    },
    {
     "text": "MetaKernel Magics",
     "url": "https://metakernel.readthedocs.io/en/latest/source/README.html"
    }
   ],
   "mimetype": "text/x-octave",
   "name": "octave",
   "version": "6.4.0"
  }
 },
 "nbformat": 4,
 "nbformat_minor": 5
}

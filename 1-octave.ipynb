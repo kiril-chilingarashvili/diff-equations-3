{
 "cells": [
  {
   "cell_type": "code",
   "execution_count": 1,
   "id": "9a95a3d9-9903-4bc0-acb9-a3c7704dac84",
   "metadata": {},
   "outputs": [
    {
     "name": "stdout",
     "output_type": "stream",
     "text": [
      "A =\n",
      "\n",
      "   0.085381   0.379548   0.145338   0.995693\n",
      "   0.744285   0.906137   0.573369   0.203109\n",
      "   0.332747   0.652882   0.709831   0.308164\n",
      "   0.780332   0.450178   0.180991   0.454664\n",
      "\n",
      "b =\n",
      "\n",
      "   0.33155\n",
      "   0.69587\n",
      "   0.64873\n",
      "   0.26370\n",
      "\n",
      "x =\n",
      "\n",
      "  -0.145832\n",
      "   0.642428\n",
      "   0.371241\n",
      "   0.046415\n",
      "\n",
      "b_check =\n",
      "\n",
      "   0.33155\n",
      "   0.69587\n",
      "   0.64873\n",
      "   0.26370\n",
      "\n"
     ]
    }
   ],
   "source": [
    "A = rand(4, 4)\n",
    "b = rand(4, 1)\n",
    "x = A\\b\n",
    "b_check = A*x"
   ]
  },
  {
   "cell_type": "code",
   "execution_count": 2,
   "id": "dbb7f61e-5e93-433f-bc9c-29fe71f2b5c3",
   "metadata": {},
   "outputs": [
    {
     "name": "stdout",
     "output_type": "stream",
     "text": [
      "ans =\n",
      "\n",
      "   1   2\n",
      "\n"
     ]
    }
   ],
   "source": [
    "[1,2]"
   ]
  },
  {
   "cell_type": "code",
   "execution_count": 3,
   "id": "e3fded3d-91ba-464b-96ee-476eb3ec26f0",
   "metadata": {},
   "outputs": [
    {
     "name": "stdout",
     "output_type": "stream",
     "text": [
      "A =\n",
      "\n",
      "    2    1    9\n",
      "    3    2   11\n",
      "   -1   -3    8\n",
      "    4    6   -4\n",
      "\n",
      "ans =\n",
      "\n",
      "   1   0   0\n",
      "   0   1   0\n",
      "   0   0   1\n",
      "   0   0   0\n",
      "\n"
     ]
    }
   ],
   "source": [
    "A = [2,1,9;3,2,11;-1,-3,8;4,6,-4]\n",
    "b = [0;0;0;0];\n",
    "x = A\\b;\n",
    "b_check = A*x;\n",
    "rref(A)"
   ]
  },
  {
   "cell_type": "code",
   "execution_count": 8,
   "id": "719e138b-2ee6-4091-b5f7-ae9f65ecc396",
   "metadata": {},
   "outputs": [
    {
     "name": "stdout",
     "output_type": "stream",
     "text": [
      "A =\n",
      "\n",
      "   1   2   3\n",
      "   1   2   3\n",
      "   2   5   8\n",
      "\n",
      "warning: matrix singular to machine precision\n",
      "x =\n",
      "\n",
      "   0\n",
      "   0\n",
      "   0\n",
      "\n",
      "ans =\n",
      "\n",
      "   1   0  -1\n",
      "   0   1   2\n",
      "   0   0   0\n",
      "\n"
     ]
    }
   ],
   "source": [
    "A = [1,2,3;1,2,3;2,5,8]\n",
    "b = [0;0;0];\n",
    "x = A\\b\n",
    "b_check = A*x;\n",
    "rref(A)"
   ]
  },
  {
   "cell_type": "code",
   "execution_count": 9,
   "id": "45cb8f22-7bac-47c2-a3ba-04064a038d52",
   "metadata": {},
   "outputs": [
    {
     "name": "stdout",
     "output_type": "stream",
     "text": [
      "v1 =\n",
      "\n",
      "   1\n",
      "   1\n",
      "   2\n",
      "\n",
      "v2 =\n",
      "\n",
      "   2\n",
      "   2\n",
      "   5\n",
      "\n",
      "ans =\n",
      "\n",
      "   1\n",
      "  -1\n",
      "   0\n",
      "\n"
     ]
    }
   ],
   "source": [
    "v1 = [1;1;2];\n",
    "v2 = [2;2;5];\n",
    "cross(v1, v2)\n",
    "# therefor plane equation is x - y = 0"
   ]
  },
  {
   "cell_type": "code",
   "execution_count": 1,
   "id": "278fce6a-66ef-4bdb-89d2-527863ab2f5c",
   "metadata": {},
   "outputs": [
    {
     "name": "stdout",
     "output_type": "stream",
     "text": [
      "A =\n",
      "\n",
      "   11   47  -13\n",
      "   -5   23    8\n",
      "\n",
      "x =\n",
      "\n",
      "   0\n",
      "   0\n",
      "   0\n",
      "\n",
      "ans =\n",
      "\n",
      "   1.00000   0.00000  -1.38320\n",
      "   0.00000   1.00000   0.04713\n",
      "\n"
     ]
    }
   ],
   "source": [
    "A = [11,47,-13;-5,23,8]\n",
    "b = [0;0];\n",
    "x = A\\b\n",
    "b_check = A*x;\n",
    "rref(A)"
   ]
  },
  {
   "cell_type": "code",
   "execution_count": 3,
   "id": "85d63cb1-eed9-435b-a07b-d46ac97dd4f7",
   "metadata": {},
   "outputs": [
    {
     "name": "stdout",
     "output_type": "stream",
     "text": [
      "A =\n",
      "\n",
      "   1  -2\n",
      "  -1   2\n",
      "   1  -2\n",
      "  -1   2\n",
      "\n",
      "x =\n",
      "\n",
      "   0\n",
      "   0\n",
      "\n",
      "ans =\n",
      "\n",
      "   1  -2\n",
      "   0   0\n",
      "   0   0\n",
      "   0   0\n",
      "\n"
     ]
    }
   ],
   "source": [
    "A = [1,-2;-1,2;1,-2;-1,2]\n",
    "b = [0;0;0;0];\n",
    "x = A\\b\n",
    "b_check = A*x;\n",
    "rref(A)"
   ]
  },
  {
   "cell_type": "code",
   "execution_count": 6,
   "id": "aa5ed595-9696-4433-99d9-5842227eb6af",
   "metadata": {},
   "outputs": [
    {
     "name": "stdout",
     "output_type": "stream",
     "text": [
      "A =\n",
      "\n",
      "   1   0   1\n",
      "   0   0   1\n",
      "\n",
      "x =\n",
      "\n",
      "   0\n",
      "   0\n",
      "   0\n",
      "\n",
      "rref_A =\n",
      "\n",
      "   1   0   0\n",
      "   0   0   1\n",
      "\n"
     ]
    }
   ],
   "source": [
    "A = [1,0,1;0,0,1]\n",
    "b = [0;0];\n",
    "x = A\\b\n",
    "b_check = A*x;\n",
    "rref_A = rref(A)"
   ]
  },
  {
   "cell_type": "markdown",
   "id": "133b5971-1b5b-4ba8-a7d6-02f63c2c0856",
   "metadata": {},
   "source": []
  },
  {
   "cell_type": "code",
   "execution_count": null,
   "id": "342a183e-bb6c-4bd1-aec2-4bcb7a795674",
   "metadata": {},
   "outputs": [],
   "source": []
  }
 ],
 "metadata": {
  "kernelspec": {
   "display_name": "Octave",
   "language": "octave",
   "name": "octave"
  },
  "language_info": {
   "file_extension": ".m",
   "help_links": [
    {
     "text": "GNU Octave",
     "url": "https://www.gnu.org/software/octave/support.html"
    },
    {
     "text": "Octave Kernel",
     "url": "https://github.com/Calysto/octave_kernel"
    },
    {
     "text": "MetaKernel Magics",
     "url": "https://metakernel.readthedocs.io/en/latest/source/README.html"
    }
   ],
   "mimetype": "text/x-octave",
   "name": "octave",
   "version": "6.4.0"
  }
 },
 "nbformat": 4,
 "nbformat_minor": 5
}

{
 "cells": [
  {
   "cell_type": "code",
   "execution_count": 1,
   "id": "9a95a3d9-9903-4bc0-acb9-a3c7704dac84",
   "metadata": {},
   "outputs": [
    {
     "name": "stdout",
     "output_type": "stream",
     "text": [
      "A =\n",
      "\n",
      "   0.085381   0.379548   0.145338   0.995693\n",
      "   0.744285   0.906137   0.573369   0.203109\n",
      "   0.332747   0.652882   0.709831   0.308164\n",
      "   0.780332   0.450178   0.180991   0.454664\n",
      "\n",
      "b =\n",
      "\n",
      "   0.33155\n",
      "   0.69587\n",
      "   0.64873\n",
      "   0.26370\n",
      "\n",
      "x =\n",
      "\n",
      "  -0.145832\n",
      "   0.642428\n",
      "   0.371241\n",
      "   0.046415\n",
      "\n",
      "b_check =\n",
      "\n",
      "   0.33155\n",
      "   0.69587\n",
      "   0.64873\n",
      "   0.26370\n",
      "\n"
     ]
    }
   ],
   "source": [
    "A = rand(4, 4)\n",
    "b = rand(4, 1)\n",
    "x = A\\b\n",
    "b_check = A*x"
   ]
  },
  {
   "cell_type": "code",
   "execution_count": 2,
   "id": "dbb7f61e-5e93-433f-bc9c-29fe71f2b5c3",
   "metadata": {},
   "outputs": [
    {
     "name": "stdout",
     "output_type": "stream",
     "text": [
      "ans =\n",
      "\n",
      "   1   2\n",
      "\n"
     ]
    }
   ],
   "source": [
    "[1,2]"
   ]
  },
  {
   "cell_type": "code",
   "execution_count": 2,
   "id": "e3fded3d-91ba-464b-96ee-476eb3ec26f0",
   "metadata": {},
   "outputs": [
    {
     "name": "stdout",
     "output_type": "stream",
     "text": [
      "A =\n",
      "\n",
      "    2    1    9\n",
      "    3    2   11\n",
      "   -1   -3    8\n",
      "    4    6   -4\n",
      "\n",
      "b =\n",
      "\n",
      "   0\n",
      "   0\n",
      "   0\n",
      "   0\n",
      "\n",
      "x =\n",
      "\n",
      "   0\n",
      "   0\n",
      "   0\n",
      "\n",
      "b_check =\n",
      "\n",
      "   0\n",
      "   0\n",
      "   0\n",
      "   0\n",
      "\n",
      "ans =\n",
      "\n",
      "   1   0   0\n",
      "   0   1   0\n",
      "   0   0   1\n",
      "   0   0   0\n",
      "\n"
     ]
    }
   ],
   "source": [
    "A = [2,1,9;3,2,11;-1,-3,8;4,6,-4]\n",
    "b = [0;0;0;0]\n",
    "x = A\\b\n",
    "b_check = A*x\n",
    "rref(A)"
   ]
  },
  {
   "cell_type": "code",
   "execution_count": null,
   "id": "719e138b-2ee6-4091-b5f7-ae9f65ecc396",
   "metadata": {},
   "outputs": [],
   "source": []
  }
 ],
 "metadata": {
  "kernelspec": {
   "display_name": "Octave",
   "language": "octave",
   "name": "octave"
  },
  "language_info": {
   "file_extension": ".m",
   "help_links": [
    {
     "text": "GNU Octave",
     "url": "https://www.gnu.org/software/octave/support.html"
    },
    {
     "text": "Octave Kernel",
     "url": "https://github.com/Calysto/octave_kernel"
    },
    {
     "text": "MetaKernel Magics",
     "url": "https://metakernel.readthedocs.io/en/latest/source/README.html"
    }
   ],
   "mimetype": "text/x-octave",
   "name": "octave",
   "version": "6.4.0"
  }
 },
 "nbformat": 4,
 "nbformat_minor": 5
}

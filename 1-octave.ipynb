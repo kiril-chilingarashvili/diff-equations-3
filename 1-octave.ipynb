{
 "cells": [
  {
   "cell_type": "code",
   "execution_count": 1,
   "id": "9a95a3d9-9903-4bc0-acb9-a3c7704dac84",
   "metadata": {},
   "outputs": [
    {
     "name": "stdout",
     "output_type": "stream",
     "text": [
      "A =\n",
      "\n",
      "   0.6221   0.1895   0.9450   0.1731\n",
      "   0.7818   0.5838   0.6730   0.9796\n",
      "   0.3048   0.3110   0.5015   0.4116\n",
      "   0.5772   0.4466   0.6666   0.6123\n",
      "\n",
      "b =\n",
      "\n",
      "   0.6175\n",
      "   0.2059\n",
      "   0.4815\n",
      "   0.2527\n",
      "\n",
      "x =\n",
      "\n",
      "  -2.5512\n",
      "  -3.4064\n",
      "   2.5538\n",
      "   2.5216\n",
      "\n",
      "b_check =\n",
      "\n",
      "   0.6175\n",
      "   0.2059\n",
      "   0.4815\n",
      "   0.2527\n",
      "\n"
     ]
    }
   ],
   "source": [
    "A = rand(4, 4)\n",
    "b = rand(4, 1)\n",
    "x = A\\b\n",
    "b_check = A*x"
   ]
  },
  {
   "cell_type": "code",
   "execution_count": 2,
   "id": "dbb7f61e-5e93-433f-bc9c-29fe71f2b5c3",
   "metadata": {},
   "outputs": [
    {
     "name": "stdout",
     "output_type": "stream",
     "text": [
      "ans =\n",
      "\n",
      "   1   2\n",
      "\n"
     ]
    }
   ],
   "source": [
    "[1,2]"
   ]
  },
  {
   "cell_type": "code",
   "execution_count": null,
   "id": "e3fded3d-91ba-464b-96ee-476eb3ec26f0",
   "metadata": {},
   "outputs": [],
   "source": []
  }
 ],
 "metadata": {
  "kernelspec": {
   "display_name": "Octave",
   "language": "octave",
   "name": "octave"
  },
  "language_info": {
   "file_extension": ".m",
   "help_links": [
    {
     "text": "GNU Octave",
     "url": "https://www.gnu.org/software/octave/support.html"
    },
    {
     "text": "Octave Kernel",
     "url": "https://github.com/Calysto/octave_kernel"
    },
    {
     "text": "MetaKernel Magics",
     "url": "https://metakernel.readthedocs.io/en/latest/source/README.html"
    }
   ],
   "mimetype": "text/x-octave",
   "name": "octave",
   "version": "6.4.0"
  }
 },
 "nbformat": 4,
 "nbformat_minor": 5
}

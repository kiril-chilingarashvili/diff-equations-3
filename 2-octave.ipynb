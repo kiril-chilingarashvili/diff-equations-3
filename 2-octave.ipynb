{
 "cells": [
  {
   "cell_type": "code",
   "execution_count": 1,
   "id": "cd251963-67b1-4686-a69f-95de0724173e",
   "metadata": {},
   "outputs": [
    {
     "name": "stdout",
     "output_type": "stream",
     "text": [
      "A =\n",
      "\n",
      "   1   4   7\n",
      "   2   5   8\n",
      "   3   6   9\n",
      "\n",
      "rrefA =\n",
      "\n",
      "   1   0  -1\n",
      "   0   1   2\n",
      "   0   0   0\n",
      "\n",
      "nullA =\n",
      "\n",
      "  -0.4082\n",
      "   0.8165\n",
      "  -0.4082\n",
      "\n"
     ]
    }
   ],
   "source": [
    "A = [\n",
    "    1,4,7;\n",
    "    2,5,8;\n",
    "    3,6,9\n",
    "    ]\n",
    "rrefA = rref(A)\n",
    "nullA = null(A)"
   ]
  },
  {
   "cell_type": "code",
   "execution_count": 2,
   "id": "f46ae9f7-ab40-4ac3-b94c-be15000123b5",
   "metadata": {},
   "outputs": [
    {
     "name": "stdout",
     "output_type": "stream",
     "text": [
      "A =\n",
      "\n",
      "   1   3\n",
      "   2   1\n",
      "   7   1\n",
      "   4   1\n",
      "\n",
      "rrefA =\n",
      "\n",
      "   1   0\n",
      "   0   1\n",
      "   0   0\n",
      "   0   0\n",
      "\n",
      "nullA = [](2x0)\n"
     ]
    }
   ],
   "source": [
    "A = [\n",
    "    1,3;\n",
    "    2,1;\n",
    "    7,1;\n",
    "    4,1\n",
    "    ]\n",
    "rrefA = rref(A)\n",
    "nullA = null(A)"
   ]
  },
  {
   "cell_type": "code",
   "execution_count": 3,
   "id": "450d1289-7b60-48d7-99eb-a354bd33f872",
   "metadata": {},
   "outputs": [
    {
     "name": "stdout",
     "output_type": "stream",
     "text": [
      "A =\n",
      "\n",
      "   1   2   7   4   4\n",
      "   3   1   1   1   0\n",
      "\n",
      "rrefA =\n",
      "\n",
      "   1.0000        0  -1.0000  -0.4000  -0.8000\n",
      "        0   1.0000   4.0000   2.2000   2.4000\n",
      "\n",
      "nullA =\n",
      "\n",
      "  -2.3583e-01  -2.3497e-01  -1.1434e-03\n",
      "   6.9301e-01   2.3383e-01   6.1225e-01\n",
      "   3.0749e-01  -3.6131e-01  -4.4159e-01\n",
      "  -2.9303e-01   8.3239e-01  -1.6723e-01\n",
      "  -5.3263e-01  -2.5826e-01   6.3418e-01\n",
      "\n"
     ]
    }
   ],
   "source": [
    "A = [\n",
    "    1,2,7,4,4;\n",
    "    3,1,1,1,0\n",
    "    ]\n",
    "rrefA = rref(A)\n",
    "nullA = null(A)"
   ]
  },
  {
   "cell_type": "code",
   "execution_count": 14,
   "id": "d5678993-3e9a-43ee-9153-d0d203f77c26",
   "metadata": {},
   "outputs": [
    {
     "name": "stdout",
     "output_type": "stream",
     "text": [
      "A =\n",
      "\n",
      "   1   1   2\n",
      "   3   1   4\n",
      "   5   1   6\n",
      "\n",
      "rrefA =\n",
      "\n",
      "   1   0   1\n",
      "   0   1   1\n",
      "   0   0   0\n",
      "\n",
      "nullA =\n",
      "\n",
      "  -0.5774\n",
      "  -0.5774\n",
      "   0.5774\n",
      "\n",
      "detA = 0\n"
     ]
    }
   ],
   "source": [
    "A = [\n",
    "    1,1,2;\n",
    "    3,1,4;\n",
    "    5,1,6\n",
    "    ]\n",
    "rrefA = rref(A)\n",
    "nullA = null(A)\n",
    "detA = det(A)\n"
   ]
  },
  {
   "cell_type": "code",
   "execution_count": 17,
   "id": "e50242fb-4428-4724-8c6b-3b80ff70687c",
   "metadata": {},
   "outputs": [
    {
     "name": "stdout",
     "output_type": "stream",
     "text": [
      "A =\n",
      "\n",
      "   0   0  -1\n",
      "   0   1   0\n",
      "   1   0   0\n",
      "\n",
      "B =\n",
      "\n",
      "   1   0   0\n",
      "   0   1   0\n",
      "   0   0   0\n",
      "\n",
      "ans =\n",
      "\n",
      "   0\n",
      "   0\n",
      "   0\n",
      "\n",
      "ans =\n",
      "\n",
      "  -1\n",
      "   0\n",
      "   0\n",
      "\n"
     ]
    }
   ],
   "source": [
    "A = [\n",
    "    0,0,-1;\n",
    "    0,1,0;\n",
    "    1,0,0\n",
    "    ]\n",
    "B = [\n",
    "    1,0,0;\n",
    "    0,1,0;\n",
    "    0,0,0\n",
    "]\n",
    "A*B*[0;0;1]\n",
    "B*A*[0;0;1]"
   ]
  },
  {
   "cell_type": "code",
   "execution_count": 19,
   "id": "65d1c2e0-ebab-4d86-9d9e-af83dc39c75b",
   "metadata": {},
   "outputs": [
    {
     "name": "stdout",
     "output_type": "stream",
     "text": [
      "A =\n",
      "\n",
      "   5.7148e-01   1.0529e-01   3.0302e-01\n",
      "   3.1695e-02   6.9727e-01   2.9040e-01\n",
      "   7.5360e-01   2.2212e-01   7.0368e-03\n",
      "\n",
      "B =\n",
      "\n",
      "   0.923861   0.040595   0.702973\n",
      "   0.646215   0.067185   0.982201\n",
      "   0.557052   0.556945   0.140047\n",
      "\n",
      "ans =\n",
      "\n",
      "   0.764803   0.199036   0.547586\n",
      "   0.641633   0.209868   0.747808\n",
      "   0.843678   0.049435   0.748913\n",
      "\n",
      "ans =\n",
      "\n",
      "   1.0590   0.2817   0.2967\n",
      "   1.1116   0.3331   0.2222\n",
      "   0.4415   0.4781   0.3315\n",
      "\n"
     ]
    }
   ],
   "source": [
    "A = rand(3,3)\n",
    "B = rand(3,3)\n",
    "A*B\n",
    "B*A"
   ]
  },
  {
   "cell_type": "code",
   "execution_count": 21,
   "id": "94464943-18bb-409c-9ff1-929e65645a26",
   "metadata": {},
   "outputs": [
    {
     "name": "stdout",
     "output_type": "stream",
     "text": [
      "A =\n",
      "\n",
      "   1  -1   2\n",
      "   0   3  -4\n",
      "   2   1   0\n",
      "\n",
      "v =\n",
      "\n",
      "  -1\n",
      "   2\n",
      "   0\n",
      "\n",
      "warning: matrix singular to machine precision\n",
      "ans =\n",
      "\n",
      "   Inf   Inf   Inf\n",
      "   Inf   Inf   Inf\n",
      "   Inf   Inf   Inf\n",
      "\n",
      "Av =\n",
      "\n",
      "  -3\n",
      "   6\n",
      "   0\n",
      "\n"
     ]
    }
   ],
   "source": [
    "% A*v = \\lambda*v\n",
    "A = [\n",
    "    1,-1,2;\n",
    "    0,3,-4;\n",
    "    2,1,0\n",
    "]\n",
    "v=[\n",
    "    -1;\n",
    "    2;\n",
    "    0\n",
    "]\n",
    "inv(A)\n",
    "Av = A*v"
   ]
  },
  {
   "cell_type": "code",
   "execution_count": 1,
   "id": "c5523a61-176c-4bd0-8de0-cf355451875c",
   "metadata": {},
   "outputs": [
    {
     "name": "stdout",
     "output_type": "stream",
     "text": [
      "ans = 2\n"
     ]
    }
   ],
   "source": [
    "diag(2)"
   ]
  },
  {
   "cell_type": "code",
   "execution_count": 2,
   "id": "1fa4f625-6c9d-430e-95ab-4101b6162b74",
   "metadata": {},
   "outputs": [],
   "source": [
    "% We provide definitions of X, Y, u and v for you\n",
    "X = [2 1; 0 4];\n",
    "Y = [3 4; 1 1];\n",
    "u = [-1;1];\n",
    "v = [4;-3];\n",
    "\n",
    "A = X*Y;\n",
    "B = Y*X;\n",
    "C = 1/2*(X-Y');\n",
    "D = X.*Y;\n",
    "a = dot(u, v);\n",
    "b = v'*X*u;"
   ]
  },
  {
   "cell_type": "code",
   "execution_count": 3,
   "id": "f3fb7efe-0243-478e-b338-2a3d6665dcbe",
   "metadata": {},
   "outputs": [
    {
     "name": "stdout",
     "output_type": "stream",
     "text": [
      "b =\n",
      "\n",
      "   0.915727\n",
      "   0.081318\n",
      "   0.154869\n",
      "   0.505463\n",
      "   0.572833\n",
      "   0.870914\n",
      "   0.422117\n",
      "   0.444590\n",
      "   0.235566\n",
      "   0.912261\n",
      "\n",
      "d = 0.017304\n",
      "x =\n",
      "\n",
      "  -0.510367\n",
      "  -0.754257\n",
      "  -0.015905\n",
      "  -0.124682\n",
      "  -0.832154\n",
      "   0.355936\n",
      "   1.946230\n",
      "  -0.842628\n",
      "   1.795204\n",
      "   0.277682\n",
      "\n"
     ]
    }
   ],
   "source": [
    "% Firstly we will generate a random 10x10 matrix A and a random RHS column vector b \n",
    "% You should use the command X=rand(M,N), where M is the number of rows and N is the number of columns in the array\n",
    "%\n",
    "A = rand(10,10);\n",
    "b = rand(10,1)\n",
    "%\n",
    "% Now calculate the determinant of A and assign its value to a variable d\n",
    "%\n",
    "d = det(A)\n",
    "%\n",
    "% Now solve the linear system using the function inv() or \\ to find the solution x\n",
    "%\n",
    "x=A\\b\n",
    "%\n",
    "% You can check for yourself that this does indeed solve the system by calculating A*x and comparing it to b."
   ]
  },
  {
   "cell_type": "code",
   "execution_count": 15,
   "id": "6257eda1-e8ef-4055-82f1-b5bf5421993e",
   "metadata": {},
   "outputs": [
    {
     "name": "stdout",
     "output_type": "stream",
     "text": [
      "v =\n",
      "\n",
      "   0.028949\n",
      "   0.216941\n",
      "   0.282958\n",
      "   0.370488\n",
      "   0.882928\n",
      "   0.747526\n",
      "   0.797031\n",
      "   0.360395\n",
      "   0.786438\n",
      "   0.373402\n",
      "   0.144698\n",
      "   0.268650\n",
      "   0.300561\n",
      "   0.743482\n",
      "   0.704150\n",
      "\n",
      "D =\n",
      "\n",
      "Diagonal Matrix\n",
      "\n",
      " Columns 1 through 7:\n",
      "\n",
      "   0.028949          0          0          0          0          0          0\n",
      "          0   0.216941          0          0          0          0          0\n",
      "          0          0   0.282958          0          0          0          0\n",
      "          0          0          0   0.370488          0          0          0\n",
      "          0          0          0          0   0.882928          0          0\n",
      "          0          0          0          0          0   0.747526          0\n",
      "          0          0          0          0          0          0   0.797031\n",
      "          0          0          0          0          0          0          0\n",
      "          0          0          0          0          0          0          0\n",
      "          0          0          0          0          0          0          0\n",
      "\n",
      " Columns 8 through 10:\n",
      "\n",
      "          0          0          0\n",
      "          0          0          0\n",
      "          0          0          0\n",
      "          0          0          0\n",
      "          0          0          0\n",
      "          0          0          0\n",
      "          0          0          0\n",
      "   0.360395          0          0\n",
      "          0   0.786438          0\n",
      "          0          0   0.373402\n",
      "\n"
     ]
    }
   ],
   "source": [
    "% Firstly create a random 15x15 matrix A using the rand() command\n",
    "A = rand(15,15);\n",
    "% Now create a new variable v which is a column vector\n",
    "% made from the main diagonal of A using the diag() function\n",
    "v = diag(A)\n",
    "% v(1:10)\n",
    "% Now create a 10x10 diagonal matrix D made from the first ten elements of v. \n",
    "% Think carefully about the easiest way to do this. Remember you can create as many new variables as you want\n",
    "D = diag(v(1:10))"
   ]
  },
  {
   "cell_type": "code",
   "execution_count": 16,
   "id": "2aa57376-67a6-455d-8c24-d7bca413430e",
   "metadata": {},
   "outputs": [
    {
     "name": "stdout",
     "output_type": "stream",
     "text": [
      "d1 = 1.7856e-05\n",
      "d2 = 1.7856e-05\n",
      "a = 0\n"
     ]
    }
   ],
   "source": [
    "% Firstly generate a random 10X10 matrix A using the rand() command\n",
    "A = rand(10);\n",
    "% Now define an upper triangular matrix X made out of the upper triangular elements of A using triu()\n",
    "X = triu(A);\n",
    "% Calculate the determinant of X explicity using det(). Define the value of the determinant as a variable d1\n",
    "d1 = det(X)\n",
    "% Finally extract the main diagonal of X as a column vector v by using the diag() command. \n",
    "% We then calculate the product of the elements of v and call this d2. You should see that d1=d2 always!\n",
    "v = diag(X);\n",
    "d2 = prod(v)\n",
    "a = d1-d2\n"
   ]
  },
  {
   "cell_type": "code",
   "execution_count": 17,
   "id": "f83f4bae-4380-4d95-8b29-1780e9fa6bbb",
   "metadata": {},
   "outputs": [
    {
     "name": "stdout",
     "output_type": "stream",
     "text": [
      "V =\n",
      "\n",
      "  -0.8090  -0.3015   0.3090\n",
      "   0.3090   0.9045  -0.8090\n",
      "   0.5000  -0.3015   0.5000\n",
      "\n",
      "D =\n",
      "\n",
      "Diagonal Matrix\n",
      "\n",
      "   1.3820        0        0\n",
      "        0   4.0000        0\n",
      "        0        0   3.6180\n",
      "\n",
      "v1 =\n",
      "\n",
      "  -0.8090\n",
      "   0.3090\n",
      "   0.5000\n",
      "\n",
      "v2 =\n",
      "\n",
      "  -0.3015\n",
      "   0.9045\n",
      "  -0.3015\n",
      "\n",
      "v3 =\n",
      "\n",
      "   0.3090\n",
      "  -0.8090\n",
      "   0.5000\n",
      "\n",
      "e1 = 1.3820\n",
      "e2 = 4.0000\n",
      "e3 = 3.6180\n"
     ]
    }
   ],
   "source": [
    "% Matrix A is provided for you.\n",
    "A = [1 -1 0; 2 5 1; 1 0 3];\n",
    "% Now use eig(A) to find the eigenvalues and eigenvectors of A \n",
    "[V,D] = eig(A)\n",
    "% Now extract the three eigenvectors of A \n",
    "% and define them as three separate column vectors v1, v2, v3\n",
    "v1 = V(:,1)\n",
    "v2 = V(:,2)\n",
    "v3 = V(:,3)\n",
    "% Now extract the three correspondong eigenvalues of A \n",
    "% and define them as three separate variables e1, e2, e3. \n",
    "% These should be numbered so that A*v1 = e1*v1, etc.\n",
    "e1 = D(1,1)\n",
    "e2 = D(2,2)\n",
    "e3 = D(3,3)"
   ]
  },
  {
   "cell_type": "code",
   "execution_count": 19,
   "id": "e454ebb1-a46d-4994-96b7-5e758205f7c9",
   "metadata": {},
   "outputs": [
    {
     "data": {
      "image/png": "[encoded data removed]",
      "text/plain": [
       "<IPython.core.display.Image object>"
      ]
     },
     "metadata": {},
     "output_type": "display_data"
    },
    {
     "data": {
      "image/png": "[encoded data removed]",
      "text/plain": [
       "<IPython.core.display.Image object>"
      ]
     },
     "metadata": {},
     "output_type": "display_data"
    }
   ],
   "source": [
    "% Firstly generate a random 100x100 matrix A of numbers randomly chosen between -10 and 10.\n",
    "% Note that rand() generates random numbers between 0 and 1, so we've modified the definition of A\n",
    "% by first subtracting 0.5 from each entry to get randomly generated entries between -0.5 and 0.5,\n",
    "% then multiplying by 20 so that the numbers lie between -10 and 10.\n",
    "\n",
    "A = (rand(100)-0.5)*20;\n",
    "% Now calculate the symmetric part of the matrix A. Call this matrix B\n",
    "B = 1/2*(A+A');\n",
    "% Now calculate the eigenvalues and eigenvectors of A using eig(). Store them in the matrices V1 and D1\n",
    "[V1, D1] = eig(A);\n",
    "% Now calculate the eigenvalues and eigenvectors of B using eig(). Store them in the matrices V2 and D2\n",
    "[V2, D2] = eig(B);\n",
    "% We will now create a scatter plot of the eigenvalues of A and B from the script you have just completed.\n",
    "% If you have filled it in correctly, then you should see that the eigenvalues of A are scattered across the complex plane,\n",
    "% while the eigenvalues of B are all on the real line.\n",
    "figure(1)\n",
    "hold on\n",
    "d1 = diag(D1);\n",
    "plot(real(d1),imag(d1),'*')\n",
    "xlabel('Real part')\n",
    "ylabel('Imaginary part')\n",
    "xlim([-max(abs(real(d1))), max(abs(real(d1)))])\n",
    "ylim([-max(abs(imag(d1))), max(abs(imag(d1)))])\n",
    "title('Eigenvalues of A')\n",
    "set(gca,'FontSize', 18);\n",
    "axis square\n",
    "%\n",
    "figure(2)\n",
    "hold on\n",
    "d2 = diag(D2);\n",
    "plot(real(d2),imag(d2),'*')\n",
    "xlabel('Real part')\n",
    "ylabel('Imaginary part')\n",
    "xlim([-max(abs(real(d2))), max(abs(real(d2)))])\n",
    "ylim([-1, 1])\n",
    "title('Eigenvalues of B')\n",
    "set(gca,'FontSize', 18);\n",
    "axis square"
   ]
  },
  {
   "cell_type": "code",
   "execution_count": 20,
   "id": "f547979d-23ce-47d9-83fb-76b6edf70c56",
   "metadata": {},
   "outputs": [
    {
     "data": {
      "image/png": "[encoded data removed]",
      "text/plain": [
       "<IPython.core.display.Image object>"
      ]
     },
     "metadata": {},
     "output_type": "display_data"
    },
    {
     "data": {
      "image/png": "[encoded data removed]",
      "text/plain": [
       "<IPython.core.display.Image object>"
      ]
     },
     "metadata": {},
     "output_type": "display_data"
    }
   ],
   "source": [
    "% Firstly generate a random 100x100 matrix A of numbers randomly chosen between -10 and 10.\n",
    "% Note that rand() generates random numbers between 0 and 1, so we've modified the definition of A\n",
    "% by first subtracting 0.5 from each entry to get randomly generated entries between -0.5 and 0.5,\n",
    "% then multiplying by 20 so that the numbers lie between -10 and 10.\n",
    "\n",
    "A = (rand(100)-0.5)*20;\n",
    "% Now calculate the symmetric part of the matrix A. Call this matrix B\n",
    "B = 1/2*(A+A');\n",
    "% Now calculate the eigenvalues and eigenvectors of A using eig(). Store them in the matrices S1 and D1\n",
    "[S1,D1]=eig(A);\n",
    "% Now calculate the eigenvalues and eigenvectors of B using eig(). Store them in the matrices S2 and D2\n",
    "[S2,D2]=eig(B);\n",
    "\n",
    "% We will now create a scatter plot of the first eigenvector of A and B dotted with every other eigenvector\n",
    "% of A and B using the script you have just completed.\n",
    "% If you have filled it in correctly, then you should see that the dot product of different pairs of eigenvectors\n",
    "% of A are scattered across the complex plane,\n",
    "% while the dot product of one eigenvector of B with any other eigenvector of B is zero.\n",
    "figure(1)\n",
    "hold on\n",
    "for m=2:100\n",
    "    plot(real(S1(:,m)'*S1(:,1)),imag(S1(:,m)'*S1(:,1)),'b*')\n",
    "end\n",
    "xlabel('Real part')\n",
    "ylabel('Imaginary part')\n",
    "xlim([-0.5, 0.5])\n",
    "ylim([-0.5, 0.5])\n",
    "title('Dot products of eigenvectors of A')\n",
    "figure(2)\n",
    "hold on\n",
    "for m=2:100\n",
    "    plot(real(S2(:,m)'*S2(:,1)),imag(S2(:,m)'*S2(:,1)),'r*')\n",
    "end\n",
    "xlabel('Real part')\n",
    "ylabel('Imaginary part')\n",
    "xlim([-0.5, 0.5])\n",
    "ylim([-0.5, 0.5])\n",
    "title('Dot products of eigenvectors of B')"
   ]
  },
  {
   "cell_type": "code",
   "execution_count": 29,
   "id": "eca54ac5-13ce-428c-9770-6141986b66f8",
   "metadata": {},
   "outputs": [
    {
     "name": "stdout",
     "output_type": "stream",
     "text": [
      "M =\n",
      "\n",
      "   1.0000   2.3000   3.5000\n",
      "        0   1.0000   4.0000\n",
      "        0        0   1.0000\n",
      "\n",
      "AUM =\n",
      "\n",
      "   1.0000   2.3000   3.5000   1.0000        0        0\n",
      "        0   1.0000   4.0000        0   1.0000        0\n",
      "        0        0   1.0000        0        0   1.0000\n",
      "\n",
      "rrefAUM =\n",
      "\n",
      "   1.0000        0        0   1.0000  -2.3000   5.7000\n",
      "        0   1.0000        0        0   1.0000  -4.0000\n",
      "        0        0   1.0000        0        0   1.0000\n",
      "\n"
     ]
    }
   ],
   "source": [
    "M = [\n",
    "    1,2.3,3.5;\n",
    "    0,1,4;\n",
    "    0,0,1\n",
    "]\n",
    "AUM = [M, eye(3)]\n",
    "rrefAUM = rref(AUM)"
   ]
  },
  {
   "cell_type": "code",
   "execution_count": 30,
   "id": "a089f9ca-996f-4e00-a212-14de3aad2a56",
   "metadata": {},
   "outputs": [
    {
     "name": "stdout",
     "output_type": "stream",
     "text": [
      "A =\n",
      "\n",
      "    0    3   -2    5\n",
      "   -1    2    3    4\n",
      "   -2    7    4   13\n",
      "\n",
      "ans =\n",
      "\n",
      "   1.0000        0  -4.3333  -0.6667\n",
      "        0   1.0000  -0.6667   1.6667\n",
      "        0        0        0        0\n",
      "\n"
     ]
    }
   ],
   "source": [
    "A = [\n",
    "    0,3,-2,5;\n",
    "    -1,2,3,4;\n",
    "    -2,7,4,13\n",
    "]\n",
    "rref(A)"
   ]
  },
  {
   "cell_type": "code",
   "execution_count": 33,
   "id": "0f171f10-d87e-474a-86d3-0f338700a2a5",
   "metadata": {},
   "outputs": [
    {
     "name": "stdout",
     "output_type": "stream",
     "text": [
      "A =\n",
      "\n",
      "   1   8   0   3\n",
      "   0   4   2   1\n",
      "   0   0   3   7\n",
      "   0   0   0  -3\n",
      "\n",
      "ans = 0\n",
      "ans = -36\n"
     ]
    }
   ],
   "source": [
    "A = [\n",
    "    1,8,0,3;\n",
    "    0,4,2,1;\n",
    "    0,0,3,7;\n",
    "    0,0,0,-3\n",
    "]\n",
    "det(A) - 1*4*3*(-3)\n",
    "1*4*3*(-3)"
   ]
  },
  {
   "cell_type": "code",
   "execution_count": 36,
   "id": "28d56336-5a79-4bb6-aa1e-ebba46fcc013",
   "metadata": {},
   "outputs": [
    {
     "name": "stdout",
     "output_type": "stream",
     "text": [
      "A =\n",
      "\n",
      "    1    2    3\n",
      "   50   60   70\n",
      "   51   62   73\n",
      "\n",
      "ans =\n",
      "\n",
      "   1.0000        0  -1.0000\n",
      "        0   1.0000   2.0000\n",
      "        0        0        0\n",
      "\n",
      "ans =\n",
      "\n",
      "   0.4082\n",
      "  -0.8165\n",
      "   0.4082\n",
      "\n",
      "ans = 0\n"
     ]
    }
   ],
   "source": [
    "A = [\n",
    "    1,2,3;\n",
    "    50,60,70;\n",
    "    51,62,73\n",
    "]\n",
    "rref(A)\n",
    "null(A)\n",
    "det(A)"
   ]
  },
  {
   "cell_type": "code",
   "execution_count": 37,
   "id": "6499bff1-208e-4310-97b8-f1d83aa7cdcf",
   "metadata": {},
   "outputs": [
    {
     "name": "stdout",
     "output_type": "stream",
     "text": [
      "D =\n",
      "\n",
      "   7   2   1\n",
      "   0   3  -1\n",
      "  -3   4  -2\n",
      "\n",
      "ans =\n",
      "\n",
      "   -2.0000    8.0000   -5.0000\n",
      "    3.0000  -11.0000    7.0000\n",
      "    9.0000  -34.0000   21.0000\n",
      "\n"
     ]
    }
   ],
   "source": [
    "D = [\n",
    "    7,2,1;\n",
    "    0,3,-1;\n",
    "    -3,4,-2\n",
    "]\n",
    "inv(D)"
   ]
  },
  {
   "cell_type": "code",
   "execution_count": 1,
   "id": "adfce0f8-c19e-4430-8134-0eca908ac5a6",
   "metadata": {},
   "outputs": [
    {
     "name": "stdout",
     "output_type": "stream",
     "text": [
      "c0 =\n",
      "\n",
      "   1000\n",
      "      0\n",
      "      0\n",
      "      0\n",
      "      0\n",
      "      0\n",
      "      0\n",
      "      0\n",
      "      0\n",
      "      0\n",
      "\n",
      "c1 =\n",
      "\n",
      "   500\n",
      "     0\n",
      "     0\n",
      "     0\n",
      "     0\n",
      "     0\n",
      "     0\n",
      "     0\n",
      "     0\n",
      "   500\n",
      "\n",
      "x1 =\n",
      "\n",
      "   666.6667\n",
      "   333.3333\n",
      "          0\n",
      "          0\n",
      "          0\n",
      "          0\n",
      "          0\n",
      "          0\n",
      "          0\n",
      "          0\n",
      "\n",
      "x2 =\n",
      "\n",
      "   555.5556\n",
      "   333.3333\n",
      "   111.1111\n",
      "          0\n",
      "          0\n",
      "          0\n",
      "          0\n",
      "          0\n",
      "          0\n",
      "          0\n",
      "\n",
      "x2_ =\n",
      "\n",
      "   5.5556e+02\n",
      "   3.3333e+02\n",
      "   1.1111e+02\n",
      "   1.2761e-13\n",
      "   1.1741e-13\n",
      "   5.9874e-14\n",
      "  -1.0583e-13\n",
      "  -1.4296e-13\n",
      "  -3.3549e-15\n",
      "   2.0724e-14\n",
      "\n",
      "x9 =\n",
      "\n",
      "   3.0717e+02\n",
      "   2.6475e+02\n",
      "   1.9601e+02\n",
      "   1.2376e+02\n",
      "   6.5844e+01\n",
      "   2.8959e+01\n",
      "   1.0212e+01\n",
      "   2.7435e+00\n",
      "   5.0805e-01\n",
      "   5.0805e-02\n",
      "\n",
      "D =\n",
      "\n",
      "Diagonal Matrix\n",
      "\n",
      " Columns 1 through 7:\n",
      "\n",
      "  -0.300704          0          0          0          0          0          0\n",
      "          0  -0.206011          0          0          0          0          0\n",
      "          0          0  -0.058524          0          0          0          0\n",
      "          0          0          0   0.127322          0          0          0\n",
      "          0          0          0          0   0.333333          0          0\n",
      "          0          0          0          0          0   0.539345          0\n",
      "          0          0          0          0          0          0   0.725190\n",
      "          0          0          0          0          0          0          0\n",
      "          0          0          0          0          0          0          0\n",
      "          0          0          0          0          0          0          0\n",
      "\n",
      " Columns 8 through 10:\n",
      "\n",
      "          0          0          0\n",
      "          0          0          0\n",
      "          0          0          0\n",
      "          0          0          0\n",
      "          0          0          0\n",
      "          0          0          0\n",
      "          0          0          0\n",
      "   0.872678          0          0\n",
      "          0   0.967371          0\n",
      "          0          0   1.000000\n",
      "\n",
      "D_300 =\n",
      "\n",
      "Diagonal Matrix\n",
      "\n",
      " Columns 1 through 8:\n",
      "\n",
      "   0.0000        0        0        0        0        0        0        0\n",
      "        0   0.0000        0        0        0        0        0        0\n",
      "        0        0        0        0        0        0        0        0\n",
      "        0        0        0   0.0000        0        0        0        0\n",
      "        0        0        0        0   0.0000        0        0        0\n",
      "        0        0        0        0        0   0.0000        0        0\n",
      "        0        0        0        0        0        0   0.0000        0\n",
      "        0        0        0        0        0        0        0   0.0000\n",
      "        0        0        0        0        0        0        0        0\n",
      "        0        0        0        0        0        0        0        0\n",
      "\n",
      " Columns 9 and 10:\n",
      "\n",
      "        0        0\n",
      "        0        0\n",
      "        0        0\n",
      "        0        0\n",
      "        0        0\n",
      "        0        0\n",
      "        0        0\n",
      "        0        0\n",
      "   0.0000        0\n",
      "        0   1.0000\n",
      "\n",
      "x300 =\n",
      "\n",
      "   100.009\n",
      "   100.008\n",
      "   100.007\n",
      "   100.004\n",
      "   100.001\n",
      "    99.999\n",
      "    99.996\n",
      "    99.993\n",
      "    99.992\n",
      "    99.991\n",
      "\n",
      "x300_ =\n",
      "\n",
      "   100.000\n",
      "   100.000\n",
      "   100.000\n",
      "   100.000\n",
      "   100.000\n",
      "   100.000\n",
      "   100.000\n",
      "   100.000\n",
      "   100.000\n",
      "   100.000\n",
      "\n"
     ]
    }
   ],
   "source": [
    "%Enter the matrix A. (Hint it may be useful to look up the \n",
    "%matlab documentation on diagonal and tridiagonal matrices.)\n",
    "A = [\n",
    "    2/3,    1/3,    0,      0,      0,      0,      0,      0,      0,      0;\n",
    "    1/3,    1/3,    1/3,    0,      0,      0,      0,      0,      0,      0;\n",
    "    0,      1/3,    1/3,    1/3,    0,      0,      0,      0,      0,      0;\n",
    "    0,      0,      1/3,    1/3,    1/3,    0,      0,      0,      0,      0;\n",
    "    0,      0,      0,      1/3,    1/3,    1/3,    0,      0,      0,      0;\n",
    "    0,      0,      0,      0,      1/3,    1/3,    1/3,    0,      0,      0;\n",
    "    0,      0,      0,      0,      0,      1/3,    1/3,    1/3,    0,      0;\n",
    "    0,      0,      0,      0,      0,      0,      1/3,    1/3,    1/3,    0;\n",
    "    0,      0,      0,      0,      0,      0,      0,      1/3,    1/3,    1/3;\n",
    "    0,      0,      0,      0,      0,      0,      0,      0,      1/3,    2/3\n",
    "];\n",
    "\n",
    "%Enter column vector of the initial state in a vector called c0.\n",
    "c0 = [\n",
    "    1000;\n",
    "    0;\n",
    "    0;\n",
    "    0;\n",
    "    0;\n",
    "    0;\n",
    "    0;\n",
    "    0;\n",
    "    0;\n",
    "    0\n",
    "]\n",
    "c1 = [\n",
    "    500;\n",
    "    0;\n",
    "    0;\n",
    "    0;\n",
    "    0;\n",
    "    0;\n",
    "    0;\n",
    "    0;\n",
    "    0;\n",
    "    500\n",
    "]\n",
    "\n",
    "%Store the expected distribution of walkers after one time step in a vector called x1.\n",
    "x1 = A*c0\n",
    "\n",
    "%Store the expected distribution of walkers after two time steps in a vector called x2.\n",
    "x2 = A*x1\n",
    "\n",
    "%Store the expected distribution of walkers after 9 time steps in a vector called x9.\n",
    "[S, D]=eig(A);\n",
    "x2_ = S*(D^2)*S'*c0\n",
    "x9 = S*(D^9)*S'*c0\n",
    "D\n",
    "D_300 = D^300\n",
    "x300 = S*(D_300)*S'*c0\n",
    "x300_ = S*(D_300)*S'*c1"
   ]
  },
  {
   "cell_type": "code",
   "execution_count": 3,
   "id": "082325c9-f4da-4324-b305-cc4f745796f0",
   "metadata": {},
   "outputs": [],
   "source": [
    "% for p = 1:70\n",
    "%   x_ = S*(D^p)*S'*c1;\n",
    "%   clf;\n",
    "%   figure(1,\"position\",[50,50,1000,800]);\n",
    "%   bar (x_);\n",
    "%   ylim([0 1010]);\n",
    "%   title(strcat('Time step ', num2str(p)));\n",
    "%   strcat(\"Time step \", num2str(p))\n",
    "% %   p;\n",
    "%   print animation.pdf -append\n",
    "% endfor\n",
    "% im = imread (\"animation.pdf\", \"Index\", \"all\");\n",
    "% imwrite (im, \"animation.gif\", \"DelayTime\", .05)"
   ]
  },
  {
   "cell_type": "code",
   "execution_count": 25,
   "id": "f54453f1-be7b-48bd-a73d-6217e7945f81",
   "metadata": {},
   "outputs": [],
   "source": [
    "% data=rand(100,100,20); %100 by 100 and 20 frames\n",
    "\n",
    "% %data go from 0 to 1, so lets convert to 8 bit unsigned integers for saving\n",
    "% data=data*2^8;\n",
    "% data=uint8(data);\n",
    "\n",
    "% %Write the first frame to a file named animGif.gif\n",
    "% imwrite(data(:,:,1),'animGif.gif','gif','writemode','overwrite',...\n",
    "%         'LoopCount',inf,'DelayTime',0);\n",
    "\n",
    "% %Loop through and write the rest of the frames\n",
    "% for ii=2:size(data,3)\n",
    "%      imwrite(data(:,:,ii),'animGif.gif','gif','writemode','append','DelayTime',0)\n",
    "% end"
   ]
  },
  {
   "cell_type": "code",
   "execution_count": 9,
   "id": "257a0d60-8218-4fdb-b09c-a8873ab39140",
   "metadata": {},
   "outputs": [
    {
     "name": "stdout",
     "output_type": "stream",
     "text": [
      "A =\n",
      "\n",
      "   1   1\n",
      "   1   0\n",
      "\n",
      "S =\n",
      "\n",
      "   0.5257  -0.8507\n",
      "  -0.8507  -0.5257\n",
      "\n",
      "D =\n",
      "\n",
      "Diagonal Matrix\n",
      "\n",
      "  -0.6180        0\n",
      "        0   1.6180\n",
      "\n",
      "ans =\n",
      "\n",
      "   Inf   Inf\n",
      "   Inf   Inf\n",
      "\n"
     ]
    }
   ],
   "source": [
    "A = [\n",
    "    1,1;\n",
    "    1,0\n",
    "]\n",
    "[S,D] = eig(A)\n",
    "log(S*(D^999999)*S')"
   ]
  },
  {
   "cell_type": "code",
   "execution_count": 11,
   "id": "4b3077f7-e1f2-4003-a691-33fc85e10223",
   "metadata": {},
   "outputs": [
    {
     "name": "stdout",
     "output_type": "stream",
     "text": [
      "n = 1000000\n",
      "ans = 481211.5015524723\n"
     ]
    }
   ],
   "source": [
    "n=1000000\n",
    "format long\n",
    "(n+1)*log((1+sqrt(5))/2)-log(sqrt(5))"
   ]
  },
  {
   "cell_type": "code",
   "execution_count": 58,
   "id": "9ea815ea-9150-4fcd-a54f-895c96e27700",
   "metadata": {},
   "outputs": [
    {
     "name": "stdout",
     "output_type": "stream",
     "text": [
      "n = 1000000\n",
      "Gl = 0.609377254058143\n",
      "n = 2.000000000000000e+17\n",
      "Gl = 0.609377863436006\n"
     ]
    }
   ],
   "source": [
    "M = [\n",
    "    1,1,1;\n",
    "    1,0,0;\n",
    "    0,1,0\n",
    "];\n",
    "[S,D] = eig(M);\n",
    "c0 = [\n",
    "    1;\n",
    "    1;\n",
    "    1\n",
    "];\n",
    "c1 = [\n",
    "    3;\n",
    "    1;\n",
    "    1\n",
    "];\n",
    "c2 = [\n",
    "    5;\n",
    "    3;\n",
    "    1\n",
    "];\n",
    "(S*D*S')*c0;\n",
    "M*c0;\n",
    "M*c1;\n",
    "M*c2;\n",
    "S*D*S;\n",
    "\n",
    "A = [\n",
    "    1,1;\n",
    "    1,0\n",
    "];\n",
    "a = S\\[1;1;1];\n",
    "n=25;\n",
    "S*[\n",
    "    a(1)*D(1,1)^(n-1);\n",
    "    a(2)*D(2,2)^(n-1);\n",
    "    a(3)*D(3,3)^(n-1)\n",
    "];\n",
    "n=1000000\n",
    "Gl = 1/n*((n-1)*log(D(1,1)))\n",
    "\n",
    "n=200000000000000000\n",
    "Gl = 1/n*((n-1)*log(D(1,1)))"
   ]
  },
  {
   "cell_type": "code",
   "execution_count": null,
   "id": "b4d0026b-2abb-4d8b-82d6-52bc7094826f",
   "metadata": {},
   "outputs": [],
   "source": []
  }
 ],
 "metadata": {
  "kernelspec": {
   "display_name": "Octave",
   "language": "octave",
   "name": "octave"
  },
  "language_info": {
   "file_extension": ".m",
   "help_links": [
    {
     "text": "GNU Octave",
     "url": "https://www.gnu.org/software/octave/support.html"
    },
    {
     "text": "Octave Kernel",
     "url": "https://github.com/Calysto/octave_kernel"
    },
    {
     "text": "MetaKernel Magics",
     "url": "https://metakernel.readthedocs.io/en/latest/source/README.html"
    }
   ],
   "mimetype": "text/x-octave",
   "name": "octave",
   "version": "6.4.0"
  }
 },
 "nbformat": 4,
 "nbformat_minor": 5
}

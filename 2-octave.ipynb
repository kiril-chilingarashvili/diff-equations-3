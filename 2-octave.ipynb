{
 "cells": [
  {
   "cell_type": "code",
   "execution_count": 1,
   "id": "cd251963-67b1-4686-a69f-95de0724173e",
   "metadata": {},
   "outputs": [
    {
     "name": "stdout",
     "output_type": "stream",
     "text": [
      "A =\n",
      "\n",
      "   1   4   7\n",
      "   2   5   8\n",
      "   3   6   9\n",
      "\n",
      "rrefA =\n",
      "\n",
      "   1   0  -1\n",
      "   0   1   2\n",
      "   0   0   0\n",
      "\n",
      "nullA =\n",
      "\n",
      "  -0.4082\n",
      "   0.8165\n",
      "  -0.4082\n",
      "\n"
     ]
    }
   ],
   "source": [
    "A = [\n",
    "    1,4,7;\n",
    "    2,5,8;\n",
    "    3,6,9\n",
    "    ]\n",
    "rrefA = rref(A)\n",
    "nullA = null(A)"
   ]
  },
  {
   "cell_type": "code",
   "execution_count": null,
   "id": "f46ae9f7-ab40-4ac3-b94c-be15000123b5",
   "metadata": {},
   "outputs": [],
   "source": []
  }
 ],
 "metadata": {
  "kernelspec": {
   "display_name": "Octave",
   "language": "octave",
   "name": "octave"
  },
  "language_info": {
   "file_extension": ".m",
   "help_links": [
    {
     "text": "GNU Octave",
     "url": "https://www.gnu.org/software/octave/support.html"
    },
    {
     "text": "Octave Kernel",
     "url": "https://github.com/Calysto/octave_kernel"
    },
    {
     "text": "MetaKernel Magics",
     "url": "https://metakernel.readthedocs.io/en/latest/source/README.html"
    }
   ],
   "mimetype": "text/x-octave",
   "name": "octave",
   "version": "6.4.0"
  }
 },
 "nbformat": 4,
 "nbformat_minor": 5
}

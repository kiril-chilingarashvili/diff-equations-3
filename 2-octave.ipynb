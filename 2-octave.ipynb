{
 "cells": [
  {
   "cell_type": "code",
   "execution_count": 1,
   "id": "cd251963-67b1-4686-a69f-95de0724173e",
   "metadata": {},
   "outputs": [
    {
     "name": "stdout",
     "output_type": "stream",
     "text": [
      "A =\n",
      "\n",
      "   1   4   7\n",
      "   2   5   8\n",
      "   3   6   9\n",
      "\n",
      "rrefA =\n",
      "\n",
      "   1   0  -1\n",
      "   0   1   2\n",
      "   0   0   0\n",
      "\n",
      "nullA =\n",
      "\n",
      "  -0.4082\n",
      "   0.8165\n",
      "  -0.4082\n",
      "\n"
     ]
    }
   ],
   "source": [
    "A = [\n",
    "    1,4,7;\n",
    "    2,5,8;\n",
    "    3,6,9\n",
    "    ]\n",
    "rrefA = rref(A)\n",
    "nullA = null(A)"
   ]
  },
  {
   "cell_type": "code",
   "execution_count": 2,
   "id": "f46ae9f7-ab40-4ac3-b94c-be15000123b5",
   "metadata": {},
   "outputs": [
    {
     "name": "stdout",
     "output_type": "stream",
     "text": [
      "A =\n",
      "\n",
      "   1   3\n",
      "   2   1\n",
      "   7   1\n",
      "   4   1\n",
      "\n",
      "rrefA =\n",
      "\n",
      "   1   0\n",
      "   0   1\n",
      "   0   0\n",
      "   0   0\n",
      "\n",
      "nullA = [](2x0)\n"
     ]
    }
   ],
   "source": [
    "A = [\n",
    "    1,3;\n",
    "    2,1;\n",
    "    7,1;\n",
    "    4,1\n",
    "    ]\n",
    "rrefA = rref(A)\n",
    "nullA = null(A)"
   ]
  },
  {
   "cell_type": "code",
   "execution_count": 3,
   "id": "450d1289-7b60-48d7-99eb-a354bd33f872",
   "metadata": {},
   "outputs": [
    {
     "name": "stdout",
     "output_type": "stream",
     "text": [
      "A =\n",
      "\n",
      "   1   2   7   4   4\n",
      "   3   1   1   1   0\n",
      "\n",
      "rrefA =\n",
      "\n",
      "   1.0000        0  -1.0000  -0.4000  -0.8000\n",
      "        0   1.0000   4.0000   2.2000   2.4000\n",
      "\n",
      "nullA =\n",
      "\n",
      "  -2.3583e-01  -2.3497e-01  -1.1434e-03\n",
      "   6.9301e-01   2.3383e-01   6.1225e-01\n",
      "   3.0749e-01  -3.6131e-01  -4.4159e-01\n",
      "  -2.9303e-01   8.3239e-01  -1.6723e-01\n",
      "  -5.3263e-01  -2.5826e-01   6.3418e-01\n",
      "\n"
     ]
    }
   ],
   "source": [
    "A = [\n",
    "    1,2,7,4,4;\n",
    "    3,1,1,1,0\n",
    "    ]\n",
    "rrefA = rref(A)\n",
    "nullA = null(A)"
   ]
  },
  {
   "cell_type": "code",
   "execution_count": 14,
   "id": "d5678993-3e9a-43ee-9153-d0d203f77c26",
   "metadata": {},
   "outputs": [
    {
     "name": "stdout",
     "output_type": "stream",
     "text": [
      "A =\n",
      "\n",
      "   1   1   2\n",
      "   3   1   4\n",
      "   5   1   6\n",
      "\n",
      "rrefA =\n",
      "\n",
      "   1   0   1\n",
      "   0   1   1\n",
      "   0   0   0\n",
      "\n",
      "nullA =\n",
      "\n",
      "  -0.5774\n",
      "  -0.5774\n",
      "   0.5774\n",
      "\n",
      "detA = 0\n"
     ]
    }
   ],
   "source": [
    "A = [\n",
    "    1,1,2;\n",
    "    3,1,4;\n",
    "    5,1,6\n",
    "    ]\n",
    "rrefA = rref(A)\n",
    "nullA = null(A)\n",
    "detA = det(A)\n"
   ]
  },
  {
   "cell_type": "code",
   "execution_count": 17,
   "id": "e50242fb-4428-4724-8c6b-3b80ff70687c",
   "metadata": {},
   "outputs": [
    {
     "name": "stdout",
     "output_type": "stream",
     "text": [
      "A =\n",
      "\n",
      "   0   0  -1\n",
      "   0   1   0\n",
      "   1   0   0\n",
      "\n",
      "B =\n",
      "\n",
      "   1   0   0\n",
      "   0   1   0\n",
      "   0   0   0\n",
      "\n",
      "ans =\n",
      "\n",
      "   0\n",
      "   0\n",
      "   0\n",
      "\n",
      "ans =\n",
      "\n",
      "  -1\n",
      "   0\n",
      "   0\n",
      "\n"
     ]
    }
   ],
   "source": [
    "A = [\n",
    "    0,0,-1;\n",
    "    0,1,0;\n",
    "    1,0,0\n",
    "    ]\n",
    "B = [\n",
    "    1,0,0;\n",
    "    0,1,0;\n",
    "    0,0,0\n",
    "]\n",
    "A*B*[0;0;1]\n",
    "B*A*[0;0;1]"
   ]
  },
  {
   "cell_type": "code",
   "execution_count": 19,
   "id": "65d1c2e0-ebab-4d86-9d9e-af83dc39c75b",
   "metadata": {},
   "outputs": [
    {
     "name": "stdout",
     "output_type": "stream",
     "text": [
      "A =\n",
      "\n",
      "   5.7148e-01   1.0529e-01   3.0302e-01\n",
      "   3.1695e-02   6.9727e-01   2.9040e-01\n",
      "   7.5360e-01   2.2212e-01   7.0368e-03\n",
      "\n",
      "B =\n",
      "\n",
      "   0.923861   0.040595   0.702973\n",
      "   0.646215   0.067185   0.982201\n",
      "   0.557052   0.556945   0.140047\n",
      "\n",
      "ans =\n",
      "\n",
      "   0.764803   0.199036   0.547586\n",
      "   0.641633   0.209868   0.747808\n",
      "   0.843678   0.049435   0.748913\n",
      "\n",
      "ans =\n",
      "\n",
      "   1.0590   0.2817   0.2967\n",
      "   1.1116   0.3331   0.2222\n",
      "   0.4415   0.4781   0.3315\n",
      "\n"
     ]
    }
   ],
   "source": [
    "A = rand(3,3)\n",
    "B = rand(3,3)\n",
    "A*B\n",
    "B*A"
   ]
  },
  {
   "cell_type": "code",
   "execution_count": null,
   "id": "94464943-18bb-409c-9ff1-929e65645a26",
   "metadata": {},
   "outputs": [],
   "source": []
  }
 ],
 "metadata": {
  "kernelspec": {
   "display_name": "Octave",
   "language": "octave",
   "name": "octave"
  },
  "language_info": {
   "file_extension": ".m",
   "help_links": [
    {
     "text": "GNU Octave",
     "url": "https://www.gnu.org/software/octave/support.html"
    },
    {
     "text": "Octave Kernel",
     "url": "https://github.com/Calysto/octave_kernel"
    },
    {
     "text": "MetaKernel Magics",
     "url": "https://metakernel.readthedocs.io/en/latest/source/README.html"
    }
   ],
   "mimetype": "text/x-octave",
   "name": "octave",
   "version": "6.4.0"
  }
 },
 "nbformat": 4,
 "nbformat_minor": 5
}

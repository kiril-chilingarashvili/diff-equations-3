{
 "cells": [
  {
   "cell_type": "code",
   "execution_count": 4,
   "id": "a8752450-7421-4125-8882-c19f5e7811c0",
   "metadata": {},
   "outputs": [
    {
     "data": {
      "text/plain": [
       "(array([[ 1. , -1. ],\n",
       "        [ 2.1,  3. ]]),\n",
       " (Matrix([\n",
       "  [1, 0],\n",
       "  [0, 1]]),\n",
       "  (0, 1)))"
      ]
     },
     "execution_count": 4,
     "metadata": {},
     "output_type": "execute_result"
    }
   ],
   "source": [
    "import sympy as sp\n",
    "import numpy as np\n",
    "x = np.array([[1.,-1.],[2.1,3.]])\n",
    "xmat = sp.Matrix(x)\n",
    "xrref = xmat.rref()\n",
    "x, xrref"
   ]
  },
  {
   "cell_type": "code",
   "execution_count": null,
   "id": "8d92a16c-5c38-448f-828c-e2046ff9ef64",
   "metadata": {},
   "outputs": [],
   "source": []
  }
 ],
 "metadata": {
  "kernelspec": {
   "display_name": "Python 3",
   "language": "python",
   "name": "python3"
  },
  "language_info": {
   "codemirror_mode": {
    "name": "ipython",
    "version": 3
   },
   "file_extension": ".py",
   "mimetype": "text/x-python",
   "name": "python",
   "nbconvert_exporter": "python",
   "pygments_lexer": "ipython3",
   "version": "3.8.12"
  }
 },
 "nbformat": 4,
 "nbformat_minor": 5
}

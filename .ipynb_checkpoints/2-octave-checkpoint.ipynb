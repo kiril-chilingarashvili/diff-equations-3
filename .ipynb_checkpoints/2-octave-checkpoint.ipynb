{
 "cells": [
  {
   "cell_type": "code",
   "execution_count": 1,
   "id": "cd251963-67b1-4686-a69f-95de0724173e",
   "metadata": {},
   "outputs": [
    {
     "name": "stdout",
     "output_type": "stream",
     "text": [
      "A =\n",
      "\n",
      "   1   4   7\n",
      "   2   5   8\n",
      "   3   6   9\n",
      "\n",
      "rrefA =\n",
      "\n",
      "   1   0  -1\n",
      "   0   1   2\n",
      "   0   0   0\n",
      "\n",
      "nullA =\n",
      "\n",
      "  -0.4082\n",
      "   0.8165\n",
      "  -0.4082\n",
      "\n"
     ]
    }
   ],
   "source": [
    "A = [\n",
    "    1,4,7;\n",
    "    2,5,8;\n",
    "    3,6,9\n",
    "    ]\n",
    "rrefA = rref(A)\n",
    "nullA = null(A)"
   ]
  },
  {
   "cell_type": "code",
   "execution_count": 2,
   "id": "f46ae9f7-ab40-4ac3-b94c-be15000123b5",
   "metadata": {},
   "outputs": [
    {
     "name": "stdout",
     "output_type": "stream",
     "text": [
      "A =\n",
      "\n",
      "   1   3\n",
      "   2   1\n",
      "   7   1\n",
      "   4   1\n",
      "\n",
      "rrefA =\n",
      "\n",
      "   1   0\n",
      "   0   1\n",
      "   0   0\n",
      "   0   0\n",
      "\n",
      "nullA = [](2x0)\n"
     ]
    }
   ],
   "source": [
    "A = [\n",
    "    1,3;\n",
    "    2,1;\n",
    "    7,1;\n",
    "    4,1\n",
    "    ]\n",
    "rrefA = rref(A)\n",
    "nullA = null(A)"
   ]
  },
  {
   "cell_type": "code",
   "execution_count": 3,
   "id": "450d1289-7b60-48d7-99eb-a354bd33f872",
   "metadata": {},
   "outputs": [
    {
     "name": "stdout",
     "output_type": "stream",
     "text": [
      "A =\n",
      "\n",
      "   1   2   7   4   4\n",
      "   3   1   1   1   0\n",
      "\n",
      "rrefA =\n",
      "\n",
      "   1.0000        0  -1.0000  -0.4000  -0.8000\n",
      "        0   1.0000   4.0000   2.2000   2.4000\n",
      "\n",
      "nullA =\n",
      "\n",
      "  -2.3583e-01  -2.3497e-01  -1.1434e-03\n",
      "   6.9301e-01   2.3383e-01   6.1225e-01\n",
      "   3.0749e-01  -3.6131e-01  -4.4159e-01\n",
      "  -2.9303e-01   8.3239e-01  -1.6723e-01\n",
      "  -5.3263e-01  -2.5826e-01   6.3418e-01\n",
      "\n"
     ]
    }
   ],
   "source": [
    "A = [\n",
    "    1,2,7,4,4;\n",
    "    3,1,1,1,0\n",
    "    ]\n",
    "rrefA = rref(A)\n",
    "nullA = null(A)"
   ]
  },
  {
   "cell_type": "code",
   "execution_count": null,
   "id": "d5678993-3e9a-43ee-9153-d0d203f77c26",
   "metadata": {},
   "outputs": [],
   "source": []
  }
 ],
 "metadata": {
  "kernelspec": {
   "display_name": "Octave",
   "language": "octave",
   "name": "octave"
  },
  "language_info": {
   "file_extension": ".m",
   "help_links": [
    {
     "text": "GNU Octave",
     "url": "https://www.gnu.org/software/octave/support.html"
    },
    {
     "text": "Octave Kernel",
     "url": "https://github.com/Calysto/octave_kernel"
    },
    {
     "text": "MetaKernel Magics",
     "url": "https://metakernel.readthedocs.io/en/latest/source/README.html"
    }
   ],
   "mimetype": "text/x-octave",
   "name": "octave",
   "version": "6.4.0"
  }
 },
 "nbformat": 4,
 "nbformat_minor": 5
}

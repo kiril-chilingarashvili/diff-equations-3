{
 "cells": [
  {
   "cell_type": "code",
   "execution_count": 1,
   "id": "8237aa6a-cb97-48fe-9b20-9edf8013e04c",
   "metadata": {},
   "outputs": [
    {
     "name": "stdout",
     "output_type": "stream",
     "text": [
      "Requirement already satisfied: sympy in /Users/kchilingarashvili/opt/anaconda3/lib/python3.8/site-packages (1.8)\n",
      "Requirement already satisfied: mpmath>=0.19 in /Users/kchilingarashvili/opt/anaconda3/lib/python3.8/site-packages (from sympy) (1.2.1)\n"
     ]
    }
   ],
   "source": [
    "!pip install sympy"
   ]
  },
  {
   "cell_type": "code",
   "execution_count": 4,
   "id": "a8752450-7421-4125-8882-c19f5e7811c0",
   "metadata": {},
   "outputs": [
    {
     "data": {
      "text/plain": [
       "(array([[ 1. , -1. ],\n",
       "        [ 2.1,  3. ]]),\n",
       " (Matrix([\n",
       "  [1, 0],\n",
       "  [0, 1]]),\n",
       "  (0, 1)))"
      ]
     },
     "execution_count": 4,
     "metadata": {},
     "output_type": "execute_result"
    }
   ],
   "source": [
    "import sympy as sp\n",
    "import numpy as np\n",
    "x = np.array([[1.,-1.],[2.1,3.]])\n",
    "xmat = sp.Matrix(x)\n",
    "xrref = xmat.rref()\n",
    "x, xrref"
   ]
  },
  {
   "cell_type": "code",
   "execution_count": 4,
   "id": "8d92a16c-5c38-448f-828c-e2046ff9ef64",
   "metadata": {},
   "outputs": [
    {
     "data": {
      "text/plain": [
       "(Matrix([\n",
       " [1, 0, 0],\n",
       " [0, 1, 0],\n",
       " [0, 0, 1],\n",
       " [0, 0, 0]]),\n",
       " (0, 1, 2))"
      ]
     },
     "execution_count": 4,
     "metadata": {},
     "output_type": "execute_result"
    }
   ],
   "source": [
    "import sympy as sp\n",
    "import numpy as np\n",
    "A = np.array([[2,1,9],[3,2,11],[-1,-3,8],[4,6,-4]])\n",
    "sp.Matrix.rref(sp.Matrix(A))"
   ]
  },
  {
   "cell_type": "code",
   "execution_count": null,
   "id": "586e750e-7c72-48b4-97f7-e9bd13a8438b",
   "metadata": {},
   "outputs": [],
   "source": []
  }
 ],
 "metadata": {
  "kernelspec": {
   "display_name": "Python 3",
   "language": "python",
   "name": "python3"
  },
  "language_info": {
   "codemirror_mode": {
    "name": "ipython",
    "version": 3
   },
   "file_extension": ".py",
   "mimetype": "text/x-python",
   "name": "python",
   "nbconvert_exporter": "python",
   "pygments_lexer": "ipython3",
   "version": "3.8.8"
  }
 },
 "nbformat": 4,
 "nbformat_minor": 5
}

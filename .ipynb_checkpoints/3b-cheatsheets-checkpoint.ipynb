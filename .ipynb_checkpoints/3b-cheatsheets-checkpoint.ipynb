{
 "cells": [
  {
   "cell_type": "markdown",
   "id": "5fcf9d58-9752-44ed-963e-221143d4ea04",
   "metadata": {},
   "source": [
    "# Unit 3: Solving systems of first order ODEs using matrix methods, Part b"
   ]
  },
  {
   "cell_type": "markdown",
   "id": "69969cb3-3072-4cd8-89cc-3f68e9ac95b5",
   "metadata": {},
   "source": [
    "## General solution to inhomogeneous systems\n",
    "\n",
    "### Recall that an ***inhomogeneous*** first order $n \\times n$ linear system of ODEs is\n",
    "## $$ \\dot{\\bf{x}} =\\bf{A}\\bf{x}+{\\color{red}{\\bf{r}(t)}} $$\n",
    "### where $\\bf{A}$ is an $n \\times n$ matrix, ${\\color{red}{\\bf{r}(t)}}$ is a vector in $n$-dimensional space, and they both depend only on the independent variable $t$ \n",
    "### The general solution to such an inhomogeneous system is\n",
    "## $$ \\bf{x}(t) = \\underbrace{\\bf{x_h}(t)}_{\\text{homogenous}}+{\\color{red}{\\underbrace{\\bf{x_p}(t)}_{\\text{particular}}}} $$\n",
    "### where $\\bf{x_h}$ is the general solution to the associated homogeneous system:\n",
    "## $$ \\dot{\\bf{x}}_h = \\bf{A}\\bf{x_h} $$\n",
    "### and ${\\color{red}{\\bf{x_p}}}$ is one particular solution satisfying the full inhomogeneous equation:\n",
    "## $$ {\\color{red}{\\dot{\\bf{x}}_p}} = \\bf{A}{\\color{red}{\\bf{x_p}}} + {\\color{red}{\\bf{r}}} $$\n",
    "### This is due to the linearity of the system and the superposition principle.\n",
    "### As before in this course, we will restrict ourselves to the case when $\\bf{A}$ is ***constant***."
   ]
  },
  {
   "cell_type": "markdown",
   "id": "95f896ce-70bb-4d06-aa49-c86bbcb10410",
   "metadata": {},
   "source": [
    "## Variation of parameters\n",
    "\n",
    "### Long ago, we used ***variation of parameters*** to solve single first order inhomogeneous linear ODEs\n",
    "## $$ \\dot{\\bf{x}}+p(t)x = r(t) $$ \n",
    "### We first find a solution #x_h# to the associated homogeneous equation, seek a particular solution of the form $x_p(t) = u(t)x_h(t)$, and use the original inhomogeneous ODE to solve for the unknown function $u(t)$.\n",
    "### Now, we are going to use the same idea to solve an inhomogeneous linear $n \\times n$ ***system*** of ODEs:\n",
    "## $$ \\dot{\\bf{x}} = \\bf{A}\\bf{x}+\\bf{r} $$\n",
    "### where $\\bf{r}$ is a vector-valued function of $t$.\n",
    "### First, find a basis of solutions to the corresponding homogeneous system\n",
    "## $$ \\dot{\\bf{x}} = \\bf{A}\\bf{x} $$\n",
    "### Call the basis solutions $\\bf{x_1}, \\bf{x_2}, \\ldots,\\bf{x_n}(t)$.  The general homogeneous solution is any linear combination of these:\n",
    "## $$ \\bf{x_h}(t) = c_1\\bf{x_1}+c_2\\bf{x_2}+\\ldots+c_n\\bf{x_n} $$\n",
    "## $$ =\\bf{X}\\bf{c} \\quad \\text{where} \\, \\bf{X} = \\begin{pmatrix} | & | &  & | \\\\ \\bf{x_1} & \\bf{x_2} & \\cdots & \\bf{x_n} \\\\ | & | & & | \\end{pmatrix}, \\bf{c} = \\begin{pmatrix} c_1 \\\\ c_2 \\\\ \\vdots \\\\ c_n \\end{pmatrix} $$\n",
    "### Notice that in 1 dimension, $x_h(t) = c x_1(t) = x_1(t)c$, but in higher dimensions, $\\bf{x_h}(t) = \\bf{X}\\bf{c}$ where $\\bf{c}$ is a column vector and must be placed to the right of the fundamental matrix $\\bf{X}$.\n",
    "### To find a particular solution, we let the coefficients $c_i$ vary with time. In other words, replace the constant vector $\\bf{c}$ by the vector ***function***\n",
    "## $$ \\bf{v}(t) = \\begin{pmatrix} v_1 (t) \\\\ v_2 (t) \\\\ \\vdots \\\\ v_n(t) \\end{pmatrix} $$\n",
    "### Now, substitute $\\bf{x} = \\bf{X}\\bf{v}(t)$ in the original system:\n",
    "## $$ \\begin{array} {rcl} \\dot{\\bf{x}} & = & \\bf{A}\\bf{x}+\\bf{r} \\\\ \\dot{\\bf{X}}\\bf{v}+\\bf{X}\\dot{\\bf{v}} & = & \\bf{A} \\bf{X}\\bf{v} + \\bf{r} \\quad (\\text{product rule of differentiation}) \\\\ \\bf{A}\\bf{X}\\bf{v}+\\bf{X}\\dot{\\bf{v}} & = & \\bf{A}\\bf{X}\\bf{v}+\\bf{r} \\quad (\\dot{\\bf{X}} = \\bf{A}\\bf{X}) \\\\ \\bf{X}\\dot{\\bf{v}} & = & \\bf{r} \\\\ \\dot{\\bf{v}} & = & \\bf{X}^{-1}\\bf{r} \\quad (\\bf{X}\\,\\text{invertible}) \\end{array} $$\n",
    "### This means\n",
    "## $$ \\bf{v}(t) = \\int \\bf{X}^{-1}\\bf{r} dt $$\n",
    "### and the general solution to the inhomogeneous system is\n",
    "## $$ \\bf{x}(t) = \\bf{X}\\bf{v}(t) = \\bf{X} \\left( \\int \\bf{X}^{-1} \\bf{r} dt \\right) $$\n",
    "### for any fundamental matrix $\\bf{X}$ of the associated homogeneous system.\n",
    "\n",
    "### This is a family of solutions because the indefinite integral on the right hand side will result in a constant of integration. Note that the constant of integration is a column vector."
   ]
  },
  {
   "cell_type": "markdown",
   "id": "64bad763-7ae9-4ae3-9fe0-472572b8efd8",
   "metadata": {},
   "source": [
    "## Worked example: variation of parameters\n",
    "\n",
    "### Steps to solve $\\dot{\\bf{x}} = \\bf{A}\\bf{x}+\\bf{r}$ by variation of parameters:\n",
    "### 1. Find a fundamental matrix $\\bf{X}$ of the associated homogeneous system $\\dot{\\bf{x}} = \\bf{A}\\bf{x}$. One way to do this is to use eigenvalues and eigenvectors of $\\bf{A}$ to find a basis of homogeneous solutions and use these solutions as the columns of $\\bf{X}$.\n",
    "### 2. Substitute $\\bf{x} = \\bf{X}\\bf{v}$ for a vector-valued function $\\bf{v}$; this eventually leads to\n",
    "## $$ \\dot{\\bf{v}} = \\bf{X}^{-1}\\bf{r} $$\n",
    "### (and you may jump right to this if you want).\n",
    "### 3. Compute the right hand side and integrate each component function to find $\\bf{v}$:\n",
    "## $$ \\bf{v}(t) = \\int \\bf{X}^{-1}\\bf{r} dt = \\bf{v_p} + \\bf{c} $$\n",
    "### Note that the indefinite integral will contain a constant of integration $+\\bf{c}$.\n",
    "### 4. The general solution to the inhomogeneous equation is\n",
    "## $$ \\begin{array} {rcl} \\bf{x} & = & \\bf{X}\\bf{v} \\\\ \\, & = & \\bf{X}\\bf{v_p}+\\bf{X}\\bf{c} \\\\ \\, & = & \\bf{x_p} + \\bf{x_h} \\end{array} $$\n",
    "\n",
    "\n",
    "### ***Example 6.1***   \n",
    "### Let us finish the example from the video.\n",
    "![Tanks](img/tanks-3.png)\n",
    "\n",
    "### Two connected 1-liter tanks with salt solution.\n",
    "\n",
    "### Let $x$ (in grams) and $y$ (in grams) be the amounts of salt in the left and right tanks respectively.\n",
    "### The salt solution flows through the bottom pipe to right at $3$ liters/hour, and through the top pipe to the left at $2$ liters/hour\n",
    "\n",
    "### A salt solution of concentration $5e^{-t}$ is mixed into the system through a pipe connected to the left tank at a flow rate of $1$ liter/hours. In addition, water flows into the right tank through a top pipe at the rate of $1$ liter/hour, and the salt solution inside the right tank flows out through a bottom pipe at the rate of $2$ liters/hour\n",
    "### Our goal is to find how the concentration of salt in each tank evolves over time.\n",
    "### Recall that the inhomogeneous system of ODEs that describes the rate of change of the amount of salt in the tanks is\n",
    "## $$ \\dot{\\bf{x}} = \\bf{A}\\bf{x}+\\bf{r}(t) \\quad \\text{where}\\, \\bf{x} = \\begin{pmatrix} x \\\\ y \\end{pmatrix} $$\n",
    "## $$ \\bf{A} = \\begin{pmatrix} -3 & 2 \\\\ 3 & -4 \\end{pmatrix} $$\n",
    "## $$ \\bf{r} = \\begin{pmatrix} 5e^{-t} \\\\ 0 \\end{pmatrix} $$\n",
    "### To use variation of parameters, we first find a fundamental matrix of the associated homogeneous system. Recall (from a previous problem) that a fundamental matrix, whose columns are the normal modes, is given by the product\n",
    "## $$ \\bf{X} = \\begin{pmatrix} 1 & -2 \\\\ 1 & 3 \\end{pmatrix} \\begin{pmatrix} e^{-t} & 0 \\\\ 0 & e^{-6t} \\end{pmatrix} $$\n",
    "### Then, variation of parameters gives the general solution\n",
    "## $$ \\bf{x} = \\bf{X}\\bf{v} \\quad \\text{where}\\, \\bf{v} = \\int \\bf{X}^{-1} r dt $$\n",
    "### Let us find $\\bf{v}$. First, compute $\\bf{X}^{-1}\\bf{r}$ (we show our work but you can do this in different ways):\n",
    "## $$ \\begin{array} {rcl} \\bf{X}^{-1} & = & \\left( \\begin{pmatrix} 1 & -2 \\\\ 1 & 3 \\end{pmatrix} \\begin{pmatrix} e^{-t} & 0 \\\\ 0 & e^{-6t} \\end{pmatrix} \\right)^{-1} \\\\ \\, & = & \\begin{pmatrix} e^{-t} & 0 \\\\ 0 & e^{-6t} \\end{pmatrix}^{-1} \\begin{pmatrix} 1 & -2 \\\\ 1 & 3 \\end{pmatrix}^{-1} \\\\ \\, & = & \\begin{pmatrix} e^t & 0 \\\\ 0 & e^6t \\end{pmatrix} \\left( \\frac{1}{5} \\begin{pmatrix} 3 & 2 \\\\ -1 & 1 \\end{pmatrix} \\right) \\end{array} $$\n",
    "## $$ \\begin{array} {rcl} \\bf{X}^{-1}\\bf{{\\color{red}{r}}} & = & \\frac{1}{5} \\begin{pmatrix} e^t & 0 \\\\ 0 & e^6t \\end{pmatrix} \\begin{pmatrix} 3 & 2 \\\\ -1 & 1 \\end{pmatrix} {\\color{red}{\\begin{pmatrix} 5e^{-t} \\\\ 0 \\end{pmatrix}}} \\\\ \\, & = & \\begin{pmatrix} e^t & 0 \\\\ 0 & e^6t \\end{pmatrix} \\begin{pmatrix} 3 & 2 \\\\ -1 & 1 \\end{pmatrix} {\\color{red}{\\begin{pmatrix} e^{-t} \\\\ 0 \\end{pmatrix}}} \\\\ \\, & = & \\begin{pmatrix}e^t & 0 \\\\ 0 & e^{6t} \\end{pmatrix}\\begin{pmatrix} 3e^{-t} \\\\ -e^{-t} \\end{pmatrix} \\\\ \\, & = & \\begin{pmatrix} 3 \\\\ -e^{5t} \\end{pmatrix} \\end{array} $$\n",
    "### Therefore,\n",
    "## $$ \\bf{v}(t) = \\int \\bf{X}^{-1} {\\color{red}{\\bf{r}}} dt = \\begin{pmatrix} \\int 3 dt \\\\ \\int -e^{5t} \\end{pmatrix} = \\begin{pmatrix} 3t \\\\ -\\frac{1}{5} e^{5t} \\end{pmatrix} + \\begin{pmatrix} c_1 \\\\ c_2 \\end{pmatrix} $$\n",
    "### This gives the general solution to the inhomogeneous system:\n",
    "## $$ \\bf{X}  =  \\begin{pmatrix} 1 & -2 \\\\ 1 & 3 \\end{pmatrix} \\begin{pmatrix} e^{-t} & 0 \\\\ 0 & e^{-6t} \\end{pmatrix},\\, \\bf{v}  = \\begin{pmatrix} 3t \\\\ -\\frac{1}{5}e^{5t} \\end{pmatrix} + \\begin{pmatrix} c_1 \\\\ c_2 \\end{pmatrix} $$\n",
    "## $$ \\begin{array} {rcl} \\bf{x} & = & \\bf{X}\\bf{v} \\\\ \\, & = & \\underbrace{\\bf{X} \\begin{pmatrix} 3t \\\\ -\\frac{1}{5}e^{5t} \\end{pmatrix}}_{\\text{particular solution}} + \\underbrace{\\bf{X} \\begin{pmatrix} c_1 \\\\ c_2 \\end{pmatrix}}_{\\text{general homogenous solution}} \\\\ \\, & = & \\underbrace{\\begin{pmatrix} 1 & -2 \\\\ 1 & 3 \\end{pmatrix}\\begin{pmatrix} e^{-t} & 0 \\\\ 0 & e^{-6t} \\end{pmatrix}\\begin{pmatrix} 3t \\\\ -\\frac{1}{5}e^{5t} \\end{pmatrix}}_{\\text{particular solution}} + \\underbrace{\\begin{pmatrix} 1 & -2 \\\\ 1 & 3 \\end{pmatrix}\\begin{pmatrix} e^{-t} & 0 \\\\ 0 & e^{-6t} \\end{pmatrix}\\begin{pmatrix} c_1 \\\\ c_2 \\end{pmatrix}}_{\\text{general homogenous solution}} \\\\ \\, & = & \\underbrace{\\begin{pmatrix} 2 \\\\ -3 \\end{pmatrix} \\frac{e^{-t}}{5} + \\begin{pmatrix} 1 \\\\ 1 \\end{pmatrix} 3te^{-t} }_{\\text{particular solution}} + \\underbrace{c_1 \\begin{pmatrix} 1 \\\\ 1 \\end{pmatrix} e^{-t} + c_1 \\begin{pmatrix} -2 \\\\ 3 \\end{pmatrix} e^{-6t} }_{\\text{general homogenous solution}} \\end{array} $$\n",
    "### This decays to zero as $t \\to \\infty$, so the amount of salt in both tanks will eventually become negligible.\n",
    "### For fun, find the maximum salt concentration in each tank. Also explore how the different input concentration will affect the long term behavior."
   ]
  },
  {
   "cell_type": "markdown",
   "id": "a954150e-aca0-4817-babb-8817cf49227f",
   "metadata": {},
   "source": []
  }
 ],
 "metadata": {
  "kernelspec": {
   "display_name": "Python 3 (ipykernel)",
   "language": "python",
   "name": "python3"
  },
  "language_info": {
   "codemirror_mode": {
    "name": "ipython",
    "version": 3
   },
   "file_extension": ".py",
   "mimetype": "text/x-python",
   "name": "python",
   "nbconvert_exporter": "python",
   "pygments_lexer": "ipython3",
   "version": "3.9.7"
  }
 },
 "nbformat": 4,
 "nbformat_minor": 5
}

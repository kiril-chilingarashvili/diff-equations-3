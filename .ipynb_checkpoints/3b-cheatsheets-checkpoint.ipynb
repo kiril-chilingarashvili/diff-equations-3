{
 "cells": [
  {
   "cell_type": "markdown",
   "id": "5fcf9d58-9752-44ed-963e-221143d4ea04",
   "metadata": {},
   "source": [
    "# Unit 3: Solving systems of first order ODEs using matrix methods, Part b"
   ]
  },
  {
   "cell_type": "markdown",
   "id": "69969cb3-3072-4cd8-89cc-3f68e9ac95b5",
   "metadata": {},
   "source": [
    "## General solution to inhomogeneous systems\n",
    "\n",
    "### Recall that an ***inhomogeneous*** first order $n \\times n$ linear system of ODEs is\n",
    "## $$ \\dot{\\bf{x}} =\\bf{A}\\bf{x}+{\\color{red}{\\bf{r}(t)}} $$\n",
    "### where $\\bf{A}$ is an $n \\times n$ matrix, ${\\color{red}{\\bf{r}(t)}}$ is a vector in $n$-dimensional space, and they both depend only on the independent variable $t$ \n",
    "### The general solution to such an inhomogeneous system is\n",
    "## $$ \\bf{x}(t) = \\underbrace{\\bf{x_h}(t)}_{\\text{homogenous}}+{\\color{red}{\\underbrace{\\bf{x_p}(t)}_{\\text{particular}}}} $$\n",
    "### where $\\bf{x_h}$ is the general solution to the associated homogeneous system:\n",
    "## $$ \\dot{\\bf{x}}_h = \\bf{A}\\bf{x_h} $$\n",
    "### and ${\\color{red}{\\bf{x_p}}}$ is one particular solution satisfying the full inhomogeneous equation:\n",
    "## $$ {\\color{red}{\\dot{\\bf{x}}_p}} = \\bf{A}{\\color{red}{\\bf{x_p}}} + {\\color{red}{\\bf{r}}} $$\n",
    "### This is due to the linearity of the system and the superposition principle.\n",
    "### As before in this course, we will restrict ourselves to the case when $\\bf{A}$ is ***constant***."
   ]
  },
  {
   "cell_type": "markdown",
   "id": "95f896ce-70bb-4d06-aa49-c86bbcb10410",
   "metadata": {},
   "source": []
  }
 ],
 "metadata": {
  "kernelspec": {
   "display_name": "Python 3",
   "language": "python",
   "name": "python3"
  },
  "language_info": {
   "codemirror_mode": {
    "name": "ipython",
    "version": 3
   },
   "file_extension": ".py",
   "mimetype": "text/x-python",
   "name": "python",
   "nbconvert_exporter": "python",
   "pygments_lexer": "ipython3",
   "version": "3.8.8"
  }
 },
 "nbformat": 4,
 "nbformat_minor": 5
}

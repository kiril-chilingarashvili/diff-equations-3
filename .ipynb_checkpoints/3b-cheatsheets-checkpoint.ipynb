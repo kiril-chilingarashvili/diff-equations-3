{
 "cells": [
  {
   "cell_type": "markdown",
   "id": "5fcf9d58-9752-44ed-963e-221143d4ea04",
   "metadata": {},
   "source": [
    "# Unit 3: Solving systems of first order ODEs using matrix methods, Part b"
   ]
  },
  {
   "cell_type": "markdown",
   "id": "69969cb3-3072-4cd8-89cc-3f68e9ac95b5",
   "metadata": {},
   "source": []
  }
 ],
 "metadata": {
  "kernelspec": {
   "display_name": "Python 3",
   "language": "python",
   "name": "python3"
  },
  "language_info": {
   "codemirror_mode": {
    "name": "ipython",
    "version": 3
   },
   "file_extension": ".py",
   "mimetype": "text/x-python",
   "name": "python",
   "nbconvert_exporter": "python",
   "pygments_lexer": "ipython3",
   "version": "3.8.8"
  }
 },
 "nbformat": 4,
 "nbformat_minor": 5
}

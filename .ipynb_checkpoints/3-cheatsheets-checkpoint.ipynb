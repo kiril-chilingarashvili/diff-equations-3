{
 "cells": [
  {
   "cell_type": "markdown",
   "id": "54fc6f20-66b1-446a-b5fa-675dd678ba50",
   "metadata": {},
   "source": [
    "# Unit 3: Solving systems of first order ODEs using matrix methods"
   ]
  },
  {
   "cell_type": "markdown",
   "id": "908a50fe-6ed1-4855-924e-96e707d47fdb",
   "metadata": {},
   "source": [
    "## Connected tanks\n",
    "\n",
    "### You've been put in charge of part of a medicine manufacturing plant with three identical cylindrical storage tanks. These tanks are filled with the medicine to different heights and are connected to each other via a pipe at their bottoms, with valves that are initially closed. Our goal is to determine how the fluid will flow once we open the valves. Note that we have solved the analogous problem for two tanks in the course Differential equations: 2 by 2 systems previously.\n",
    "\n",
    "### To begin, we name the heights of the fluid in the three tanks $h_1$, $h_2$ and $h_3$ respectively.\n",
    "![Tanks](img/tanks.png)"
   ]
  },
  {
   "cell_type": "markdown",
   "id": "0005fbd5-24cd-4f1a-a25e-0b8830ca3a93",
   "metadata": {},
   "source": [
    "### ***Simplifying assumptions***\n",
    "\n",
    "### We will make the simplifying assumptions that we can model the flow linearly, and that the flow rate is proportional to the difference in fluid height (as in the case with only 2 tanks). These assumptions are valid when the pipes have a small diameter relative to the overall size of the tanks, the geometry of the pipes and tanks is simple, and the fluid properties of the medicine work out.\n",
    "\n",
    "### ***Equation for tank 1:***\n",
    "### Let us first work out the differential equation describing fluid flow into tank 1. Let $V_1$ be the volume of fluid in tank 1. The flow rate of fluid into (or out of) tank 1 is by definition $\\frac{dV_1}{dt}$\n",
    "\n",
    "### As mentioned above, we assume that the flow rate is proportional to the difference in heights. The flow rate into tank 1 from tank 2 is $b(h_2-h_1)$ where $b$ is the constant of proportionality (with dimension $[length]^2[time]^{-1}$). Similarly, the flow rate from tank 3 is $c(h_3-h_1)$ with $c$ the constant of proportionality. The flow rate into tank 1 is therefore:\n",
    "## $$ \\frac{dV_1}{dt} = b(h_2-h_1)+c(h_3-h_1) $$\n",
    "\n",
    "### Note that the constant $b$ is positive because when $h_2>h_1$ fluid flows into tank 1 so that $V_1$ is increasing. Similarly, $c$ is positive. We usually set up differential equations so that parameters such as $b$ and $c$ are positive. This way we will be less prone to sign errors.\n",
    "\n",
    "### Since the tank is cylindrical, the rate of change in volume $V_1$ is given by the cross sectional area $A$ times the rate of change in height $h_1$ of fluid in tank 1:\n",
    "## $$ \\frac{dV_1}{dt} = A\\frac{dh_1}{dt} $$\n",
    "### Therefore, the differential equation in terms of $h_1$ is\n",
    "## $$ \\frac{h_1}{dt} = \\frac{1}{A} \\frac{dV_1}{dt} = \\frac{b}{A}(h_2-h_1)+\\frac{c}{A}(h_3-h_1) $$\n",
    "\n",
    "### We can combine the constants. Let $a_{21} = \\frac{b}{A}$ (with dimension $[time]^{-1}$), where the subscript $21$ indicates that this is the constant governing the flow from tank 2 to tank 1. Similarly, let $a_{31} = \\frac{c}{A}$ be the combined constant governing flow from tank 3 and tank 1. The differential equation in terms of the new constants is:\n",
    "## $$ \\frac{dh_1}{dt} = a_{21}(h_2-h_1)+a_{31}(h_3-h_1) \\quad (a_{21}, a_{31} > 0) $$"
   ]
  },
  {
   "cell_type": "markdown",
   "id": "a5aa4310-7a58-4efc-84be-02e51c19192f",
   "metadata": {},
   "source": [
    "### ***Equations for tank 2 and tank 3***:\n",
    "\n",
    "### Analogous reasoning as above gives the differential equations for flow rates into tank 2 and tank 3:\n",
    "## $$ \\frac{dh_2}{dt} = a_{12}(h_1-h_2)+a_{32}(h_3-h_2) \\quad (a_{12}, a_{32} > 0) $$\n",
    "## $$ \\frac{dh_3}{dt} = a_{13}(h_1-h_3)+a_{23}(h_2-h_3) \\quad (a_{13}, a_{23} > 0) $$\n",
    "\n",
    "### Note that $a_{12} = a_{21}$. For example, if $h_2>h_1$ then $a_{21}(h_2-h_1) > 0$ so the flow rate from tank 2 into tank 1 is positive, whereas $a_{12}(h_1 - h_2) < 0$ so that the flow rate from tank 1 to tank 2 is negative. This is consistent because these 2 expressions are equal in magnitude but opposite in sign. Similarly, $a_{13} = a_{31}$ and $a_{23} = a_{32}$\n"
   ]
  },
  {
   "cell_type": "markdown",
   "id": "dfb18417-d3ec-4252-88bd-43755d0c3dff",
   "metadata": {},
   "source": [
    "### ***Matrix form***\n",
    "### We can now rewrite this equation in matrix form:\n",
    "## $$ \\dot{\\bf{x}} = \\bf{A}\\bf{x} \\quad \\text{where}\\,\\bf{x} = \\begin{pmatrix} h_1 \\\\ h_2 \\\\ h_3 \\end{pmatrix},\\, \\bf{A} = \\begin{pmatrix} -a_{12}-a_{13} & a_{12} & a_{13} \\\\ a_{12} & -a_{12}-a_{23} & a_{23} \\\\ a_{13} & a_{23} & -a_{13}-a_{23} \\end{pmatrix} $$\n",
    "\n",
    "### To make things even nicer, we'll set all constants $a_{ij} = 1$. The resulting equation is\n",
    "## $$ \\dot{\\bf{x}} = \\bf{A}\\bf{x} \\quad \\text{where}\\,\\bf{x} = \\begin{pmatrix} h_1 \\\\ h_2 \\\\ h_3 \\end{pmatrix},\\, \\bf{A} = \\begin{pmatrix} -2 & 1 & 1 \\\\ 1 & -2 & 1 \\\\ 1 & 1 & -2 \\end{pmatrix} $$"
   ]
  },
  {
   "cell_type": "markdown",
   "id": "ccf6a513-f59a-4f20-8bc9-fb1876c03539",
   "metadata": {},
   "source": [
    "### Note that the matrix $\\bf{A}$ is symmetric, i.e. $\\bf{A}=\\bf{A}^T$ (even before the constants are set to $1$). Is this a coincidence? In fact, symmetric matrices appear in many models of real physical phenomena.\n",
    "\n",
    "### An important theorem in linear algebra states that symmetric matrices have real eigenvalues and an orthogonal basis of eigenvectors."
   ]
  },
  {
   "cell_type": "markdown",
   "id": "5c800d05-0397-4f1c-84bd-8b3bc99eb1a3",
   "metadata": {},
   "source": [
    "## Solving homogeneous linear systems of ODEs\n",
    "\n",
    "### Consider a first-order homogenous linear system of ODEs:\n",
    "## $$ \\dot{\\bf{x}} = \\bf{A}\\bf{x} $$\n",
    "### where $\\bf{A}$ is an $n \\times n$ matrix with constant, real entries.\n",
    "\n",
    "### Recall (from the course Differential equations: 2 by 2 systems) that $\\bf{v}e^{\\lambda t}$ is a solution if and only if $\\bf{v}$ is an eigenvector of $\\bf{A}$ with eigenvalue $\\lambda$.\n",
    "\n",
    "### Reason:\n",
    "### If $\\bf{x} = \\bf{v}e^{\\lambda t}$, then $\\dot{\\bf{x}} = \\lambda \\bf{v}e^{\\lambda t}$ and $\\bf{A}\\bf{x} = \\bf{A}\\bf{v}e^{\\lambda t}$. Therefore\n",
    "## $$ \\begin{array} {rcl} \\dot{\\bf{x}} & = & \\bf{A}\\bf{x} \\\\ \\iff \\lambda\\bf{v}e^{\\lambda t} & = & \\bf{A}\\bf{v}e^{\\lambda t} \\quad (\\text{for all}\\,t) \\\\ \\iff \\lambda \\bf{v} & = & \\bf{A}\\bf{v} \\quad (\\text{cancel}\\,e^{\\lambda t}\\,\\text{from both sides}) \\end{array} $$\n",
    "\n",
    "### Note that we are following the convention that in expressions like $\\lambda \\bf{v}e^{\\lambda t}$ scalar functions such as $e^{\\lambda t}$ are placed to the right, while constant scalars and constant vectors are placed to the left.\n",
    "\n",
    "### ***Conclusion***: $\\bf{v}e^{\\lambda t}$ is a solution if and only if $\\bf{v}$ is an eigenvector of $\\bf{A}$ with eigenvalue $\\lambda$."
   ]
  },
  {
   "cell_type": "markdown",
   "id": "3c19c137-03db-4853-a216-0432592cb3f6",
   "metadata": {},
   "source": [
    "### ***Steps to find a basis of solutions to $\\dot{\\bf{x}} = \\bf{A}\\bf{x}$, given an $n \\times n$ matrix $\\bf{A}$***:\n",
    "\n",
    "### 1. Find the eigenvalues of $\\bf{A}$. These are the roots of the characteristic polynomial $\\det(\\lambda\\bf{I} - \\bf{A})$.\n",
    "### 2. For each eigenvalue $\\lambda$:\n",
    "### - Find a basis for the corresponding eigenspace $\\operatorname{NS}(\\lambda \\bf{I} - \\bf{A})$. Call these basis vectors $\\bf{v_1},ldots,\\bf{v_k}$.\n",
    "### - Each vector-valued function $\\bf{v_i}e^{\\lambda t}$ is a solution. A solution of this form is called a ***normal mode***.\n",
    "### 3. If $n$ such solutions were found (i.e., the sum of the dimensions of the eigenspaces is $n$), then these $n$ solutions are enough to form a basis of all solutions.\n",
    "\n",
    "### ***Remark 3.1***\n",
    "### The solutions of this type will automatically be linearly independent, since their values at $t = 0$ are linearly independent. (The chosen eigenvectors within each eigenspace are independent, and there is no linear dependence between eigenvectors with different eigenvalues.)\n",
    "### ***Remark 3.2***\n",
    "### Note that $\\lambda$ and $\\bf{v}$ may be complex, which means that eventually you will want to find a basis of real solutions.\n",
    "### ***Remark 3.3***\n",
    "### The only thing that could go wrong is this: if there is a repeated eigenvalue $\\lambda$, and the dimension of the eigenspace of $\\lambda$ is less than the multiplicity of $\\lambda$, then the method above does not produce enough solutions. We will not deal with this case until the next lecture."
   ]
  },
  {
   "cell_type": "markdown",
   "id": "13ddcd0c-da48-499f-9890-4847f3330164",
   "metadata": {},
   "source": [
    "## Solving the system with 3 tanks\n",
    "\n",
    "### Let us review the solution to the system\n",
    "## $$ \\dot{\\bf{x}} = \\bf{A}\\bf{x} \\quad \\text{where}\\,\\bf{A} = \\begin{pmatrix} -2 & 1 & 1 \\\\ 1 & -2 & 1 \\\\ 1 & 1 & -2 \\end{pmatrix} $$\n",
    "### in the context of the 3 connected storage tanks.\n",
    "\n",
    "### ***Solution***\n",
    "### ***Step 1. Eigenvalues***\n",
    "### The characteristic equation of $\\bf{A}$ is\n",
    "## $$ \\det(\\lambda \\bf{I} - \\bf{A}) = \\begin{vmatrix} \\lambda+2 & -1 & -1 \\\\ -1 & \\lambda+2 & -1 \\\\ -1 & -1 & \\lambda+2 \\end{vmatrix} = 0 $$\n",
    "### Expanding in polynomial form and factoring, we get\n",
    "## $$ \\begin{array} {rcl} \\lambda^3+6\\lambda^2+9\\lambda  & = & 0 \\\\ \\lambda(\\lambda^2+6\\lambda+9) & = & 0 \\\\ \\lambda(\\lambda+3)^2 & = & 0 \\end{array} $$\n",
    "### Therefore, the eigenvalues of $\\bf{A}$ are $0$ with multiplicity $1$ and $-3$ with multiplicity $2$."
   ]
  },
  {
   "cell_type": "markdown",
   "id": "4e2c1caa-5821-47c5-ad37-7a9592af77f3",
   "metadata": {},
   "source": []
  }
 ],
 "metadata": {
  "kernelspec": {
   "display_name": "Python 3",
   "language": "python",
   "name": "python3"
  },
  "language_info": {
   "codemirror_mode": {
    "name": "ipython",
    "version": 3
   },
   "file_extension": ".py",
   "mimetype": "text/x-python",
   "name": "python",
   "nbconvert_exporter": "python",
   "pygments_lexer": "ipython3",
   "version": "3.8.8"
  }
 },
 "nbformat": 4,
 "nbformat_minor": 5
}

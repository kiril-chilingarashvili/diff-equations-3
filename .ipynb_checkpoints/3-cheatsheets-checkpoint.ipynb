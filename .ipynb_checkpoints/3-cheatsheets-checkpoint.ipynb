{
 "cells": [
  {
   "cell_type": "markdown",
   "id": "54fc6f20-66b1-446a-b5fa-675dd678ba50",
   "metadata": {},
   "source": [
    "# Unit 3: Solving systems of first order ODEs using matrix methods"
   ]
  },
  {
   "cell_type": "markdown",
   "id": "908a50fe-6ed1-4855-924e-96e707d47fdb",
   "metadata": {},
   "source": [
    "## Connected tanks\n",
    "\n",
    "### You've been put in charge of part of a medicine manufacturing plant with three identical cylindrical storage tanks. These tanks are filled with the medicine to different heights and are connected to each other via a pipe at their bottoms, with valves that are initially closed. Our goal is to determine how the fluid will flow once we open the valves. Note that we have solved the analogous problem for two tanks in the course Differential equations: 2 by 2 systems previously.\n",
    "\n",
    "### To begin, we name the heights of the fluid in the three tanks $h_1$, $h_2$ and $h_3$ respectively.\n",
    "![Tanks](img/tanks.png)"
   ]
  },
  {
   "cell_type": "markdown",
   "id": "0005fbd5-24cd-4f1a-a25e-0b8830ca3a93",
   "metadata": {},
   "source": [
    "### ***Simplifying assumptions***\n",
    "\n",
    "### We will make the simplifying assumptions that we can model the flow linearly, and that the flow rate is proportional to the difference in fluid height (as in the case with only 2 tanks). These assumptions are valid when the pipes have a small diameter relative to the overall size of the tanks, the geometry of the pipes and tanks is simple, and the fluid properties of the medicine work out.\n",
    "\n",
    "### ***Equation for tank 1:***\n",
    "### Let us first work out the differential equation describing fluid flow into tank 1. Let $V_1$ be the volume of fluid in tank 1. The flow rate of fluid into (or out of) tank 1 is by definition $\\frac{dV_1}{dt}$\n",
    "\n",
    "### As mentioned above, we assume that the flow rate is proportional to the difference in heights. The flow rate into tank 1 from tank 2 is $b(h_2-h_1)$ where $b$ is the constant of proportionality (with dimension $[length]^2[time]^{-1}$). Similarly, the flow rate from tank 3 is $c(h_3-h_1)$ with $c$ the constant of proportionality. The flow rate into tank 1 is therefore:\n",
    "## $$ \\frac{dV_1}{dt} = b(h_2-h_1)+c(h_3-h_1) $$\n",
    "\n",
    "### Note that the constant $b$ is positive because when $h_2>h_1$ fluid flows into tank 1 so that $V_1$ is increasing. Similarly, $c$ is positive. We usually set up differential equations so that parameters such as $b$ and $c$ are positive. This way we will be less prone to sign errors.\n",
    "\n",
    "### Since the tank is cylindrical, the rate of change in volume $V_1$ is given by the cross sectional area $A$ times the rate of change in height $h_1$ of fluid in tank 1:\n",
    "## $$ \\frac{dV_1}{dt} = A\\frac{dh_1}{dt} $$\n",
    "### Therefore, the differential equation in terms of $h_1$ is\n",
    "## $$ \\frac{h_1}{dt} = \\frac{1}{A} \\frac{dV_1}{dt} = \\frac{b}{A}(h_2-h_1)+\\frac{c}{A}(h_3-h_1) $$\n",
    "\n",
    "### We can combine the constants. Let $a_{21} = \\frac{b}{A}$ (with dimension $[time]^{-1}$), where the subscript $21$ indicates that this is the constant governing the flow from tank 2 to tank 1. Similarly, let $a_{31} = \\frac{c}{A}$ be the combined constant governing flow from tank 3 and tank 1. The differential equation in terms of the new constants is:\n",
    "## $$ \\frac{dh_1}{dt} = a_{21}(h_2-h_1)+a_{31}(h_3-h_1) \\quad (a_{21}, a_{31} > 0) $$"
   ]
  },
  {
   "cell_type": "markdown",
   "id": "a5aa4310-7a58-4efc-84be-02e51c19192f",
   "metadata": {},
   "source": [
    "### ***Equations for tank 2 and tank 3***:\n",
    "\n",
    "### Analogous reasoning as above gives the differential equations for flow rates into tank 2 and tank 3:\n",
    "## $$ \\frac{dh_2}{dt} = a_{12}(h_1-h_2)+a_{32}(h_3-h_2) \\quad (a_{12}, a_{32} > 0) $$\n",
    "## $$ \\frac{dh_3}{dt} = a_{13}(h_1-h_3)+a_{23}(h_2-h_3) \\quad (a_{13}, a_{23} > 0) $$\n",
    "\n",
    "### Note that $a_{12} = a_{21}$. For example, if $h_2>h_1$ then $a_{21}(h_2-h_1) > 0$ so the flow rate from tank 2 into tank 1 is positive, whereas $a_{12}(h_1 - h_2) < 0$ so that the flow rate from tank 1 to tank 2 is negative. This is consistent because these 2 expressions are equal in magnitude but opposite in sign. Similarly, $a_{13} = a_{31}$ and $a_{23} = a_{32}$\n"
   ]
  },
  {
   "cell_type": "markdown",
   "id": "dfb18417-d3ec-4252-88bd-43755d0c3dff",
   "metadata": {},
   "source": [
    "### ***Matrix form***\n",
    "### We can now rewrite this equation in matrix form:\n",
    "## $$ \\dot{\\bf{x}} = \\bf{A}\\bf{x} \\quad \\text{where}\\,\\bf{x} = \\begin{pmatrix} h_1 \\\\ h_2 \\\\ h_3 \\end{pmatrix},\\, \\bf{A} = \\begin{pmatrix} -a_{12}-a_{13} & a_{12} & a_{13} \\\\ a_{12} & -a_{12}-a_{23} & a_{23} \\\\ a_{13} & a_{23} & -a_{13}-a_{23} \\end{pmatrix} $$\n",
    "\n",
    "### To make things even nicer, we'll set all constants $a_{ij} = 1$. The resulting equation is\n",
    "## $$ \\dot{\\bf{x}} = \\bf{A}\\bf{x} \\quad \\text{where}\\,\\bf{x} = \\begin{pmatrix} h_1 \\\\ h_2 \\\\ h_3 \\end{pmatrix},\\, \\bf{A} = \\begin{pmatrix} -2 & 1 & 1 \\\\ 1 & -2 & 1 \\\\ 1 & 1 & -2 \\end{pmatrix} $$"
   ]
  },
  {
   "cell_type": "markdown",
   "id": "ccf6a513-f59a-4f20-8bc9-fb1876c03539",
   "metadata": {},
   "source": [
    "### Note that the matrix $\\bf{A}$ is symmetric, i.e. $\\bf{A}=\\bf{A}^T$ (even before the constants are set to $1$). Is this a coincidence? In fact, symmetric matrices appear in many models of real physical phenomena.\n",
    "\n",
    "### An important theorem in linear algebra states that symmetric matrices have real eigenvalues and an orthogonal basis of eigenvectors."
   ]
  },
  {
   "cell_type": "markdown",
   "id": "5c800d05-0397-4f1c-84bd-8b3bc99eb1a3",
   "metadata": {},
   "source": [
    "## Solving homogeneous linear systems of ODEs\n",
    "\n",
    "### Consider a first-order homogenous linear system of ODEs:\n",
    "## $$ \\dot{\\bf{x}} = \\bf{A}\\bf{x} $$\n",
    "### where $\\bf{A}$ is an $n \\times n$ matrix with constant, real entries.\n",
    "\n",
    "### Recall (from the course Differential equations: 2 by 2 systems) that $\\bf{v}e^{\\lambda t}$ is a solution if and only if $\\bf{v}$ is an eigenvector of $\\bf{A}$ with eigenvalue $\\lambda$.\n",
    "\n",
    "### Reason:\n",
    "### If $\\bf{x} = \\bf{v}e^{\\lambda t}$, then $\\dot{\\bf{x}} = \\lambda \\bf{v}e^{\\lambda t}$ and $\\bf{A}\\bf{x} = \\bf{A}\\bf{v}e^{\\lambda t}$. Therefore\n",
    "## $$ \\begin{array} {rcl} \\dot{\\bf{x}} & = & \\bf{A}\\bf{x} \\\\ \\iff \\lambda\\bf{v}e^{\\lambda t} & = & \\bf{A}\\bf{v}e^{\\lambda t} \\quad (\\text{for all}\\,t) \\\\ \\iff \\lambda \\bf{v} & = & \\bf{A}\\bf{v} \\quad (\\text{cancel}\\,e^{\\lambda t}\\,\\text{from both sides}) \\end{array} $$\n",
    "\n",
    "### Note that we are following the convention that in expressions like $\\lambda \\bf{v}e^{\\lambda t}$ scalar functions such as $e^{\\lambda t}$ are placed to the right, while constant scalars and constant vectors are placed to the left.\n",
    "\n",
    "### ***Conclusion***: $\\bf{v}e^{\\lambda t}$ is a solution if and only if $\\bf{v}$ is an eigenvector of $\\bf{A}$ with eigenvalue $\\lambda$."
   ]
  },
  {
   "cell_type": "markdown",
   "id": "3c19c137-03db-4853-a216-0432592cb3f6",
   "metadata": {},
   "source": [
    "### ***Steps to find a basis of solutions to $\\dot{\\bf{x}} = \\bf{A}\\bf{x}$, given an $n \\times n$ matrix $\\bf{A}$***:\n",
    "\n",
    "### 1. Find the eigenvalues of $\\bf{A}$. These are the roots of the characteristic polynomial $\\det(\\lambda\\bf{I} - \\bf{A})$.\n",
    "### 2. For each eigenvalue $\\lambda$:\n",
    "### - Find a basis for the corresponding eigenspace $\\operatorname{NS}(\\lambda \\bf{I} - \\bf{A})$. Call these basis vectors $\\bf{v_1},ldots,\\bf{v_k}$.\n",
    "### - Each vector-valued function $\\bf{v_i}e^{\\lambda t}$ is a solution. A solution of this form is called a ***normal mode***.\n",
    "### 3. If $n$ such solutions were found (i.e., the sum of the dimensions of the eigenspaces is $n$), then these $n$ solutions are enough to form a basis of all solutions.\n",
    "\n",
    "### ***Remark 3.1***\n",
    "### The solutions of this type will automatically be linearly independent, since their values at $t = 0$ are linearly independent. (The chosen eigenvectors within each eigenspace are independent, and there is no linear dependence between eigenvectors with different eigenvalues.)\n",
    "### ***Remark 3.2***\n",
    "### Note that $\\lambda$ and $\\bf{v}$ may be complex, which means that eventually you will want to find a basis of real solutions.\n",
    "### ***Remark 3.3***\n",
    "### The only thing that could go wrong is this: if there is a repeated eigenvalue $\\lambda$, and the dimension of the eigenspace of $\\lambda$ is less than the multiplicity of $\\lambda$, then the method above does not produce enough solutions. We will not deal with this case until the next lecture."
   ]
  },
  {
   "cell_type": "markdown",
   "id": "13ddcd0c-da48-499f-9890-4847f3330164",
   "metadata": {},
   "source": [
    "## Solving the system with 3 tanks\n",
    "\n",
    "### Let us review the solution to the system\n",
    "## $$ \\dot{\\bf{x}} = \\bf{A}\\bf{x} \\quad \\text{where}\\,\\bf{A} = \\begin{pmatrix} -2 & 1 & 1 \\\\ 1 & -2 & 1 \\\\ 1 & 1 & -2 \\end{pmatrix} $$\n",
    "### in the context of the 3 connected storage tanks.\n",
    "\n",
    "### ***Solution***\n",
    "### ***Step 1. Eigenvalues***\n",
    "### The characteristic equation of $\\bf{A}$ is\n",
    "## $$ \\det(\\lambda \\bf{I} - \\bf{A}) = \\begin{vmatrix} \\lambda+2 & -1 & -1 \\\\ -1 & \\lambda+2 & -1 \\\\ -1 & -1 & \\lambda+2 \\end{vmatrix} = 0 $$\n",
    "### Expanding in polynomial form and factoring, we get\n",
    "## $$ \\begin{array} {rcl} \\lambda^3+6\\lambda^2+9\\lambda  & = & 0 \\\\ \\lambda(\\lambda^2+6\\lambda+9) & = & 0 \\\\ \\lambda(\\lambda+3)^2 & = & 0 \\end{array} $$\n",
    "### Therefore, the eigenvalues of $\\bf{A}$ are $0$ with multiplicity $1$ and $-3$ with multiplicity $2$."
   ]
  },
  {
   "cell_type": "markdown",
   "id": "4e2c1caa-5821-47c5-ad37-7a9592af77f3",
   "metadata": {},
   "source": [
    "### ***Step 2. Eigenvectors and the exponential solutions***\n",
    "\n",
    "### Let us find the eigenvectors/eigenspace to accompany each eigenvalue.\n",
    "\n",
    "### ***Eigenspace of*** $\\lambda=0$:\n",
    "### The eigenspace corresponding to $\\lambda_1 = 0$ is the null space of\n",
    "## $$ \\begin{pmatrix} -2 & 1 & 1 \\\\ 1 & -2 & 1 \\\\ 1 & 1 & -2 \\end{pmatrix} $$\n",
    "### By inspection, we see that the vector of all $1$'s is an eigenvector. Therefore, the eigenspace is spanned by the eigenvector\n",
    "## $$ \\bf{v_1} = \\begin{pmatrix} 1 \\\\ 1 \\\\ 1 \\end{pmatrix}  $$\n",
    "### and a normal mode to the system of DE is\n",
    "## $$ \\bf{v_1} e^{0t} = \\begin{pmatrix} 1 \\\\ 1 \\\\ 1 \\end{pmatrix} $$\n",
    "### This solution, or a positive scalar multiple of it, corresponds to a constant (or steady state) solution where the tanks all have the same level of fluid and there is no net flow between the tanks."
   ]
  },
  {
   "cell_type": "markdown",
   "id": "560a4ac0-e430-4059-a2b0-ead3799d6dcf",
   "metadata": {},
   "source": [
    "### ***Eigenspace of*** $\\lambda=-3$:\n",
    "### Next, we find the eigenvectors corresponding to the repeated eigenvalue $-3$. We need to find the nullspace of the matrix\n",
    "## $$ (-3) \\bf{I} - \\bf{A} = \\begin{pmatrix} -1 & -1 & -1 \\\\ -1 & -1 & -1 \\\\ -1 & -1 & -1 \\end{pmatrix} $$\n",
    "### We can find 2 eigenvectors by inspection:\n",
    "## $$ \\bf{v_2} = \\begin{pmatrix} 1 \\\\ 0 \\\\ -1 \\end{pmatrix}, \\quad \\bf{v_3} = \\begin{pmatrix} 1 \\\\ -1 \\\\ 0 \\end{pmatrix} $$\n",
    "### Since the multilicity of the eigenvalue $-3$ is $2$ the maximum number of linearly independent eigenvectors is $2$ and so we have found enough eigenvectors.\n",
    "\n",
    "### ***Step 3. The general solution***\n",
    "### The general solution is a linear combination of the normal modes:\n",
    "## $$ \\begin{array} {rcl} \\bf{x}(t) & = & c_1\\bf{v_1}e^{0t} + c_2\\bf{v_2}e^{-3 t} + c_3\\bf{v_3}e^{-3 t} \\\\ \\, & = & c_1 \\begin{pmatrix} 1 \\ 1 \\\\ 1 \\end{pmatrix} + \\left[ c_2 \\begin{pmatrix} 1 \\\\ 0 \\\\ -1 \\end{pmatrix} + c_3 \\begin{pmatrix} 1 \\\\ -1 \\\\ 0 \\end{pmatrix}  \\right] e^{-3 t} \\end{array} $$\n",
    "### The three constants $c_1$, $c_2$ and $c_3$ are determined by the initial conditions.\n",
    "\n",
    "### Note that the terms proportional to $e^{-3 t}$ will decay to zero as $t \\to \\infty$ so every solution, regardless of the initial conditions, will approach a constant solution. This means that the fluid heights in the three tanks will approach the same height as time goes on, as expected from physical experience."
   ]
  },
  {
   "cell_type": "markdown",
   "id": "b995e840-01c8-4fc8-8fdf-583cb04be620",
   "metadata": {},
   "source": [
    "## Worked example\n",
    "\n",
    "### ***Problem 5.1***\n",
    "### Find the general solution $(x(t), y(t), z(t))$ to the system\n",
    "## $$ \\begin{array} {rcl} \\dot{x} & = & 2x \\\\ \\dot{y} & = & -6x+8y+3z \\\\ \\dot{z} & = & 18x-18y-7z \\end{array} $$\n",
    "### ***Solution***\n",
    "### In matrix form, this is $\\dot{\\bf{x}} = \\bf{A}\\bf{x}$, where $\\bf{A} = \\begin{pmatrix} 2 & 0 & 0 \\\\ -6 & 8 & 3 \\\\ 18 & -18 & -7 \\end{pmatrix}$\n",
    "### ***Step 1. Find the eigenvalues.*** To do this, compute\n",
    "## $$ \\det(\\lambda\\bf{I} - \\bf{A}) = \\begin{vmatrix} \\lambda - 2 & 0 & 0 \\\\ -6 & \\lambda - 8 & 3 \\\\ 18 & -18 & \\lambda + 7 \\end{vmatrix} $$\n",
    "### Use Laplace expansion along the first row to get\n",
    "## $$ (\\lambda -2) \\bigl ((\\lambda -8)(\\lambda +7) - 18(-3) \\bigr)= (\\lambda -2)(\\lambda ^2-\\lambda -2) = (\\lambda -2)(\\lambda -2)(\\lambda +1) $$\n",
    "### so the eigenvalues are $2,2,-1$\n",
    "### ***Step 2. Find a basis of each eigenspace and write down the exponential solutions.***\n",
    "### ***Eigenspace of $\\lambda=2$***:\n",
    "### This is nullspace of\n",
    "## $$ 2\\bf{I}-\\bf{A} = \\begin{pmatrix} 0 & 0 & 0 \\\\ 6 & -6 & -3 \\\\ -18 & 18 & 9 \\end{pmatrix} $$\n",
    "### Converting to row-echelon form gives\n",
    "## $$ \\begin{pmatrix} 6 & -6 & -3 \\\\ 0 & 0 & 0 \\\\ 0 & 0 & 0 \\end{pmatrix} $$\n",
    "### which corresponds to the single equation\n",
    "## $$ -6x+6y+3z = 0 $$\n",
    "### Solve by back-substitution: $z=c_1, \\, y = c_2, \\, x = y+z/2 = c_2+c_1/2$, so\n",
    "## $$ \\begin{pmatrix} x \\\\ y \\\\ z \\end{pmatrix} = c_1 \\begin{pmatrix} \\frac{1}{2} \\\\ 0 \\\\ 1 \\end{pmatrix} + c_2 \\begin{pmatrix} 1 \\\\ 1 \\\\ 0 \\end{pmatrix} $$\n",
    "### so $\\begin{pmatrix} \\frac{1}{2} \\\\ 0 \\\\ 1 \\end{pmatrix},\\, \\begin{pmatrix} 1 \\\\ 1 \\\\ 0 \\end{pmatrix} $ form a basis for the eigenspace at $2$. (We were lucky here that the number of basis eigenvectors is as large as the multiplicity of the eigenvalue, so that the eigenspace of $2$ was not deficient.)\n",
    "\n",
    "### The exponential solutions built from these eigenvectors are:\n",
    "## $$ e^{2t} \\begin{pmatrix} \\frac{1}{2} \\\\ 0 \\\\ 1 \\end{pmatrix}, \\, e^{2t} \\begin{pmatrix} 1 \\\\ 1 \\\\ 0 \\end{pmatrix}  $$\n",
    "### ***Eigenspace of*** $\\lambda=-1$:\n",
    "### This is the nullspace of \n",
    "## $$ -\\bf{I}-\\bf{A} = \\begin{pmatrix} -3 & 0 & 0 \\\\ 6 & -9 & -3 \\\\ -18 & 18 & 6 \\end{pmatrix} $$\n",
    "### COnverting to row-echelon form gives\n",
    "## $$ \\begin{pmatrix} 3 & 0 & 0 \\\\ 0 & -9 & -3 \\\\ 0 & 0 & 0 \\end{pmatrix} $$\n",
    "### which corresponds to this system\n",
    "## $$ \\begin{array} {rcl} 3x & = & 0 \\\\ 9y+3z & = & 0 \\end{array} $$\n",
    "### Back-substitution leads to\n",
    "## $$ \\begin{pmatrix} x \\\\ y \\\\ z \\end{pmatrix} = c \\begin{pmatrix} 0 \\\\ -1 \\\\ 3 \\end{pmatrix} $$\n",
    "### so $\\begin{pmatrix} 0 \\\\ -1 \\\\ 3 \\end{pmatrix}$ by itself is a basis for the eigenspace at $-1$.\n",
    "### The exponential solution built from this eigenvector is\n",
    "## $$ e^{-t} \\begin{pmatrix} 0 \\\\ -1 \\\\ 3 \\end{pmatrix} $$\n",
    "\n",
    "### ***Step 3. Check whether there are enough independent solutions and write the general solution.***\n",
    "### We have three independent solutions,\n",
    "## $$ e^{2t} \\begin{pmatrix} \\frac{1}{2} \\\\ 0 \\\\ 1 \\end{pmatrix}, \\, e^{2t} \\begin{pmatrix} 1 \\\\ 1 \\\\ 0 \\end{pmatrix}, \\, e^{-t} \\begin{pmatrix} 0 \\\\ -1 \\\\ 3 \\end{pmatrix} $$\n",
    "### so they form a basis of all solutions. The general solution is\n",
    "## $$ \\begin{pmatrix} x \\\\ y \\\\ z \\end{pmatrix} = c_1 e^{2t} \\begin{pmatrix} \\frac{1}{2} \\\\ 0 \\\\ 1 \\end{pmatrix} +c_2 e^{2t} \\begin{pmatrix} 1 \\\\ 1 \\\\ 0 \\end{pmatrix} + c_3 e^{-t} \\begin{pmatrix} 0 \\\\ -1 \\\\ 3 \\end{pmatrix} $$\n",
    "### If there were initial conditions, we could solve for $c_1, c_2, c_3$ to get specific solution."
   ]
  },
  {
   "cell_type": "markdown",
   "id": "221ffc07-a3db-44c7-9666-075c95766045",
   "metadata": {},
   "source": []
  }
 ],
 "metadata": {
  "kernelspec": {
   "display_name": "Python 3",
   "language": "python",
   "name": "python3"
  },
  "language_info": {
   "codemirror_mode": {
    "name": "ipython",
    "version": 3
   },
   "file_extension": ".py",
   "mimetype": "text/x-python",
   "name": "python",
   "nbconvert_exporter": "python",
   "pygments_lexer": "ipython3",
   "version": "3.8.8"
  }
 },
 "nbformat": 4,
 "nbformat_minor": 5
}

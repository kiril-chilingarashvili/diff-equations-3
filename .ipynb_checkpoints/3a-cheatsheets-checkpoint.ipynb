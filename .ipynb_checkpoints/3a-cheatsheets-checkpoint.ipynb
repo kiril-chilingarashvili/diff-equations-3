{
 "cells": [
  {
   "cell_type": "markdown",
   "id": "54fc6f20-66b1-446a-b5fa-675dd678ba50",
   "metadata": {},
   "source": [
    "# Unit 3: Solving systems of first order ODEs using matrix methods, Part a"
   ]
  },
  {
   "cell_type": "markdown",
   "id": "908a50fe-6ed1-4855-924e-96e707d47fdb",
   "metadata": {},
   "source": [
    "## Connected tanks\n",
    "\n",
    "### You've been put in charge of part of a medicine manufacturing plant with three identical cylindrical storage tanks. These tanks are filled with the medicine to different heights and are connected to each other via a pipe at their bottoms, with valves that are initially closed. Our goal is to determine how the fluid will flow once we open the valves. Note that we have solved the analogous problem for two tanks in the course Differential equations: 2 by 2 systems previously.\n",
    "\n",
    "### To begin, we name the heights of the fluid in the three tanks $h_1$, $h_2$ and $h_3$ respectively.\n",
    "![Tanks](img/tanks.png)"
   ]
  },
  {
   "cell_type": "markdown",
   "id": "0005fbd5-24cd-4f1a-a25e-0b8830ca3a93",
   "metadata": {},
   "source": [
    "### ***Simplifying assumptions***\n",
    "\n",
    "### We will make the simplifying assumptions that we can model the flow linearly, and that the flow rate is proportional to the difference in fluid height (as in the case with only 2 tanks). These assumptions are valid when the pipes have a small diameter relative to the overall size of the tanks, the geometry of the pipes and tanks is simple, and the fluid properties of the medicine work out.\n",
    "\n",
    "### ***Equation for tank 1:***\n",
    "### Let us first work out the differential equation describing fluid flow into tank 1. Let $V_1$ be the volume of fluid in tank 1. The flow rate of fluid into (or out of) tank 1 is by definition $\\frac{dV_1}{dt}$\n",
    "\n",
    "### As mentioned above, we assume that the flow rate is proportional to the difference in heights. The flow rate into tank 1 from tank 2 is $b(h_2-h_1)$ where $b$ is the constant of proportionality (with dimension $[length]^2[time]^{-1}$). Similarly, the flow rate from tank 3 is $c(h_3-h_1)$ with $c$ the constant of proportionality. The flow rate into tank 1 is therefore:\n",
    "## $$ \\frac{dV_1}{dt} = b(h_2-h_1)+c(h_3-h_1) $$\n",
    "\n",
    "### Note that the constant $b$ is positive because when $h_2>h_1$ fluid flows into tank 1 so that $V_1$ is increasing. Similarly, $c$ is positive. We usually set up differential equations so that parameters such as $b$ and $c$ are positive. This way we will be less prone to sign errors.\n",
    "\n",
    "### Since the tank is cylindrical, the rate of change in volume $V_1$ is given by the cross sectional area $A$ times the rate of change in height $h_1$ of fluid in tank 1:\n",
    "## $$ \\frac{dV_1}{dt} = A\\frac{dh_1}{dt} $$\n",
    "### Therefore, the differential equation in terms of $h_1$ is\n",
    "## $$ \\frac{h_1}{dt} = \\frac{1}{A} \\frac{dV_1}{dt} = \\frac{b}{A}(h_2-h_1)+\\frac{c}{A}(h_3-h_1) $$\n",
    "\n",
    "### We can combine the constants. Let $a_{21} = \\frac{b}{A}$ (with dimension $[time]^{-1}$), where the subscript $21$ indicates that this is the constant governing the flow from tank 2 to tank 1. Similarly, let $a_{31} = \\frac{c}{A}$ be the combined constant governing flow from tank 3 and tank 1. The differential equation in terms of the new constants is:\n",
    "## $$ \\frac{dh_1}{dt} = a_{21}(h_2-h_1)+a_{31}(h_3-h_1) \\quad (a_{21}, a_{31} > 0) $$"
   ]
  },
  {
   "cell_type": "markdown",
   "id": "a5aa4310-7a58-4efc-84be-02e51c19192f",
   "metadata": {},
   "source": [
    "### ***Equations for tank 2 and tank 3***:\n",
    "\n",
    "### Analogous reasoning as above gives the differential equations for flow rates into tank 2 and tank 3:\n",
    "## $$ \\frac{dh_2}{dt} = a_{12}(h_1-h_2)+a_{32}(h_3-h_2) \\quad (a_{12}, a_{32} > 0) $$\n",
    "## $$ \\frac{dh_3}{dt} = a_{13}(h_1-h_3)+a_{23}(h_2-h_3) \\quad (a_{13}, a_{23} > 0) $$\n",
    "\n",
    "### Note that $a_{12} = a_{21}$. For example, if $h_2>h_1$ then $a_{21}(h_2-h_1) > 0$ so the flow rate from tank 2 into tank 1 is positive, whereas $a_{12}(h_1 - h_2) < 0$ so that the flow rate from tank 1 to tank 2 is negative. This is consistent because these 2 expressions are equal in magnitude but opposite in sign. Similarly, $a_{13} = a_{31}$ and $a_{23} = a_{32}$\n"
   ]
  },
  {
   "cell_type": "markdown",
   "id": "dfb18417-d3ec-4252-88bd-43755d0c3dff",
   "metadata": {},
   "source": [
    "### ***Matrix form***\n",
    "### We can now rewrite this equation in matrix form:\n",
    "## $$ \\dot{\\bf{x}} = \\bf{A}\\bf{x} \\quad \\text{where}\\,\\bf{x} = \\begin{pmatrix} h_1 \\\\ h_2 \\\\ h_3 \\end{pmatrix},\\, \\bf{A} = \\begin{pmatrix} -a_{12}-a_{13} & a_{12} & a_{13} \\\\ a_{12} & -a_{12}-a_{23} & a_{23} \\\\ a_{13} & a_{23} & -a_{13}-a_{23} \\end{pmatrix} $$\n",
    "\n",
    "### To make things even nicer, we'll set all constants $a_{ij} = 1$. The resulting equation is\n",
    "## $$ \\dot{\\bf{x}} = \\bf{A}\\bf{x} \\quad \\text{where}\\,\\bf{x} = \\begin{pmatrix} h_1 \\\\ h_2 \\\\ h_3 \\end{pmatrix},\\, \\bf{A} = \\begin{pmatrix} -2 & 1 & 1 \\\\ 1 & -2 & 1 \\\\ 1 & 1 & -2 \\end{pmatrix} $$"
   ]
  },
  {
   "cell_type": "markdown",
   "id": "ccf6a513-f59a-4f20-8bc9-fb1876c03539",
   "metadata": {},
   "source": [
    "### Note that the matrix $\\bf{A}$ is symmetric, i.e. $\\bf{A}=\\bf{A}^T$ (even before the constants are set to $1$). Is this a coincidence? In fact, symmetric matrices appear in many models of real physical phenomena.\n",
    "\n",
    "### An important theorem in linear algebra states that symmetric matrices have real eigenvalues and an orthogonal basis of eigenvectors."
   ]
  },
  {
   "cell_type": "markdown",
   "id": "5c800d05-0397-4f1c-84bd-8b3bc99eb1a3",
   "metadata": {},
   "source": [
    "## Solving homogeneous linear systems of ODEs\n",
    "\n",
    "### Consider a first-order homogenous linear system of ODEs:\n",
    "## $$ \\dot{\\bf{x}} = \\bf{A}\\bf{x} $$\n",
    "### where $\\bf{A}$ is an $n \\times n$ matrix with constant, real entries.\n",
    "\n",
    "### Recall (from the course Differential equations: 2 by 2 systems) that $\\bf{v}e^{\\lambda t}$ is a solution if and only if $\\bf{v}$ is an eigenvector of $\\bf{A}$ with eigenvalue $\\lambda$.\n",
    "\n",
    "### Reason:\n",
    "### If $\\bf{x} = \\bf{v}e^{\\lambda t}$, then $\\dot{\\bf{x}} = \\lambda \\bf{v}e^{\\lambda t}$ and $\\bf{A}\\bf{x} = \\bf{A}\\bf{v}e^{\\lambda t}$. Therefore\n",
    "## $$ \\begin{array} {rcl} \\dot{\\bf{x}} & = & \\bf{A}\\bf{x} \\\\ \\iff \\lambda\\bf{v}e^{\\lambda t} & = & \\bf{A}\\bf{v}e^{\\lambda t} \\quad (\\text{for all}\\,t) \\\\ \\iff \\lambda \\bf{v} & = & \\bf{A}\\bf{v} \\quad (\\text{cancel}\\,e^{\\lambda t}\\,\\text{from both sides}) \\end{array} $$\n",
    "\n",
    "### Note that we are following the convention that in expressions like $\\lambda \\bf{v}e^{\\lambda t}$ scalar functions such as $e^{\\lambda t}$ are placed to the right, while constant scalars and constant vectors are placed to the left.\n",
    "\n",
    "### ***Conclusion***: $\\bf{v}e^{\\lambda t}$ is a solution if and only if $\\bf{v}$ is an eigenvector of $\\bf{A}$ with eigenvalue $\\lambda$."
   ]
  },
  {
   "cell_type": "markdown",
   "id": "3c19c137-03db-4853-a216-0432592cb3f6",
   "metadata": {},
   "source": [
    "### ***Steps to find a basis of solutions to $\\dot{\\bf{x}} = \\bf{A}\\bf{x}$, given an $n \\times n$ matrix $\\bf{A}$***:\n",
    "\n",
    "### 1. Find the eigenvalues of $\\bf{A}$. These are the roots of the characteristic polynomial $\\det(\\lambda\\bf{I} - \\bf{A})$.\n",
    "### 2. For each eigenvalue $\\lambda$:\n",
    "### - Find a basis for the corresponding eigenspace $\\operatorname{NS}(\\lambda \\bf{I} - \\bf{A})$. Call these basis vectors $\\bf{v_1},ldots,\\bf{v_k}$.\n",
    "### - Each vector-valued function $\\bf{v_i}e^{\\lambda t}$ is a solution. A solution of this form is called a ***normal mode***.\n",
    "### 3. If $n$ such solutions were found (i.e., the sum of the dimensions of the eigenspaces is $n$), then these $n$ solutions are enough to form a basis of all solutions.\n",
    "\n",
    "### ***Remark 3.1***\n",
    "### The solutions of this type will automatically be linearly independent, since their values at $t = 0$ are linearly independent. (The chosen eigenvectors within each eigenspace are independent, and there is no linear dependence between eigenvectors with different eigenvalues.)\n",
    "### ***Remark 3.2***\n",
    "### Note that $\\lambda$ and $\\bf{v}$ may be complex, which means that eventually you will want to find a basis of real solutions.\n",
    "### ***Remark 3.3***\n",
    "### The only thing that could go wrong is this: if there is a repeated eigenvalue $\\lambda$, and the dimension of the eigenspace of $\\lambda$ is less than the multiplicity of $\\lambda$, then the method above does not produce enough solutions. We will not deal with this case until the next lecture."
   ]
  },
  {
   "cell_type": "markdown",
   "id": "13ddcd0c-da48-499f-9890-4847f3330164",
   "metadata": {},
   "source": [
    "## Solving the system with 3 tanks\n",
    "\n",
    "### Let us review the solution to the system\n",
    "## $$ \\dot{\\bf{x}} = \\bf{A}\\bf{x} \\quad \\text{where}\\,\\bf{A} = \\begin{pmatrix} -2 & 1 & 1 \\\\ 1 & -2 & 1 \\\\ 1 & 1 & -2 \\end{pmatrix} $$\n",
    "### in the context of the 3 connected storage tanks.\n",
    "\n",
    "### ***Solution***\n",
    "### ***Step 1. Eigenvalues***\n",
    "### The characteristic equation of $\\bf{A}$ is\n",
    "## $$ \\det(\\lambda \\bf{I} - \\bf{A}) = \\begin{vmatrix} \\lambda+2 & -1 & -1 \\\\ -1 & \\lambda+2 & -1 \\\\ -1 & -1 & \\lambda+2 \\end{vmatrix} = 0 $$\n",
    "### Expanding in polynomial form and factoring, we get\n",
    "## $$ \\begin{array} {rcl} \\lambda^3+6\\lambda^2+9\\lambda  & = & 0 \\\\ \\lambda(\\lambda^2+6\\lambda+9) & = & 0 \\\\ \\lambda(\\lambda+3)^2 & = & 0 \\end{array} $$\n",
    "### Therefore, the eigenvalues of $\\bf{A}$ are $0$ with multiplicity $1$ and $-3$ with multiplicity $2$."
   ]
  },
  {
   "cell_type": "markdown",
   "id": "4e2c1caa-5821-47c5-ad37-7a9592af77f3",
   "metadata": {},
   "source": [
    "### ***Step 2. Eigenvectors and the exponential solutions***\n",
    "\n",
    "### Let us find the eigenvectors/eigenspace to accompany each eigenvalue.\n",
    "\n",
    "### ***Eigenspace of*** $\\lambda=0$:\n",
    "### The eigenspace corresponding to $\\lambda_1 = 0$ is the null space of\n",
    "## $$ \\begin{pmatrix} -2 & 1 & 1 \\\\ 1 & -2 & 1 \\\\ 1 & 1 & -2 \\end{pmatrix} $$\n",
    "### By inspection, we see that the vector of all $1$'s is an eigenvector. Therefore, the eigenspace is spanned by the eigenvector\n",
    "## $$ \\bf{v_1} = \\begin{pmatrix} 1 \\\\ 1 \\\\ 1 \\end{pmatrix}  $$\n",
    "### and a normal mode to the system of DE is\n",
    "## $$ \\bf{v_1} e^{0t} = \\begin{pmatrix} 1 \\\\ 1 \\\\ 1 \\end{pmatrix} $$\n",
    "### This solution, or a positive scalar multiple of it, corresponds to a constant (or steady state) solution where the tanks all have the same level of fluid and there is no net flow between the tanks."
   ]
  },
  {
   "cell_type": "markdown",
   "id": "560a4ac0-e430-4059-a2b0-ead3799d6dcf",
   "metadata": {},
   "source": [
    "### ***Eigenspace of*** $\\lambda=-3$:\n",
    "### Next, we find the eigenvectors corresponding to the repeated eigenvalue $-3$. We need to find the nullspace of the matrix\n",
    "## $$ (-3) \\bf{I} - \\bf{A} = \\begin{pmatrix} -1 & -1 & -1 \\\\ -1 & -1 & -1 \\\\ -1 & -1 & -1 \\end{pmatrix} $$\n",
    "### We can find 2 eigenvectors by inspection:\n",
    "## $$ \\bf{v_2} = \\begin{pmatrix} 1 \\\\ 0 \\\\ -1 \\end{pmatrix}, \\quad \\bf{v_3} = \\begin{pmatrix} 1 \\\\ -1 \\\\ 0 \\end{pmatrix} $$\n",
    "### Since the multilicity of the eigenvalue $-3$ is $2$ the maximum number of linearly independent eigenvectors is $2$ and so we have found enough eigenvectors.\n",
    "\n",
    "### ***Step 3. The general solution***\n",
    "### The general solution is a linear combination of the normal modes:\n",
    "## $$ \\begin{array} {rcl} \\bf{x}(t) & = & c_1\\bf{v_1}e^{0t} + c_2\\bf{v_2}e^{-3 t} + c_3\\bf{v_3}e^{-3 t} \\\\ \\, & = & c_1 \\begin{pmatrix} 1 \\ 1 \\\\ 1 \\end{pmatrix} + \\left[ c_2 \\begin{pmatrix} 1 \\\\ 0 \\\\ -1 \\end{pmatrix} + c_3 \\begin{pmatrix} 1 \\\\ -1 \\\\ 0 \\end{pmatrix}  \\right] e^{-3 t} \\end{array} $$\n",
    "### The three constants $c_1$, $c_2$ and $c_3$ are determined by the initial conditions.\n",
    "\n",
    "### Note that the terms proportional to $e^{-3 t}$ will decay to zero as $t \\to \\infty$ so every solution, regardless of the initial conditions, will approach a constant solution. This means that the fluid heights in the three tanks will approach the same height as time goes on, as expected from physical experience."
   ]
  },
  {
   "cell_type": "markdown",
   "id": "b995e840-01c8-4fc8-8fdf-583cb04be620",
   "metadata": {},
   "source": [
    "## Worked example\n",
    "\n",
    "### ***Problem 5.1***\n",
    "### Find the general solution $(x(t), y(t), z(t))$ to the system\n",
    "## $$ \\begin{array} {rcl} \\dot{x} & = & 2x \\\\ \\dot{y} & = & -6x+8y+3z \\\\ \\dot{z} & = & 18x-18y-7z \\end{array} $$\n",
    "### ***Solution***\n",
    "### In matrix form, this is $\\dot{\\bf{x}} = \\bf{A}\\bf{x}$, where $\\bf{A} = \\begin{pmatrix} 2 & 0 & 0 \\\\ -6 & 8 & 3 \\\\ 18 & -18 & -7 \\end{pmatrix}$\n",
    "### ***Step 1. Find the eigenvalues.*** To do this, compute\n",
    "## $$ \\det(\\lambda\\bf{I} - \\bf{A}) = \\begin{vmatrix} \\lambda - 2 & 0 & 0 \\\\ -6 & \\lambda - 8 & 3 \\\\ 18 & -18 & \\lambda + 7 \\end{vmatrix} $$\n",
    "### Use Laplace expansion along the first row to get\n",
    "## $$ (\\lambda -2) \\bigl ((\\lambda -8)(\\lambda +7) - 18(-3) \\bigr)= (\\lambda -2)(\\lambda ^2-\\lambda -2) = (\\lambda -2)(\\lambda -2)(\\lambda +1) $$\n",
    "### so the eigenvalues are $2,2,-1$\n",
    "### ***Step 2. Find a basis of each eigenspace and write down the exponential solutions.***\n",
    "### ***Eigenspace of $\\lambda=2$***:\n",
    "### This is nullspace of\n",
    "## $$ 2\\bf{I}-\\bf{A} = \\begin{pmatrix} 0 & 0 & 0 \\\\ 6 & -6 & -3 \\\\ -18 & 18 & 9 \\end{pmatrix} $$\n",
    "### Converting to row-echelon form gives\n",
    "## $$ \\begin{pmatrix} 6 & -6 & -3 \\\\ 0 & 0 & 0 \\\\ 0 & 0 & 0 \\end{pmatrix} $$\n",
    "### which corresponds to the single equation\n",
    "## $$ -6x+6y+3z = 0 $$\n",
    "### Solve by back-substitution: $z=c_1, \\, y = c_2, \\, x = y+z/2 = c_2+c_1/2$, so\n",
    "## $$ \\begin{pmatrix} x \\\\ y \\\\ z \\end{pmatrix} = c_1 \\begin{pmatrix} \\frac{1}{2} \\\\ 0 \\\\ 1 \\end{pmatrix} + c_2 \\begin{pmatrix} 1 \\\\ 1 \\\\ 0 \\end{pmatrix} $$\n",
    "### so $\\begin{pmatrix} \\frac{1}{2} \\\\ 0 \\\\ 1 \\end{pmatrix},\\, \\begin{pmatrix} 1 \\\\ 1 \\\\ 0 \\end{pmatrix} $ form a basis for the eigenspace at $2$. (We were lucky here that the number of basis eigenvectors is as large as the multiplicity of the eigenvalue, so that the eigenspace of $2$ was not deficient.)\n",
    "\n",
    "### The exponential solutions built from these eigenvectors are:\n",
    "## $$ e^{2t} \\begin{pmatrix} \\frac{1}{2} \\\\ 0 \\\\ 1 \\end{pmatrix}, \\, e^{2t} \\begin{pmatrix} 1 \\\\ 1 \\\\ 0 \\end{pmatrix}  $$\n",
    "### ***Eigenspace of*** $\\lambda=-1$:\n",
    "### This is the nullspace of \n",
    "## $$ -\\bf{I}-\\bf{A} = \\begin{pmatrix} -3 & 0 & 0 \\\\ 6 & -9 & -3 \\\\ -18 & 18 & 6 \\end{pmatrix} $$\n",
    "### Converting to row-echelon form gives\n",
    "## $$ \\begin{pmatrix} 3 & 0 & 0 \\\\ 0 & -9 & -3 \\\\ 0 & 0 & 0 \\end{pmatrix} $$\n",
    "### which corresponds to this system\n",
    "## $$ \\begin{array} {rcl} 3x & = & 0 \\\\ 9y+3z & = & 0 \\end{array} $$\n",
    "### Back-substitution leads to\n",
    "## $$ \\begin{pmatrix} x \\\\ y \\\\ z \\end{pmatrix} = c \\begin{pmatrix} 0 \\\\ -1 \\\\ 3 \\end{pmatrix} $$\n",
    "### so $\\begin{pmatrix} 0 \\\\ -1 \\\\ 3 \\end{pmatrix}$ by itself is a basis for the eigenspace at $-1$.\n",
    "### The exponential solution built from this eigenvector is\n",
    "## $$ e^{-t} \\begin{pmatrix} 0 \\\\ -1 \\\\ 3 \\end{pmatrix} $$\n",
    "\n",
    "### ***Step 3. Check whether there are enough independent solutions and write the general solution.***\n",
    "### We have three independent solutions,\n",
    "## $$ e^{2t} \\begin{pmatrix} \\frac{1}{2} \\\\ 0 \\\\ 1 \\end{pmatrix}, \\, e^{2t} \\begin{pmatrix} 1 \\\\ 1 \\\\ 0 \\end{pmatrix}, \\, e^{-t} \\begin{pmatrix} 0 \\\\ -1 \\\\ 3 \\end{pmatrix} $$\n",
    "### so they form a basis of all solutions. The general solution is\n",
    "## $$ \\begin{pmatrix} x \\\\ y \\\\ z \\end{pmatrix} = c_1 e^{2t} \\begin{pmatrix} \\frac{1}{2} \\\\ 0 \\\\ 1 \\end{pmatrix} +c_2 e^{2t} \\begin{pmatrix} 1 \\\\ 1 \\\\ 0 \\end{pmatrix} + c_3 e^{-t} \\begin{pmatrix} 0 \\\\ -1 \\\\ 3 \\end{pmatrix} $$\n",
    "### If there were initial conditions, we could solve for $c_1, c_2, c_3$ to get specific solution."
   ]
  },
  {
   "cell_type": "markdown",
   "id": "221ffc07-a3db-44c7-9666-075c95766045",
   "metadata": {},
   "source": [
    "### ***Problem 5.2***\n",
    "### Find the general solution to the system $\\dot{\\bf{x}} = \\bf{A}\\bf{x}$ with $\\bf{A} = \\begin{pmatrix} 1 & 0 & 1 \\\\ 0 & 1 & 0 \\\\ 1 & 0 & 1 \\end{pmatrix}$. Recall that we have found (in the last lecture) the eigenvalues and eigenspace of $\\bf{A}$ to be\n",
    "## $$ \\begin{array} {rcl}  \\text{Eigenvalue} & & \\text{Corresponding eigenspace} \\\\ \\lambda = 0 & ; & \\operatorname{Span}\\begin{pmatrix} 1 \\\\ 0 \\\\ -1 \\end{pmatrix} \\\\ \\lambda=1 & ; & \\operatorname{Span}\\begin{pmatrix} 0 \\\\ 1 \\\\ 0 \\end{pmatrix} \\\\ \\lambda=2 & ; & \\operatorname{Span}\\begin{pmatrix} 1 \\\\ 0 \\\\ 1 \\end{pmatrix} \\end{array} $$\n",
    "### ***Solution***\n",
    "### The eigenvalues are all distinct, so we automatically have enough independent eigenvectors. The exponential solutions $\\bf{v}e^{\\lambda t}$ are\n",
    "## $$ \\begin{pmatrix} 1 \\\\ 0 \\\\ -1 \\end{pmatrix}, \\begin{pmatrix} 0 \\\\ 1 \\\\ 0 \\end{pmatrix} e^{t}, \\begin{pmatrix} 1 \\\\ 0 \\\\ 1 \\end{pmatrix} e^{2t} $$\n",
    "### and the general solution is\n",
    "## $$ \\bf{x}(t) = c_1 \\begin{pmatrix} 1 \\\\ 0 \\\\ -1 \\end{pmatrix} + c_2 \\begin{pmatrix} 0 \\\\ 1 \\\\ 0 \\end{pmatrix} e^{t} + c_3 \\begin{pmatrix} 1 \\\\ 0 \\\\ 1 \\end{pmatrix} e^{2t} $$\n",
    "### If there were initial conditions, we could solve for $c_1, c_2, c_3$ to get specific solution."
   ]
  },
  {
   "cell_type": "markdown",
   "id": "1399dc4d-6762-40fa-9444-1ab41eb99b3d",
   "metadata": {},
   "source": [
    "## Existence and uniqueness\n",
    "### The following theorems are straight-forward generalizations of the ones for $2 \\times 2$ systems.\n",
    "\n",
    "### ***Dimension theorem for a homogeneous linear system of ODEs.***\n",
    "### For any first-order homogeneous linear system of $n$ ODEs in $n$ unknown functions\n",
    "## $$ \\dot{\\bf{x}} = \\bf{A}(t)\\bf{x} $$\n",
    "### the set of solutions is an $n$-dimensional vector space.\n",
    "### The dimension theorem is a consequence of the existence and uniqueness theorem:\n",
    "\n",
    "### ***Existence and uniqueness theorem for a linear system of ODEs.***\n",
    "### Let $\\bf{A}(t)$ be a square matrix-valued function and let $\\bf{r}(t)$ be a vector-valued function, both continuous on an open time interval $I$. Let $a \\in I$, and let $\\bf{b}$ be a vector. Then there exists a unique solution $\\bf{x}(t)$ to the system\n",
    "## $$ \\dot{\\bf{x}} = \\bf{A}(t)\\bf{x} + \\bf{r}(t) $$\n",
    "### satisfying the initial condition\n",
    "## $$ \\bf{x}(a) = \\bf{b} $$ \n",
    "\n",
    "### Note that for $n \\times n$ systems, the initial condition really consists of $n$ conditions, one for each component of \n",
    "## $$ \\begin{pmatrix} x_1(a) \\\\ \\vdots \\\\ x_n(a) \\end{pmatrix} = \\begin{pmatrix} b_1 \\\\ \\vdots \\\\ b_n \\end{pmatrix} $$\n",
    "### In other words, to pin down one solution to a first order linear system, we need to specify the initial condition $\\bf{x}(a) = \\bf{b}$ which consists of $n$ equations, one for each component, for $n \\times n$ systems.\n",
    "\n",
    "### ***How does the existence and uniqueness theorems lead to the dimension theorem?***\n",
    "### First, set $\\bf{r}(t) = \\bf{0}$ for a homogenous system. Secondly, by the existence and uniqueness theorem, once the starting time $a$ is fixed, the solutions to the system are in 1-to-1 correspondence to the possibilities for the initial condition vector $\\bf{b}$. Therefore, the set of solutions to the homogeneous system is $n$-dimensional.\n"
   ]
  },
  {
   "cell_type": "markdown",
   "id": "25994019-43d5-440e-8d16-fcb6c481494e",
   "metadata": {},
   "source": [
    "### In most cases, we will consider the differential equation\n",
    "## $$ \\dot{\\bf{x}} = \\bf{A}\\bf{x} + \\bf{r}(t) $$\n",
    "### In other words, we assume $\\bf{A}$ is ***constant, independent of*** $t$, i.e. $\\bf{A}(t) = \\bf{A}$. We will also assume in most cases that $\\bf{A}$ is ***complete***, i.e. the dimension of the eigenspace for each eigenvalue is equal to the multiplicity of the eigenvalue. When $\\bf{r}(t) = 0$ the general solution to the homogeneous equation, $\\dot{\\bf{x}} = \\bf{A}\\bf{x}$, takes the form\n",
    "## $$ x(t) = c_1 \\bf{v_1} e^{\\lambda_1 t} + \\ldots + c_n \\bf{v_n}e^{\\lambda_n t} $$\n",
    "### where the eigenvalues $\\lambda_i$ may not be distinct, but the exponential solutions $\\bf{v_i} e^{\\lambda_i t}$ are linearly independent. This is consistent with the dimension theorem because this is an $n$-dimensional family of solutions."
   ]
  },
  {
   "cell_type": "markdown",
   "id": "7dfe12ea-7174-46d9-846f-716ff29ce1b4",
   "metadata": {},
   "source": [
    "## Fundamental Matrix for n by n systems\n",
    "\n",
    "### We build fundamental matrices for $n \\times n$ systems in the same way that we build fundamental matrices for $2 \\times 2$ systems.\n",
    "### We will now write the solutions to an $n \\times n$ system in a more compact form using what is known as the fundamental matrix.\n",
    "### Consider an $n \\times n$ homogeneous linear constant coefficient system\n",
    "## $$ \\dot{\\bf{x}} = \\bf{A}\\bf{x} $$\n",
    "### The set of solutions is an $n$-dimensional vector space. Let $\\bf{x_1}(t),\\ldots,\\bf{x_n}(t)$ be a basis of solutions, that is, $\\bf{x_1}(t),\\ldots,\\bf{x_n}(t)$ are linearly independent. Write $\\bf{x_1},\\ldots,\\bf{x_n}$ as column vectors side-by-side to form an $n \\times n$ matrix\n",
    "## $$ \\bf{X}(t) \\colon=\\begin{pmatrix} | && | \\\\ \\bf{x_1}(t) & \\cdots & \\bf{x_n}(t) \\\\ | && | \\end{pmatrix} $$\n",
    "\n",
    "### Any such $\\bf{X}(t)$ is called a ***fundamental matrix*** for $\\dot{\\bf{x}} = \\bf{A}\\bf{x}$. \n",
    "### (This is a matrix-valued function, since each $\\bf{x_i}$ is a vector-valued function of $t$.)"
   ]
  },
  {
   "cell_type": "markdown",
   "id": "6307c9ff-456a-4833-82a2-c050ea350faa",
   "metadata": {},
   "source": [
    "### ***Example 7.1***\n",
    "### The matrix $\\bf{A} = \\begin{pmatrix} 1 & 2 \\\\ -1 & 4 \\end{pmatrix}$ has eigenvalues and eigenvectors\n",
    "## $$ \\begin{array} {rcl} \\lambda_1 = 2 & \\, & \\bf{v_1} = \\begin{pmatrix} 2 \\\\ 1 \\end{pmatrix} \\\\ \\lambda_2 = 3 & \\, & \\bf{v_2} = \\begin{pmatrix} 1 \\\\ 1 \\end{pmatrix} \\end{array} $$\n",
    "### Hence, the functions\n",
    "## $$ e^{2t}\\begin{pmatrix} 2 \\\\ 1 \\end{pmatrix} = \\begin{pmatrix} 2 e^{2t} \\\\ e^{2t} \\end{pmatrix} \\, \\text{and}\\, e^{3t} \\begin{pmatrix} 1 \\\\ 1 \\end{pmatrix} = \\begin{pmatrix} e^{3t} \\\\ e^{3t} \\end{pmatrix} $$\n",
    "### are a basis of solutions. Therefore, one fundamental matrix of the system is\n",
    "## $$ \\bf{X}(t) = \\begin{pmatrix} 2 e^{2t} & e^{3t} \\\\ e^{2t} & e^{3t} \\end{pmatrix} $$\n"
   ]
  },
  {
   "cell_type": "markdown",
   "id": "04537e47-1da6-429b-9d34-1139cdd4107e",
   "metadata": {},
   "source": [
    "## Criteria of a fundamental matrix\n",
    "\n",
    "### ***Theorem 7.2***\n",
    "### A matrix-valued function $\\bf{X}(t)$ is a fundamental matrix for $\\dot{\\bf{x}} = \\bf{A}\\bf{x}$ if and only if\n",
    "### - $\\dot{\\bf{X}} = \\bf{A}\\bf{X}$ and\n",
    "### - the matrix $\\bf{X}(0)$ is nonsingular, namely, $\\det(\\bf{X}(0)) \\neq 0$\n",
    "\n",
    "### The first property above is equivalent to saying that each column of  is a solution. This is because differentiation on the left-hand side of  and the matrix multiplication on the right hand side can be done column-by-column.\n",
    "\n",
    "### The second property $\\det \\bf{X} (0) \\neq 0$ says that the column vectors $\\bf{x_1}(0),\\ldots,\\bf{x_n}(0)$ are linearly independent. Remarkably, once $\\det \\bf{X} \\neq 0$ we also have $\\det \\bf{X}(t) \\neq 0$ for all $t$. In the example, $\\det(\\bf{X}(t))$ for all $t$."
   ]
  },
  {
   "cell_type": "markdown",
   "id": "4e212c5f-2470-4a0e-a764-6c260279701f",
   "metadata": {},
   "source": [
    "### ***Proof using the Wronskian***\n",
    "### Let $\\bf{x_1}(t), \\ldots,\\bf{x_n}(t)$ be solutions to the system $\\dot{\\bf{x}} = \\bf{A}\\bf{x}$ and define the matrix\n",
    "## $$ \\bf{X}(t) = \\begin{pmatrix} | && | \\\\ \\bf{x_1}(t) & \\cdots & \\bf{x_n}(t) \\\\ | && | \\end{pmatrix} $$\n",
    "### The following theorem implies that if $\\det \\bf{X} \\neq 0$ then the columns of $\\bf{X}(t)$ are linearly independent, implying $\\bf{X}(t)$ is a fundamental matrix.\n",
    "\n",
    "### ***Theorem 7.3***\n",
    "### The set of vector functions $\\bf{x_1}(t), \\ldots,\\bf{x_n}(t)$ solving the system above are linearly independent if and only if $\\det(\\bf{X}(t)) \\neq 0$ for all $t$. The determinant $\\det(\\bf{X}(t))$ is called the ***Wronskian***.\n",
    "\n",
    "### ***Proof***:\n",
    "### ($\\Leftarrow$) First, we prove the backwards direction by proving the contrapositive. If $\\bf{x_1}(t), \\ldots,\\bf{x_n}(t)$ are linearly dependent, then there are constants $c_1, c_2,\\ldots,c_n$ which are not all zeroes, such that $c_1\\bf{x_1}(t) + c_2 \\bf{x_2}(t) + \\ldots + c_n\\bf{x_n}(t) = 0$ for all $t$. Hence, $\\det(\\bf{X}(t))$ for all $t$.\n",
    "## ($\\Rightarrow$) Now we prove the forward direction using proof by contradiction. Suppose that $\\bf{x_1}(t), \\ldots,\\bf{x_n}(t)$ are linearly independent, but suppose that there is a point $t_0$ where $\\det(\\bf{X}(t)) = 0$. This means there are constants $c_1, c_2, \\ldots, c_n$ not all zeroes, such that $c_1\\bf{x_1}(t_0) + c_2 \\bf{x_2}(t_0) + \\ldots + c_n\\bf{x_n}(t_0) = 0$. But this implies, for example, that both $c_1 \\bf{x_1}(t)$ and $-(c_2\\bf{x_2}(t) + \\ldots + c_n\\bf{x_n}(t))$ satisfy the same initial conditions. By the existence and uniqueness theorem, these must be equal, implying $c_1\\bf{x_1}(t) + c_2 \\bf{x_2}(t) + \\ldots + c_n\\bf{x_n}(t) = 0$. This contradicts the original assumption that $\\bf{x_1}(t), \\ldots,\\bf{x_n}(t)$ are linearly independent."
   ]
  },
  {
   "cell_type": "markdown",
   "id": "4c9e8993-e6ce-4dad-8d9b-6a72191944b5",
   "metadata": {},
   "source": [
    "## General solution in terms of fundamental matrix\n",
    "\n",
    "### Suppose $\\bf{x_1}, \\ldots,\\bf{x_n}$ are $n$ linearly independent solutions to the $n \\times n$ system $\\dot{\\bf{x}} = \\bf{A}\\bf{x}$ then the general solution is\n",
    "## $$ \\bf{x}(t) = c_1 \\bf{x_1} + \\ldots + c_n \\bf{x_n} = \\begin{pmatrix} | && | \\\\ \\bf{x_1} & \\cdots & \\bf{x_n} \\\\ | && | \\end{pmatrix} \\begin{pmatrix} c_1 \\\\ \\vdots \\\\ c_n \\end{pmatrix} $$\n",
    "### ***Conclusion***\n",
    "### If $\\bf{X}(t)$ is a fundamental matrix, then the general solution is the product\n",
    "## $$ \\bf{x}(t) = \\bf{X}(t) \\bf{c} $$\n",
    "### where $\\bf{c} = \\begin{pmatrix} c_1 \\\\ \\vdots \\\\ c_n \\end{pmatrix}$ ranges over all constant vectors."
   ]
  },
  {
   "cell_type": "markdown",
   "id": "621fe1a0-09e8-44a5-b32c-456858f2b3a2",
   "metadata": {},
   "source": [
    "### ***Question 8.1***\n",
    "### What do all fundamental matrices look like?\n",
    "\n",
    "### Recall that\n",
    "### - each column of a fundamental matrix is a solution,\n",
    "### - given a fundamental matrix $\\bf{X}$ any solution is of the form $\\bf{X}\\bf{c}$ for some constant vector $\\bf{c}$\n",
    "### This means that all other fundamental matrices must be of the following form:\n",
    "## $$ \\begin{pmatrix} | & | & & | \\\\ \\bf{X}\\bf{c_1} & \\bf{X}\\bf{c_2} & \\cdots & \\bf{X}\\bf{c_n} \\\\ | & | & & | \\end{pmatrix} $$\n",
    "### where $\\bf{C}$ is the $n \\times n$ matrix whose columns are the vectors $\\bf{c_i}$\n",
    "## $$ \\bf{C} = \\begin{pmatrix} | & | & & | \\\\ \\bf{c_1} & \\bf{c_2} & \\cdots & \\bf{c_n} \\\\ | & | & & | \\end{pmatrix} $$\n",
    "### and to ensure that the columns $\\bf{X}\\bf{c_i}$ are linearly independent, we need $\\bf{C}$ to be invertible, i.e. $|\\bf{C}| \\neq 0$\n",
    "### ***Conclusion***: \n",
    "### If $\\bf{X}(t)$ is a fundamental matrix, then all other fundamental matrices are of the form\n",
    "## $$ \\bf{X}\\bf{C} \\quad \\text{where}\\,\\bf{C} \\, \\text{is}\\, n \\times n, \\, \\text{and}\\, |\\bf{C}| \\neq 0 $$"
   ]
  },
  {
   "cell_type": "markdown",
   "id": "841ff224-e130-4f18-ae5f-c9fd1b666fa4",
   "metadata": {},
   "source": [
    "### ***Remark 8.2***\n",
    "### For the system on the previous page, $\\dot{\\bf{x}} = \\bf{A}\\bf{x}$ where $\\bf{A} = \\begin{pmatrix} 1 & 2 \\\\ -1 & 4 \\end{pmatrix}$ the general solution is\n",
    "## $$ \\begin{array} {rcl} \\bf{x}(t) = c_1\\bf{x_1}+c_2\\bf{x_2} & \\text{where} & \\bf{x_1} = e^{2t} \\begin{pmatrix} 2 \\\\ 1 \\end{pmatrix} \\\\ \\, & \\, & \\bf{x_2} = e^{3t} \\begin{pmatrix} 1 \\\\ 1 \\end{pmatrix} \\end{array} $$\n",
    "### This can be written in terms of the fundamental matrix $\\bf{X} = (\\bf{x_1}\\,\\bf{x_2})$ as\n",
    "## $$ \\bf{x}(t) = \\bf{X}\\bf{c} = \\begin{pmatrix} 2 e^{2t} & e^{3t} \\\\ e^{2t} & e^{3t} \\end{pmatrix} \\begin{pmatrix} c_1 \\\\ c_2 \\end{pmatrix} $$\n",
    "### Most other fundamental matrices are “ugly.\" For example, here is another one: $(\\bf{x_1} + \\bf{x_2}, \\bf{x_2})$. \n",
    "### We will use the simplest one, the one built from the normal modes, as much as we can.\n",
    "\n",
    "### ***Initial conditions***\n",
    "### Once we have a fundamental matrix $\\bf{X}(t)$ finding the solution $\\bf{x}(t)$ with initial value $\\bf{x}(a)$ at $t = a$ means finding the vector $\\bf{c} = \\begin{pmatrix} c_1 \\\\ \\vdots \\\\ c_n \\end{pmatrix}$ satisfying\n",
    "## $$ \\bf{X}(a) \\bf{c} = \\bf{x}(a) $$\n",
    "### Since $\\bf{X}(a)$ is invertible for any $a$, we have\n",
    "## $$ \\bf{c} = \\bf{X}(a)^{-1}\\bf{x}(a) $$\n",
    "\n",
    "### ***Example 8.3***\n",
    "### For the same system as above, $\\dot{\\bf{x}} = \\bf{A} \\bf{x}$ where $\\bf{A} = \\begin{pmatrix} 1 & 2 \\\\ -1 & 4 \\end{pmatrix}$ use the simplest fundamental matrix $\\bf{X}$\n",
    "## $$ \\bf{X}(t) = \\begin{pmatrix} 2 e^{2t} & e^{3t} \\\\ e^{2t} & e^{3t} \\end{pmatrix} $$\n",
    "### to find the solution to $\\dot{\\bf{x}} = \\bf{A}\\bf{x}$ satisfying the initial condition $\\bf{x}(0) = \\begin{pmatrix} 4 \\\\ 5 \\end{pmatrix}$.\n",
    "\n",
    "### ***Solution***:\n",
    "### The solution to the initial value problem is $\\bf{X}(t) \\bf{c}$ for some constant vector $\\bf{c}$. Thus\n",
    "## $$ \\bf{x} = \\begin{pmatrix} 2 e^{2t} & e^{3t} \\\\ e^{2t} & e^{3t} \\end{pmatrix} \\begin{pmatrix} c_1 \\\\ c_2 \\end{pmatrix} $$\n",
    "### for some $c_1, c_2$ to be determined. \n",
    "### Set $t = 0$ and use the initial condition to get\n",
    "## $$ \\begin{pmatrix} 4 \\\\ 5 \\end{pmatrix} = \\begin{pmatrix} 2 & 1 \\\\ 1 & 1 \\end{pmatrix} \\begin{pmatrix} c_1 \\\\ c_2 \\end{pmatrix} $$\n",
    "### Solving leads to $\\begin{pmatrix} c_1 \\\\ c_2 \\end{pmatrix} = \\begin{pmatrix} -1 \\\\ 6 \\end{pmatrix}$\n",
    "### Therefore,\n",
    "## $$ \\bf{x} = \\begin{pmatrix} 2 e^{2t} & e^{3t} \\\\ e^{2t} & e^{3t} \\end{pmatrix} \\begin{pmatrix} -1 \\\\ 6 \\end{pmatrix} = (-1) \\begin{pmatrix} 2 \\\\ 1 \\end{pmatrix} e^{2t} + 6 \\begin{pmatrix} 1 \\\\ 1 \\end{pmatrix} e^{3t} $$\n",
    "\n"
   ]
  },
  {
   "cell_type": "markdown",
   "id": "1d35374d-2eb0-4239-ba52-0b8f7bb95793",
   "metadata": {},
   "source": [
    "## Back to 3 tank example\n",
    "\n",
    "![Tanks](img/tanks.png)\n",
    "\n",
    "### Recall that the fluid flow between three cyclically connected tanks can be described by the system of DE.\n",
    "## $$ \\dot{\\bf{x}} = \\bf{A}\\bf{x} \\quad \\text{where}\\, \\bf{A} = \\begin{pmatrix} -2 & 1 & 1 \\\\ 1 & -2 & 1 \\\\ 1 & 1 & -2 \\end{pmatrix}, \\bf{x} = \\begin{pmatrix} h_1 \\\\ h_2 \\\\ h_3 \\end{pmatrix} $$\t\t\t\t \t \n",
    "### The variables $h_1, h_2, h_3$ are the fluid heights in tank 1, 2, and 3 respectively."
   ]
  },
  {
   "cell_type": "markdown",
   "id": "1cf3e176-97a1-4c7d-a14d-32adbff9653b",
   "metadata": {},
   "source": [
    "### ***Problem 9.1***\n",
    "### Write the general solution (that we have found previously) in terms of a fundamental matrix.\n",
    "\n",
    "### ***Solution***:\n",
    "### We previously found the normal modes to be\n",
    "## $$ \\bf{v_1} e^{0 t}, \\bf{v_2} e^{-3 t}, \\bf{v_3} e^{-3 t}, \\, \\text{where} \\bf{v_1} = \\begin{pmatrix} 1 \\\\ 1 \\\\ 1 \\end{pmatrix}, \\, \\bf{v_2} = \\begin{pmatrix} 1 \\\\ 0 \\\\ -1 \\end{pmatrix} , \\, \\bf{v_3} = \\begin{pmatrix} 1 \\\\ -1 \\\\ 0 \\end{pmatrix}  $$\n",
    "### Place each of these into the column of matrix:\n",
    "## $$ \\bf{X} = \\begin{pmatrix} | & | & | \\\\ \\bf{v_1} e^{0t} & \\bf{v_2} e^{-3t} & \\bf{v_3} e^{-3 t} \\\\ | & | & | \\end{pmatrix} $$\n",
    "### Then $\\bf{X}$ is a fundamental matrix of the system because its columns form a basis of the space of all solutions. The general solution is\n",
    "## $$ \\bf{x} = \\bf{X}\\bf{c}, \\quad \\text{where} \\, \\bf{c} = \\begin{pmatrix} c_1 \\\\ c_2 \\\\ c_3 \\end{pmatrix} $$\n",
    "### Note that this fundamental matrix can be written as a product of two matrices:\n",
    "## $$ \\bf{X} = \\bf{S}\\bf{D} \\quad \\text{where}\\quad\\bf{S}=\\begin{pmatrix} | & | & | \\\\ \\bf{v_1} & \\bf{v_2} & \\bf{v_3} \\\\ | & | & | \\end{pmatrix} = \\begin{pmatrix} 1 & 1 & 1 \\\\ 1 & 0 & -1 \\\\ 1 & -1 & 0 \\end{pmatrix} $$\n",
    "## $$ \\bf{D} = \\begin{pmatrix} e^{0t} & 0 & 0 \\\\ 0 & e^{-3 t} & 0 \\\\ 0 & 0 & e^{-3 t} \\end{pmatrix} $$\n",
    "###  In general, a fundamental matrix of a system $\\dot{\\bf{x}} = \\bf{A} \\bf{x}$ for a complete matrix $\\bf{A}$ is $\\bf{X} = \\bf{S}\\bf{D}$ where\n",
    "## $$ \\bf{S} = \\begin{pmatrix} | & | & \\cdots & | \\\\ \\bf{v_1} & \\bf{v_2} & \\cdots & \\bf{v_n} \\\\ | & | & \\cdots & | \\end{pmatrix} $$\n",
    "## $$ \\bf{D} = \\begin{pmatrix} e^{\\lambda_1 t} & \\, & \\, & \\, \\\\ \\, & e^{\\lambda_2 t} & \\, & \\, \\\\ \\, & \\, & e^{\\lambda_3 t} & \\, \\\\ \\, & \\, & \\, & e^{\\lambda_n t} \\end{pmatrix} $$\n",
    "### Here, $\\bf{S}$ is the constant matrix whose columns are the eigenvectors $\\bf{v_i}$ of $\\bf{A}$ and $\\bf{D}$ is the diagonal matrix whose diagonal entries are $e^{\\lambda_i t}$, and the eigenvector $\\bf{v_i}$ corresponds to the eigenvalue $\\lambda_i$"
   ]
  },
  {
   "cell_type": "markdown",
   "id": "57527a65-dfe8-4e00-9b46-c28d3a48c0b5",
   "metadata": {},
   "source": [
    "### ***Problem 9.2***\n",
    "### Before opening the valves, we measure the heights of fluid in the 3 tanks. The starting heights, measured in meters, are\n",
    "## $$ \\bf{x}(0) = \\begin{pmatrix} 10 \\\\ 2 \\\\ 3 \\end{pmatrix} $$\n",
    "### What are the coefficients $c_i$ that correspond to this initial condition?\n",
    "\n",
    "### ***Solution***\n",
    "### In terms of the fundamental matrix $\\bf{X}$ (whose columns are the normal nodes), the initial condition is\n",
    "## $$ \\bf{X}(0)\\bf{c} = \\begin{pmatrix} 10 \\\\ 2 \\\\ 3 \\end{pmatrix} $$\n",
    "## $$ \\begin{pmatrix} | & | & | \\\\ \\bf{v_1} & \\bf{v_2}e^{-3(0)} & \\bf{v_3} e^{-3(0)} \\\\ | & | & | \\end{pmatrix} \\bf{c} = \\begin{pmatrix} | & | & | \\\\ \\bf{v_1} & \\bf{v_2} & \\bf{v_3} \\\\ | & | & | \\end{pmatrix} \\bf{c} = \\begin{pmatrix} 1 & 1 & 1 \\\\ 1 & 0 & -1 \\\\ 1 & -1 & 0 \\end{pmatrix} \\bf{c} = \\begin{pmatrix} 10 \\\\ 2 \\\\ 3 \\end{pmatrix} $$\n",
    "### Hence, $\\bf{c}$ is the (unique) solution to this linear equation. We can use Gaussian elimination or a computer to find $\\bf{c}$:\n",
    "### Hence,\n",
    "## $$ \\bf{c} = \\begin{pmatrix} 1 & 1 & 1 \\\\ 1 & 0 & -1 \\\\ 1 & -1 & 0 \\end{pmatrix}^{-1} \\begin{pmatrix} 10 \\\\ 2 \\\\ 3 \\end{pmatrix} = \\begin{pmatrix} 5 \\\\ 2 \\\\ 3 \\end{pmatrix}  $$"
   ]
  },
  {
   "cell_type": "markdown",
   "id": "e4559040-242d-4069-a7bb-64ddd0fe8659",
   "metadata": {},
   "source": [
    "## Companion Systems\n",
    "\n",
    "### Recall from the course Differential equations: 2 by 2 systems that any second order linear ODE can be converted to a first order linear system called its ***companion system***."
   ]
  },
  {
   "cell_type": "markdown",
   "id": "c78d4c38-effa-4619-9529-3e5d8b075c65",
   "metadata": {},
   "source": [
    "### ***Problem 10.1***\n",
    "### Convert $\\ddot{x}+5\\dot{x}+6x=0$ to a first-order system of ODEs.\n",
    "\n",
    "### ***Solution***\n",
    "### Define $y\\colon=\\dot{x}$. Then\n",
    "## $$ \\begin{array} {rcl} \\dot{x} & = & y \\\\ \\dot{y} & = & \\ddot{x} =  -5\\dot{x}-6x = -6x-5y \\end{array} $$\n",
    "### In matrix form, this is $\\dot{\\bf{x}} = \\bf{A}\\bf{x}$ with $\\bf{A} = \\begin{pmatrix} 0 & 1 \\\\ -6 & -5 \\end{pmatrix}$. (The matrix $\\begin{pmatrix} 0 & 1 \\\\ -6 & -5 \\end{pmatrix}$ arising this way is called the companion matrix of the polynomial $x^2+5x+6$.)"
   ]
  },
  {
   "cell_type": "markdown",
   "id": "5b52d852-3cbc-4681-8de2-1ff32d3edf56",
   "metadata": {},
   "source": [
    "### Conversely, given a first-order system, one can eliminate function variables to find a higher-order ODE satisfied by one of the functions. But usually we just leave it as a system.\n",
    "### ***Problem 10.2***\n",
    "### Given that\n",
    "## $$ \\begin{array} {rcl} \\dot{x} & = & 2x-y \\\\ \\dot{y} & = & 5x + 7y \\end{array} $$\n",
    "### eliminate $y$ to find a second order ODE involving only $x$\n",
    "\n",
    "### ***Solution***\n",
    "### Solve for $y$ in the first equation $(y=2x-\\dot{x})$ and substitute into the second:\n",
    "## $$ 2\\dot{x}-\\ddot{x} = 5x+7(2x - \\dot{x}) $$\n",
    "### This simplifies to \n",
    "## $$ \\ddot{x} - 9\\dot{x} + 19x = 0 $$"
   ]
  },
  {
   "cell_type": "markdown",
   "id": "e790794a-d9ed-46f9-814c-4afdc09e5961",
   "metadata": {},
   "source": [
    "### Similarly, we can make companion systems for higher order linear differential equations by introducing new function variables for the derivatives.\n",
    "### Given an $n^{\\text{th}}$ order homogeneous linear ODE\n",
    "## $$ D^n x + a_{n-1}(D^{n-1}x) + a_{n-2}(D^{n-2}x)+\\ldots+a_1(Dx)+a_0 x = 0, \\quad \\text{where}\\, D = \\frac{d}{dt} $$\n",
    "### define\n",
    "## $$ \\begin{array} {rcl} x_0 & = & x \\\\ x_1 & = & D x_0 = D x \\\\ x_2 & = & D x_1 = D^2 x \\\\ \\, & \\vdots & \\, \\\\ x_{n-1} & = & D x_{n-2} = D^{n-1} x \\end{array} $$\n",
    "### Then the original order $n$ DE can be rewritten as\n",
    "## $$ D x_{n-1} = -a_{n-1} x_{n-1} - a_{n-2} x_{n-2} - \\ldots - a_1 x_1 - a_0 x_0 $$\n",
    "### Therefore, we have a system of $n$ first order equations: the definitions of $x_0, \\ldots,x_{n-1}$, and the original DE rewritten as above. In matrix form, the first order $n \\times n$ system is\n",
    "## $$  \\frac{d}{dt}\\begin{pmatrix} x_0 \\\\ x_1 \\\\ \\vdots \\\\ x_{n-2} \\\\ x_{n-1}\\end{pmatrix}= \\begin{pmatrix}  0 &  1 &  0 &  \\cdots &  0 \\\\ 0 &  0 &  1 &  \\cdots &  0 \\\\ \\vdots &  \\vdots &  \\vdots &  \\ddots &  \\vdots \\\\ 0 &  0 &  0 &  \\cdots &  1 \\\\ -a_{0} &  -a_{1} &  -a_{2} &  \\cdots &  -a_{n-1} \\end{pmatrix}\\begin{pmatrix} x_0 \\\\ x_1 \\\\ \\vdots \\\\ x_{n-2} \\\\ x_{n-1} \\end{pmatrix}. $$"
   ]
  },
  {
   "cell_type": "markdown",
   "id": "ad3eca08-656e-43ec-924c-48f9d30c877f",
   "metadata": {},
   "source": [
    "### The $n \\times n$ matrix on the right hand side is called the ***companion matrix***, and this $n \\times n$ system is the ***companion system*** of the degree $n$ ODE.\n",
    "### Note that the dimension of the companion system corresponds to the order of the single ODE we started with.\n",
    "\n",
    "### ***Remark 10.3***\n",
    "### The same procedure of converting to a first order system works even if the starting ODE is inhomogeneous:\n",
    "## $$ D^n x + a_{n-1}(D^{n-1}x) + a_{n-2}(D^{n-2}x)+\\ldots+a_1(Dx)+a_0 x = {\\color{red}{b}} $$\n",
    "### The resulting companion system will have an extra vector on the right hand side\n",
    "## $$ \\frac{d}{dt}\\begin{pmatrix} x_0 \\\\ x_1 \\\\ \\vdots \\\\ x_{n-2} \\\\ x_{n-1}\\end{pmatrix}= \\begin{pmatrix}  0 &  1 &  0 &  \\cdots &  0 \\\\ 0 &  0 &  1 &  \\cdots &  0 \\\\ \\vdots &  \\vdots &  \\vdots &  \\ddots &  \\vdots \\\\ 0 &  0 &  0 &  \\cdots &  1 \\\\ -a_{0} &  -a_{1} &  -a_{2} &  \\cdots &  -a_{n-1} \\end{pmatrix}\\begin{pmatrix} x_0 \\\\ x_1 \\\\ \\vdots \\\\ x_{n-2} \\\\ x_{n-1}\\end{pmatrix}+\\begin{pmatrix} 0 \\\\ 0\\\\ \\vdots \\\\ 0 \\\\ {\\color{red}{b}} \\end{pmatrix}. $$"
   ]
  },
  {
   "cell_type": "markdown",
   "id": "c53ac094-d451-4b8e-b841-c2585b95cb8b",
   "metadata": {},
   "source": [
    "### ***Remark 10.4***\n",
    "### For constant coefficient ODEs, the characteristic polynomial of the higher order ODE (scaled, if necessary, to have leading coefficient $1$) equals the characteristic polynomial of the matrix of the first-order system.\n",
    "### More generally, we can also convert higher-order systems of ODEs to first order systems. For example, a system of $4$ fifth order ODEs can be converted to a  first order system ODEs. This is why it is enough to study first order systems."
   ]
  },
  {
   "cell_type": "markdown",
   "id": "ae5d2325-3c45-47d9-a231-f5fda4259dbf",
   "metadata": {},
   "source": [
    "## Modeling the unforced coupled oscillator\n",
    "\n",
    "### Let us now look at a system of coupled oscillator. \n",
    "![Img](img/oscilator.png)\n",
    "\n",
    "### This system is modeled by two coupled second order constant coefficient ODEs. We will solve this $2 \\times 2$ system of second order ODEs by first converting it to its companion system. We will find that the eigenvalues are complex and will use the usual procedure of taking the real and imaginary parts of exponential solutions to get a basis of the real solutions.\n",
    "\n",
    "### ***Modeling***:\n",
    "### Let us model the unforced coupled oscillator.\n",
    "### - The extension or compression of spring 1 is given by $x_1$.\n",
    "### - The extension or compression of spring 2 is given by $x_2 - x_1$.\n",
    "### - And the extension or compression of spring 3 is given by $-x_2$.\n",
    "\n",
    "### ***Simplifying assumptions***\n",
    "### - We are assuming ideal springs, that is, there is no damping.\n",
    "### - The displacements $x_1$ and $x_2$ are small compared to the relaxed length of the middle spring. If this assumption is not satisfied, two things may happen: the masses may collide, and the spring forces may no longer be linear in the displacements.\n",
    "\n",
    "### ***Force on mass 1***:\n",
    "### There are two spring forces acting on mass 1: the force $F_1$ due to spring 1 and the force $F_2$ due to spring 2. These are given by\n",
    "## $$ F_1 = -k_1 x_1; \\quad F_2 = k_2(x_2-x_1) $$\n",
    "### Combining these using Newton's second law, we have\n",
    "## $$ m_1 \\ddot{x_1} = F_1 + F_2 = -k_1 x_1 + k_2(x_2-x_1) = -(k_1+k_2)x_1+k_2 x_2 $$\n",
    "### ***Force on mass 2***:\n",
    "### Similarly, there are two forces acting on mass 2: the force $F_2$ from spring 2, which acts on $m_2$ with the same magnitude but opposite direction as it acts on $m_1$ and the force $F_3$ from spring 3, given by\n",
    "## $$ F_3 = -k_3 x_2 $$\n",
    "### Again using Newton's second law, we have\n",
    "## $$ m_2 \\ddot{x} = -F_2+F_3 = -k_2(x_2-x_1)-k_3 x_2 = k_2 x_1 = k_2 x_1 -(k_3+k_2) x_2 $$\n",
    "\n",
    "### ***The differential equations***:\n",
    "### The two equations above together form a second order system:\n",
    "## $$ \\begin{array} {rcl} m_1 \\dot{x_1} & = & -(k_2+k_1)x_1 + k_2 x_2 \\\\ m_2 \\ddot{x_2} & = & k_2 x_1 -(k_2+k_3)x_2 \\end{array} $$\n",
    "### or equivalently in matrix form:\n",
    "## $$ \\begin{pmatrix} m_1 \\ddot{x_1} \\\\ m_2 \\ddot{x_2} \\end{pmatrix} = \\begin{pmatrix} -(k_2+k_1) & k_2 \\\\ k_2 & -(k_2+k_3) \\end{pmatrix} \\begin{pmatrix} x_1 \\\\ x_2 \\end{pmatrix} $$\n",
    "### Mathlet: [link](https://mathlets.org/mathlets/coupled-oscillators/)\n",
    "\n",
    "### The coupled oscillator is simulated in the mathlet."
   ]
  },
  {
   "cell_type": "markdown",
   "id": "2913ed05-c3e3-493d-b707-348c2cae0103",
   "metadata": {},
   "source": [
    "## Companion system of the coupled oscillator\n",
    "\n",
    "### ***Simplifying assumption***\n",
    "### Before we find the solutions for this homogeneous system, we will simplify and assume that\n",
    "### - the springs are identical, $k_1 = k_2 = k_3 = k$\n",
    "### - the masses are equal, so $m_1 = m_2 = m$.\n",
    "\n",
    "### Let $\\frac{k}{m} = \\omega^2$. This allows us to rewrite this system as follows:\n",
    "## $$ \\ddot{x} = \\bf{B}\\bf{x} \\quad \\text{where}\\, \\bf{x} = \\begin{pmatrix} x_1 \\\\ x_2 \\end{pmatrix}, \\bf{B}=\\omega^2 \\begin{pmatrix} -2 & 1 \\\\ 1 & -2 \\end{pmatrix} $$\n",
    "### Note the second derivatives on the left hand side. This is a second order system. How do we solve it? Convert to the first order, companion system!\n",
    "\n",
    "### ***Companion system***\n",
    "### There are different ways to write down a companion matrix. We will follow the one such possible way.\n",
    "### Define a new ***vector variable*** $\\bf{y} = \\begin{pmatrix} y_1 \\\\ y_2 \\end{pmatrix}$ and set\n",
    "## $$ \\bf{y} = \\dot{\\bf{x}} $$\n",
    "### or\n",
    "## $$ \\begin{pmatrix} y_1 \\\\ y_2 \\end{pmatrix} = \\begin{pmatrix} \\dot{\\bf{x_1}} \\\\ \\dot{\\bf{x_2}} \\end{pmatrix} $$\n",
    "### Then, the $2 \\times 2$ system of second order ODEs $\\ddot{\\bf{x}} = \\bf{B}\\bf{x}$ can be rewritten as\n",
    "## $$ \\dot{\\bf{y}} = \\bf{B}\\bf{x} $$\n",
    "### or\n",
    "## $$ \\begin{pmatrix} \\dot{y_1} \\\\ \\dot{y_2} \\end{pmatrix} = \\omega^2 \\begin{pmatrix} -2 & 1 \\\\ 1 & -2 \\end{pmatrix} \\begin{pmatrix} x_1 \\\\ x_2 \\end{pmatrix} $$\n",
    "### As usual for companion matrices, we reorder the equation $\\bf{y} = \\dot{\\bf{x}}$ and combine the two equations to form a system:\n",
    "## $$ \\begin{array} {rcl} \\dot{\\bf{x}} & = & \\bf{y} \\\\ \\dot{\\bf{y}} & = & \\bf{B}\\bf{x} \\end{array} $$\n",
    "### Expanded in all components, the system is:\n",
    "## $$ \\begin{array} {rcl} \\dot{x_1} & = & y_1 \\\\ \\dot{x_2} & = & y_2 \\\\ \\dot{y_1} & = & -2\\omega^2 x_1 + \\omega^2 x_2 \\\\ \\dot{y_2} & = & \\omega^2 x_1 - 2 \\omega^2 x_2 \\end{array} $$\n",
    "### This is the companion system, a $4 \\times 4$ ***first order*** system of ODEs, of the original $2 \\times 2$ system of second order ODEs.\n",
    "### Let us now rewrite this in matrix form by combining the two vectors $\\bf{x}$ and $\\bf{y}$ into a single vector $\\begin{pmatrix} \\bf{x} \\\\ \\bf{y} \\end{pmatrix}$ and rewrite this system in a form involving a  matrix:\n",
    "## $$ \\begin{array} {rcl} \\frac{d}{dt} \\begin{pmatrix} \\bf{x} \\\\ \\bf{y} \\end{pmatrix} & = & \\begin{pmatrix} \\bf{0} & {\\color{red}{\\bf{I}}} \\\\ {\\color{orange}{\\bf{B}}} & \\bf{0} \\end{pmatrix} \\begin{pmatrix} \\bf{x} \\\\ \\bf{y} \\end{pmatrix} \\\\ \\text{or}\\, \\frac{d}{dt} \\begin{pmatrix} x_1 \\\\ x_2 \\\\ y_1 \\\\ y_2 \\end{pmatrix} & = & \\begin{pmatrix} 0 & 0 & {\\color{red}{1}} & {\\color{red}{0}} \\\\ 0 & 0 & {\\color{red}{0}} & {\\color{red}{1}} \\\\ {\\color{orange}{-2\\omega^2}} & {\\color{orange}{\\omega^2}} & 0 & 0 \\\\ {\\color{orange}{\\omega^2}} & {\\color{orange}{-2\\omega^2}} & 0 & 0 \\end{pmatrix} \\begin{pmatrix} x_1 \\\\ x_2 \\\\ y_1 \\\\ y_2 \\end{pmatrix} \\end{array} $$\n",
    "### The notation $\\begin{pmatrix} 0 & {\\color{red}{\\bf{I}}} \\\\ {\\color{orange}{\\bf{B}}} & 0 \\end{pmatrix}$ is called a ***block matrix*** because the entries of the matrix are themselves matrices."
   ]
  },
  {
   "cell_type": "markdown",
   "id": "630d4a39-0841-40c2-8d67-184c16fab08f",
   "metadata": {},
   "source": [
    "## Solving the companion system of the coupled oscillator\n",
    "\n",
    "### Let us now solve the companion system of the unforced coupled oscillator:\n",
    "## $$ \\frac{d}{dt} \\begin{pmatrix} \\bf{x} \\\\ \\bf{y} \\end{pmatrix} = \\begin{pmatrix} \\bf{0} & \\bf{I} \\\\ \\bf{B} & \\bf{0} \\end{pmatrix} \\begin{pmatrix} \\bf{x} \\\\ \\bf{y} \\end{pmatrix} \\quad \\text{where} \\, \\bf{B} = \\omega^2 \\begin{pmatrix} -2 & 1 \\\\ 1 & -2 \\end{pmatrix}  $$\n",
    "### The first step is to find the eigenvalues and eigenvectors of the companion matrix $\\begin{pmatrix} \\bf{0} & \\bf{I} \\\\ \\bf{B} & \\bf{0} \\end{pmatrix}$ We could work out the characteristic polynomial directly, but this involves computing the determinant of a $4 \\times 4$ matrix. But in fact, because this is a companion matrix, its eigenvalues and eigenvectors can be written in terms of those of the smaller matrix $\\bf{B}$ within it. To show this, let us inspect the following eigenvalue-eigenvector equation:\n",
    "## $$ \\begin{pmatrix} \\bf{0} & \\bf{I} \\\\ \\bf{B} & \\bf{0} \\end{pmatrix} \\begin{pmatrix} \\bf{x} \\\\ \\bf{y} \\end{pmatrix} = \\lambda \\begin{pmatrix} \\bf{x} \\\\ \\bf{y} \\end{pmatrix} $$\n",
    "### To calculate the left hand side, we can use multiplication of block matrices, which works like usual matrix multiplication:\n",
    "## $$ \\begin{pmatrix} \\bf{0} & \\bf{I} \\\\ \\bf{B} & \\bf{0} \\end{pmatrix} \\begin{pmatrix} \\bf{x} \\\\ \\bf{y} \\end{pmatrix} = \\begin{pmatrix} \\bf{y} \\\\ \\bf{B}\\bf{x} \\end{pmatrix} $$\n",
    "### Hence, the eigenvalue-eigenvector equation becomes\n",
    "## $$ \\begin{pmatrix} \\bf{y} \\\\ \\bf{B}\\bf{x} \\end{pmatrix} = \\lambda \\begin{pmatrix} \\bf{x} \\\\ \\bf{y} \\end{pmatrix} \\iff \\left\\{ \\begin{array} {rcl} \\bf{y} & = & \\lambda \\bf{x} \\\\ \\bf{B}\\bf{x} & = & \\lambda \\bf{y} \\end{array} \\right. $$\n",
    "### Now we perform a trick: we plug the first equation into the second to eliminate $\\bf{y}$:\n",
    "## $$ \\bf{B}\\bf{x} = \\lambda^2 \\bf{x} $$\n",
    "### This says that $\\bf{x}$ is an eigenvector of $\\bf{B}$ with eigenvalue $\\lambda^2$. Now we can solve for $\\bf{y}$ namely $\\bf{y} = \\lambda \\bf{x}$ and $\\begin{pmatrix} \\bf{x} \\\\ \\lambda \\bf{x} \\end{pmatrix}$ is an eigenvector of $\\begin{pmatrix} \\bf{0} & \\bf{I} \\\\ \\bf{B} & \\bf{0} \\end{pmatrix}$.\n",
    "### The good news is that this procedure gives all the eigenvalues and eigenvectors of the $4 \\times 4$ matrix.\n",
    "### If the matrix $\\bf{B}$ has two eigenvalues and eigenvectors, let the eigenvalues be called $\\lambda_1^2, \\lambda_2^2$ and the associated eigenvectors be $\\bf{v_1}, \\bf{v_2}$. As long as $\\lambda_1^2$ and $\\lambda_2^2$ are distinct and non-zero, the matrix $\\begin{pmatrix} \\bf{0} & \\bf{I} \\\\ \\bf{B} & \\bf{0} \\end{pmatrix}$ will have four eigenvalues:\n",
    "## $$ \\lambda_1, -\\lambda_1, \\lambda_2, -\\lambda_2 $$\n",
    "### with corresponding eigenvectors\n",
    "## $$ \\begin{pmatrix} \\bf{v_1} \\\\ \\lambda_1 \\bf{v_1} \\end{pmatrix}, \\begin{pmatrix} \\bf{v_1} \\\\ -\\lambda_1 \\bf{v_1} \\end{pmatrix}, \\begin{pmatrix} \\bf{v_2} \\\\ \\lambda_2 \\bf{v_2} \\end{pmatrix}, \\begin{pmatrix} \\bf{v_2} \\\\ -\\lambda_2 \\bf{v_2} \\end{pmatrix} $$\n"
   ]
  },
  {
   "cell_type": "markdown",
   "id": "2e85c826-4e38-4ef7-bf30-1796e3a49dc7",
   "metadata": {},
   "source": [
    "## Eigenvectors computation: coupled oscillators\n",
    "\n",
    "### Let us continue with finding the eigenvalues and eigenvectors of the companion matrix of the unforced coupled oscillator:\n",
    "## $$ \\bf{A} = \\begin{pmatrix} \\bf{0} & \\bf{I} \\\\ \\bf{B} & \\bf{0} \\end{pmatrix} \\quad \\text{where}\\, \\bf{B} = \\omega^2 \\begin{pmatrix} -2 & 1 \\\\ 1 & -2 \\end{pmatrix} $$ \n",
    "### ***Eigenvalues***\n",
    "### Let us compute the eigenvalues and eigenvectors of $\\bf{B}$. The characteristic polynomial of $\\bf{B}$ is\n",
    "## $$ \\det(\\lambda \\bf{I} - \\bf{B}) = \\lambda^2+4\\omega^2\\lambda+3 \\omega^4 = (\\lambda+\\omega^2)(\\lambda+3\\omega^2) $$\n",
    "### so the eigenvalues of $\\bf{B}$ are $-\\omega^2$ and $-3\\omega^2$.\n",
    "### We know that the eigenvalues of $\\bf{B}$ are the square roots of the eigenvalues of $\\bf{B}$. Therefore, the eigenvalues of $\\bf{A}$ are\n",
    "## $$ \\pm i\\omega \\quad \\pm\\sqrt{3} i\\omega $$\n",
    "### ***Eigenvectors***\n",
    "### Let us find the eigenvectors for $\\bf{B}$. (We are almost there!)\n",
    "### For the eigenvalue $-\\omega^2$ we need to find a basis for the null space of\n",
    "## $$ \\bf{B} - (-\\omega^2\\bf{I}) = \\omega^2 \\begin{pmatrix} -1 & 1 \\\\ 1 & -1 \\end{pmatrix} $$\n",
    "### The vector $\\begin{pmatrix} 1 \\\\ 1 \\end{pmatrix}$ will do.\n",
    "\n",
    "### Similarly, an eigenvector for the eigenvalue $-3\\omega^2$ is $\\begin{pmatrix} 1 \\\\ -1 \\end{pmatrix}$.\n",
    "### Recall from the previous page that the eigenvectors of $\\bf{A}$ with eigenvalue $\\lambda$ are $\\begin{pmatrix} \\bf{X} \\\\ \\lambda \\bf{x} \\end{pmatrix}$ where $\\bf{x}$ is an eigenvector of $\\bf{B}$ with eigenvalue $\\lambda^2$. Therefore, the four pairs of eigenvalues and eigenvectors of $\\bf{A}$ are\n",
    "## $$ \\text{for}\\,\\lambda=\\pm i\\omega:\\, \\begin{pmatrix} 1 \\\\ 1 \\\\ \\pm i\\omega \\\\ \\pm i\\omega \\end{pmatrix}, \\quad \\text{for}\\,\\lambda=\\pm \\sqrt{3} i\\omega:\\, \\begin{pmatrix} 1 \\\\ -1 \\\\ \\pm \\sqrt{3} i\\omega \\\\ \\pm \\sqrt{3} i\\omega \\end{pmatrix} $$\n",
    "### Note that as in the $2 \\times 2$ case, the complex eigenvalues come in pairs of complex conjugates, and the eigenvectors of the conjugate eigenvalue $\\bar{\\lambda}$ are the conjugates of the eigenvectors of $\\lambda$\n",
    "\n",
    "### ***Solutions to the companion system***\n",
    "### The four pairs of eigenvalues and eigenvectors of $\\bf{A}$ give the four exponential solutions:\n",
    "## $$ e^{i\\omega t} \\begin{pmatrix} 1 \\\\ 1 \\\\ i\\omega \\\\ i \\omega \\end{pmatrix}, \\quad e^{i\\sqrt{3}\\omega} \\begin{pmatrix} 1 \\\\ -1 \\\\ i\\sqrt{3}\\omega \\\\ -i\\sqrt{3}\\omega \\end{pmatrix} $$\n",
    "### (and their cmplext conjugates!)\n",
    "### The general (complex) solution is therefore linear combinations of these.\n",
    "\n",
    "### ***The real solutions and physical interpretation***\n",
    "### But we are interested in the real solutions because the components of $\\bf{x} = \\begin{pmatrix} x_1 \\\\ x_2 \\end{pmatrix}$ represent the displacements in real physical space of the two masses.\n",
    "\n",
    "### As usual, we find a basis for the real solutions by taking the real and imaginary parts of the exponential solutions.\n",
    "### Since the bottom half $\\bf{y}$ of $\\begin{pmatrix} \\bf{x} \\\\ \\bf{y} \\end{pmatrix}$ is given by $\\bf{y} = \\dot{\\bf{x}}$ we only need to write down the top halves of the real solutions:\n",
    "## $$ \\begin{pmatrix} \\cos(\\omega t) \\\\ \\cos(\\omega t) \\end{pmatrix}, \\begin{pmatrix} \\sin(\\omega t) \\\\ \\sin(\\omega t) \\end{pmatrix}, \\begin{pmatrix} \\cos(\\sqrt{3}\\omega t) \\\\ -\\cos(\\sqrt{3}\\omega t) \\end{pmatrix}, \\begin{pmatrix} \\sin(\\sqrt{3}\\omega t) \\\\ -\\sin(\\sqrt{3} \\omega t) \\end{pmatrix} $$\n",
    "### The first two solutions combine to give a general sinusoid of angular frequency $\\omega$ for $x_1$ and $x_2=x_1$. In this mode, the masses are moving together; the spring between them is relaxed.\n",
    "\n",
    "### The general solution is\n",
    "## $$ \\begin{array} {rcl} x_1 & = & A_1 \\cos(\\omega t + \\phi_1) + A_2 \\cos(\\sqrt{3}\\omega t + \\phi_2) \\\\ x_2 & = & A_1 \\cos(\\omega t + \\phi_1) - A_2 \\cos(\\sqrt{3}\\omega t + \\phi_2) \\end{array} $$\n",
    "### There are two purely sinusoidal modes:\n",
    "### - When $A_2 = 0, x_1=x_2=A_1\\cos(\\omega t + \\phi_1)$, and the two masses oscillate together with the spring in between at equilibrium,\n",
    "### - When $A_1=0, x_1=-x_2=A_2\\cos(\\sqrt{3}\\omega t+\\phi_2)$, and the oscillations are synchronous but in opposite directions.\n",
    "\n",
    "### ***Demonstration of coupled oscillator using air carts***\n",
    "\n",
    "### The Technical Services Group in the physics department has graciously provided some video footage of the couple oscillator in real action using carts on an air track.\n",
    "### The springs are difficult to discern in the video, and at the outset the carts have brakes on. When the technician turns on the switch, the carts become elevated on an air track and move. This air track makes the assumption of zero drag quite close to reality.\n",
    "### Video note: In the video below, the segment relevant to this example ends at 1:07, but we include the rest of the demonstration for fun.\n",
    "### [Video](https://www.youtube.com/watch?v=zlzns5PjmJ4)"
   ]
  },
  {
   "cell_type": "markdown",
   "id": "4c77bf96-e7ab-4342-882e-fcfd4c44728a",
   "metadata": {},
   "source": []
  }
 ],
 "metadata": {
  "kernelspec": {
   "display_name": "Python 3",
   "language": "python",
   "name": "python3"
  },
  "language_info": {
   "codemirror_mode": {
    "name": "ipython",
    "version": 3
   },
   "file_extension": ".py",
   "mimetype": "text/x-python",
   "name": "python",
   "nbconvert_exporter": "python",
   "pygments_lexer": "ipython3",
   "version": "3.8.8"
  }
 },
 "nbformat": 4,
 "nbformat_minor": 5
}

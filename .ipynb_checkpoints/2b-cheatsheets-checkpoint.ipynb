{
 "cells": [
  {
   "cell_type": "markdown",
   "id": "10491037-0a41-4d77-a666-6ab21d03cc9d",
   "metadata": {},
   "source": [
    "# Unit 2: Linear Algebra, Part 2b"
   ]
  },
  {
   "cell_type": "markdown",
   "id": "c2039ec9-cee4-42b4-880b-67fd08ad33af",
   "metadata": {},
   "source": [
    "## The eigenvalue-eigenvector problem\n",
    "\n",
    "### In the course Differential equations: 2 by 2 systems, we learned that the first step in solving a linear $2 \\times 2$ system of differential equations, $\\dot{\\bf{x}}$ is to find the eigenvalues and eigenvectors of the $2 \\times 2$ matrix $\\bf{A}$. The procedure for solving linear $n \\times n$ systems of DEs is the same, and starts with finding eigenvalues and eigenvectors. And even outside the context of differential equations, the eigenvalues and eigenvectors of a matrix tell us a lot about what the matrix does as a function on $\\mathbb{R}^n$."
   ]
  },
  {
   "cell_type": "markdown",
   "id": "6b29d916-661b-4e36-99ce-11338cc64d4b",
   "metadata": {},
   "source": [
    "### ***Definition 2.1***\n",
    "### Let $\\bf{A}$ be an $n \\times n$ mmatrix.\n",
    "### - An ***eigenvalue of*** $\\bf{A}$ is a ***scalar*** $\\lambda$ such that $\\bf{A}\\bf{v} = \\lambda \\bf{v}$ for some ***nonzero*** vector $\\bf{v}$.\n",
    "### - An ***eigenvector of*** $\\bf{A}$ ***associated with an eigenvalue*** $\\lambda$ is a ***nonzero*** vector $\\bf{v}$ such that $\\bf{A}\\bf{v} = \\lambda \\bf{v}$.\n",
    "\n",
    "### (We also say that an eigenvector $\\bf{v}$ “corresponds to,\" or “belongs to\" an eigenvalue $\\lambda$.)"
   ]
  },
  {
   "cell_type": "code",
   "execution_count": null,
   "id": "e67a2c67-dcb1-4158-8eb6-d64dc80021f8",
   "metadata": {},
   "outputs": [],
   "source": []
  }
 ],
 "metadata": {
  "kernelspec": {
   "display_name": "Python 3",
   "language": "python",
   "name": "python3"
  },
  "language_info": {
   "codemirror_mode": {
    "name": "ipython",
    "version": 3
   },
   "file_extension": ".py",
   "mimetype": "text/x-python",
   "name": "python",
   "nbconvert_exporter": "python",
   "pygments_lexer": "ipython3",
   "version": "3.8.8"
  }
 },
 "nbformat": 4,
 "nbformat_minor": 5
}

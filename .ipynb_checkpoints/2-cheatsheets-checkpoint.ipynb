{
 "cells": [
  {
   "cell_type": "markdown",
   "id": "5fc1448f-7d3f-4dae-baf9-f119336d7a21",
   "metadata": {},
   "source": [
    "# Unit 2: Linear Algebra, Part 2"
   ]
  },
  {
   "cell_type": "markdown",
   "id": "923cb855-32fb-435c-be28-8caaef479a01",
   "metadata": {},
   "source": [
    "## Example: a projection\n",
    "\n",
    "### Let $\\bf{f}$ be the function from $\\mathbb{R}^3$ to $\\mathbb{R}^3$ that projects all of $\\mathbb{R}^3$ onto the $xy$-plane:\n",
    "## $$ \\bf{f} \\begin{pmatrix} x \\\\ y \\\\ z \\end{pmatrix} = \\begin{pmatrix} x \\\\ y \\\\ 0 \\end{pmatrix} $$\n",
    "\n",
    "### 1. What is the matrix $\\bf{A}$ that represents $\\bf{f}$?\n",
    "### 2. Which vectors from the input vector spae does $\\bf{f}$ map to $\\bf{0}$?\n",
    "### 3. Describe the range (or omage) of $\\bf{f}$ geometrically in the output space. Recall that the range of $\\bf{f}$ is the set of all vectors $\\bf{b} = \\bf{f}(\\bf{x})$ for all vectors $\\bf{x}$ in the input space.\n",
    "\n",
    "### ***Solution***:\n",
    "### 1. $\\bf{A}$ is a $3 \\times 3$ matrix such that\n",
    "## $$ \\begin{array} {lcccr} (\\text{first column of}\\,\\bf{A}) & = & \\bf{f} \\begin{pmatrix} 1 \\\\ 0 \\\\ 0 \\end{pmatrix} & = & \\begin{pmatrix} 1 \\\\ 0 \\\\ 0 \\end{pmatrix} \\\\ (\\text{second column of}\\,\\bf{A}) & = & \\bf{f} \\begin{pmatrix} 0 \\\\ 1 \\\\ 0 \\end{pmatrix} & = & \\begin{pmatrix} 0 \\\\ 1 \\\\ 0  \\end{pmatrix} \\\\ (\\text{third column of}\\,\\bf{A}) & = & \\bf{f} \\begin{pmatrix} 0 \\\\ 0 \\\\ 1 \\end{pmatrix} & = & \\begin{pmatrix} 0 \\\\ 0 \\\\ 0 \\end{pmatrix} \\end{array} $$\n",
    "\n",
    "### Thus $\\bf{A} = \\begin{pmatrix} 1 & 0 & 0 \\\\ 0 & 1 & 0 \\\\ 0 & 0 & 0 \\end{pmatrix} $.\n",
    "\n",
    "### 2. Note that $\\bf{f} \\begin{pmatrix} x \\\\ y \\\\ z \\end{pmatrix} = \\begin{pmatrix} x \\\\ y \\\\ 0 \\end{pmatrix} $ is the zero vector if and only if $x = 0$ and $y = 0$. Thus the projection takes any vector of the form $\\begin{pmatrix} 0 \\\\ 0 \\\\ z \\end{pmatrix}$ to the zero vector. Geometrically, this says that the entire $z$-axis is sent to the zero vector.\n",
    "![Projection](img/projection.png)\n",
    "\n",
    "### The set of vectors mapped to $\\bf{0}$ by $\\bf{f}$ is the same as the set of solutions to $\\bf{A} \\bf{x} = \\bf{0}$. \n",
    "### Using our algorithm from the last lecture, we find the set of solutions to $\\bf{A}\\bf{x} = \\bf{0}$. \n",
    "### This set of solutions forms a vector space called the ***nullspace***. The nullspace $\\operatorname{NS}(\\bf{A})$ is a subspace of the ***input*** space; in this example:\n",
    "## $$ \\begin{array} {rcl} \\operatorname{NS}(\\bf{A}) & = & \\{ \\text{solutions to}\\, \\bf{A}\\bf{x} = \\bf{0} \\} \\\\ \\, & = & \\{ \\text{solutions to}\\,\\bf{f}(x,y,z) = \\bf{0} \\} \\\\ \\, & = & \\{ (0, 0, z): z \\in \\mathbb{R} \\} \\\\ \\, & = & \\text{the }\\, z\\text{-axis in the input space}\\, \\mathbb{R}^3 \\end{array} $$\n",
    "\n",
    "### 3. The set of all vectors $\\bf{b}$ in the image (also called range) of $\\bf{f}$ are all vectors $\\bf{f}(\\bf{x})$; in our example:\n",
    "## $$ \\begin{array} {rcl} \\text{Image of}\\,\\bf{f}(x,y,z) & = & \\{ (x, y, 0): x,y \\in \\mathbb{R} \\} \\\\ \\, & = & \\text{the }\\, xy\\text{-plane in the output space}\\, \\mathbb{R}^3 \\end{array} $$\n",
    "\n",
    "### Another way of thinking of this is as the set of all vectors $\\bf{f}$ that can be written as $\\bf{A}\\bf{x}$ for some vector $\\bf{x}$; in our example:\n",
    "## $$ \\text{All vectors}\\, \\bf{A}\\bf{x} = \\text{all linear combinations of the columns of }\\,\\bf{A} $$\n",
    "\n",
    "### Therefore the set of al vectors $\\bf{b} = \\bf{A}\\bf{x}$ is the same as the span of the columns of $\\bf{A}$. \n",
    "### The span of the columns of $\\bf{A}$ is called the ***column space*** $\\operatorname{CS}(\\bf{A})$; it is a subspace of the ***output space***."
   ]
  },
  {
   "cell_type": "markdown",
   "id": "5f24f608-d169-4c18-8995-4d71d50d206c",
   "metadata": {},
   "source": [
    "## Column space\n",
    "\n",
    "### ***Definition 3.1***\n",
    "### The ***column space*** of a matrix $\\bf{A}$ is the span of its columns. \n",
    "### The notation for it is $\\operatorname{CS}(\\bf{A})$. \n",
    "### It is also called the ***image*** of $\\bf{A}$, and written $\\operatorname{Im}(\\bf{A})$\n",
    "\n",
    "### Since $\\operatorname{CS}(\\bf{A})$ is a span, it is vector space.\n",
    "\n",
    "### ***Example 3.2***\n",
    "### Consider a matrix $\\bf{A} = \\begin{pmatrix} 1 & 2 & 3 \\\\ 2 & 4 & 6 \\end{pmatrix}$. Its column space is given by\n",
    "## $$ \\operatorname{CS}(\\bf{A}) = \\text{the span of} \\begin{pmatrix} 1 \\\\ 2 \\end{pmatrix}, \\begin{pmatrix} 2 \\\\ 4 \\end{pmatrix}, \\begin{pmatrix} 3 \\\\ 6 \\end{pmatrix} $$\n",
    "\n",
    "### Using that the column vectors are all constant multiples of the vector $\\begin{pmatrix} 1 \\\\ 2 \\end{pmatrix}$, we find a basis for the column space consisting of the single vector $\\begin{pmatrix} 1 \\\\ 2 \\end{pmatrix}$, and find that $\\operatorname{CS}(\\bf{A})$ is the line $y = 2x$ in $\\mathbb{R}^2$.\n",
    "\n",
    "### ***Example 3.3***\n",
    "### Find a basis for the column space of the matrix\n",
    "## $$ \\bf{A} = \\begin{pmatrix} 1 & 2 & 3 \\\\ -1 & -2 & -3 \\\\ 1 & 2 & 3 \\\\ 0 & 0 & 9 \\end{pmatrix} $$\n",
    "\n",
    "### The column space is defined as $\\operatorname{Span}\\left( \\begin{pmatrix} 1 \\\\ -1 \\\\ 1 \\\\ 0 \\end{pmatrix}, \\begin{pmatrix} 2 \\\\ -2 \\\\ 2 \\\\ 0 \\end{pmatrix}, \\begin{pmatrix} 3 \\\\ -3 \\\\ 3 \\\\ 9 \\end{pmatrix}  \\right)$. But the second vector is a multiple of the first vector, so it is redundant. Therefore, the column space can be described more simply as the span of the first and third columns:\n",
    "## $$ \\operatorname{CS}(\\bf{A}) = \\operatorname{Span}\\left( \\begin{pmatrix} 1 \\\\ -1 \\\\ 1 \\\\ 0 \\end{pmatrix}, \\begin{pmatrix} 3 \\\\ -3 \\\\ 3 \\\\ 9 \\end{pmatrix}  \\right) $$\n",
    "### These two vectors are linearly independent, so we do need both vectors in the basis for this column space."
   ]
  },
  {
   "cell_type": "markdown",
   "id": "131ae9c8-78cf-4d4a-a792-6eef1a0c57b4",
   "metadata": {},
   "source": [
    "## Computing a basis for $\\operatorname{CS}(\\bf{A})$\n",
    "\n",
    "### Steps to compute a basis for $\\operatorname{CS}(\\bf{A})$:\n",
    "### 1. Perform Gaussian elimination to convert $\\bf{A}$ to a matrix $\\bf{B}$ in row echelon form.\n",
    "### 2. Identify the pivot columns of $\\bf{B}$.\n",
    "### 3. The corresponding columns of $\\bf{A}$ are a basis for $\\operatorname{CS}(\\bf{A})$."
   ]
  },
  {
   "cell_type": "markdown",
   "id": "31bf8af6-df30-434e-8490-0e8347e1e412",
   "metadata": {},
   "source": [
    "### ***Proof***\n",
    "### Recall that $\\bf{B}$ is a row echelon form of $\\bf{A}$. Let $\\bf{C}$ be the ***reduced row*** echelon form of $\\bf{A}$. If\n",
    "## $$ \\text{fifth column} = 3(\\text{first column})+7(\\text{second column}) $$\n",
    "### is true for a matrix, it will remain true after any row operation.\n",
    "\n",
    "### Similarly, any linear relation between columns is preserved by row operations. So the linear relations between columns of $\\bf{A}$ are the same as the linear relations between columns of $\\bf{C}$. The condition that certain numbered columns (say the first, second, and fourth) of a matrix form a basis is expressible in terms of which linear relations hold. So if certain columns form a basis for $\\operatorname{CS}(\\bf{C})$, the same numbered columns will form a basis for $\\operatorname{CS}(\\bf{A})$. \n",
    "### ***Warning***: these are very unlikely to be the same columns!\n",
    "\n",
    "### Recall that $\\bf{B}$ is a row echelon form of $\\bf{A}$. We can obtain the reduced row echelon form $\\bf{C}$ by performing Gauss-Jordan elimination on $\\bf{B}$. This process does not change the pivot locations. Thus it will be enough to show that the pivot columns of $\\bf{C}$ form a basis of $\\operatorname{CS}(\\bf{C})$. Since $\\bf{C}$ is in reduced row echelon form, the pivot columns of $\\bf{C}$ are the first $r$ of the $m$ standard basis vectors for $\\mathbb{R}^m$, where $r$ is the number of nonzero rows of $\\bf{C}$. These columns are ***linearly independent***, and every other column is a linear combination of them, since the entries of $\\bf{C}$ below the first $r$ rows are all zeros. Thus the pivot columns of $\\bf{C}$ form a basis of $\\operatorname{CS}(\\bf{C})$."
   ]
  },
  {
   "cell_type": "markdown",
   "id": "d21c98f9-a7ae-4e22-a0f5-aa597626dc34",
   "metadata": {},
   "source": [
    "### In particular\n",
    "## $$ \\dim \\operatorname{CS}(\\bf{A}) = \\# \\text{ pivot columns of }\\, \\bf{B} $$\n",
    "### ***Warning***\n",
    "### Usually $\\operatorname{CS}(\\bf{A}) \\neq \\operatorname{CS}(\\bf{B})$"
   ]
  },
  {
   "cell_type": "markdown",
   "id": "2da6322c-6d7f-46f3-a5bd-6d0dcf15767d",
   "metadata": {},
   "source": [
    "### ***Example***\n",
    "## $$ \\bf{A} = \\begin{pmatrix}  1 &  3 &  2 \\\\ -1 &  1 &  -2 \\\\ 2 &  3 &  4 \\end{pmatrix} $$\n",
    "## $$ \\bf{B} = \\operatorname{rref}(\\bf{A}) = \\begin{pmatrix}  1 &  3 &  2 \\\\ 0 &  4 &  0 \\\\ 0 &  0 &  0 \\end{pmatrix} $$\n",
    "### therefore\n",
    "## $$ \\text{basis for}\\, \\operatorname{CS}(\\bf{A}) = \\left\\{ \\begin{pmatrix}  1 \\\\ -1 \\\\ 2 \\end{pmatrix}, \\begin{pmatrix}  3 \\\\ 1 \\\\ 3 \\end{pmatrix} \\right\\} $$\n"
   ]
  },
  {
   "cell_type": "markdown",
   "id": "7774d36a-2287-4a7d-95f9-f849dd39b1a7",
   "metadata": {},
   "source": [
    "## Rank and the Rank-Nullity Theorem\n",
    "\n",
    "### ***Problem 4.1***\n",
    "### Let $\\bf{A}$ be the $3 \\times 5$ matrix\n",
    "## $$ \\begin{pmatrix}  1 &  2 &  3 &  4 &  5 \\\\ -1 &  -2 &  9 &  10 &  11 \\\\ 1 &  2 &  9 &  11 &  13 \\end{pmatrix} $$\n",
    "\n",
    "### 1. Find a basis for $\\operatorname{CS}(\\bf{A})$.\n",
    "### 2. What are $\\dim \\operatorname{NS}(\\bf{A})$ and $\\dim \\operatorname{CS}(\\bf{A})$?\n",
    "\n",
    "### ***Solution***\n",
    "### 1. First we find a row echelon form. Add the first row to the second, and add $-1$ times the first row to the third:\n",
    "## $$ \\begin{pmatrix}  1 &  2 &  3 &  4 &  5 \\\\ 0 &  0 &  12 &  14 &  16 \\\\ 0 &  0 &  6 &  7 &  8 \\end{pmatrix} $$\n",
    "### Add $-\\frac{1}{2}$ times the second row to the third:\n",
    "## $$ \\mathbf{B} \\colon = \\begin{pmatrix}  {\\color{red}{1}}  &  2 &  3 &  4 &  5 \\\\ 0 &  0 &  {\\color{red}{12}}  &  14 &  16 \\\\ 0 &  0 &  0 &  0 &  0 \\end{pmatrix} $$\n",
    "### This is row echelon form.\n",
    "### The pivots of $\\bf{B}$ are in the first and third columns.\n",
    "### Basis for $\\operatorname{CS}(\\bf{A})$: first and third columns of $\\bf{A}$, i.e., $\\begin{pmatrix} 1 \\\\ -1 \\\\ 1 \\end{pmatrix}, \\begin{pmatrix} 3 \\\\ 9 \\\\ 9 \\end{pmatrix}$.\n",
    "\n",
    "### 2.\n",
    "## $$ \\dim \\operatorname{NS}(\\bf{A}) = \\# \\text{non-pivot columns of}\\, \\bf{B} = 3 $$\n",
    "## $$ \\dim \\operatorname{CS}(\\bf{A}) = \\# \\text{pivot columns of}\\, \\bf{B} = 2 $$"
   ]
  },
  {
   "cell_type": "markdown",
   "id": "cf161ae5-f9f2-4049-9a76-be52d4739e06",
   "metadata": {},
   "source": [
    "### ***Definition 4.2***\n",
    "### The ***nullity*** of $\\bf{A}$ is defined as the number\n",
    "## $$ \\operatorname{nullity}(\\bf{A}) = \\dim \\operatorname{NS}(\\bf{A}) $$\n",
    "\n",
    "### The ***rank*** of $\\bf{A}$ is defined as the number\n",
    "## $$ \\operatorname{rank}(\\bf{A}) = \\dim \\operatorname{CS}(\\bf{A}) $$\n",
    "\n",
    "### The rank of any $m \\times n$ matrix $\\bf{A}$ is always between $0$ and $\\min(m, n)$."
   ]
  },
  {
   "cell_type": "markdown",
   "id": "ce3f52ae-8e39-4a45-a2c4-fe890c034183",
   "metadata": {},
   "source": [
    "## Rank nullity theorem\n",
    "\n",
    "### ***Theorem 4.3***\n",
    "### For any $m \\times n$ matrix $\\bf{A}$,\n",
    "## $$ \\operatorname{nullity}(\\bf{A}) + \\operatorname{rank}(\\bf{A}) = n $$\n",
    "### This theorem is called ***rank-nullity theorem***.\n",
    "\n",
    "### ***Proof***\n",
    "### Let $\\bf{B}$ be a row echelon form of $\\bf{A}$.\n",
    "## $$ \\begin{array} {rcl} \\operatorname{nullity}(\\bf{A}) + \\operatorname{rank}(\\bf{A}) & = & \\dim \\operatorname{NS}(\\bf{A}) + \\dim \\operatorname{CS}(\\bf{A}) \\\\ \\, & = & (\\#\\text{non-pivot columns of }\\, \\bf{B})+(\\#\\text{pivot columns of}\\,\\bf{B}) \\\\ \\, & = & \\#\\text{columns of}\\,\\bf{B} \\\\ \\, & = & n \\end{array} $$"
   ]
  },
  {
   "cell_type": "markdown",
   "id": "575d594c-bb33-4ff7-b313-686beeef58d7",
   "metadata": {},
   "source": [
    "### When the rank of a matrix equals the number of its columns we say that this matrix has a ***full column rank***. \n",
    "### Whenever this happens, the matrix has a $0$-dimensional nullspace."
   ]
  },
  {
   "cell_type": "markdown",
   "id": "578ab2aa-7d75-4a98-992b-78ebd4830ced",
   "metadata": {},
   "source": [
    "## Computing a Basis for a Span\n",
    "\n",
    "### Given vectors $\\bf{v_1}, \\ldots, \\bf{v_n} \\in \\mathbb{R}^m$, how can one compute a basis of $\\operatorname{Span}(\\bf{v_1}, \\ldots,\\bf{v_n})$?\n",
    "\n",
    "### ***Algorithm for computing a basis for*** $\\operatorname{Span}(\\bf{v_1}, \\ldots,\\bf{v_n})$\n",
    "\n",
    "### 1. Form the matrix $\\bf{A}$ whose columns are $\\bf{v_1}, \\ldots, \\bf{v_n}$\n",
    "### 2. Find a basis for $\\operatorname{CS}(\\bf{A})$ (by using a row echelon form as discussed earlier)\n",
    "\n",
    "### ***Example 5.1***\n",
    "### Find a basis for the span of the following vctors:\n",
    "## $$ \\begin{pmatrix} 1 \\\\ -1 \\\\ 1 \\\\ 0 \\end{pmatrix}, \\begin{pmatrix} 2 \\\\ -2 \\\\ 2 \\\\ 0 \\end{pmatrix}, \\begin{pmatrix} 3 \\\\ -3 \\\\ 3 \\\\ 1 \\end{pmatrix}, \\begin{pmatrix} 0 \\\\ 0 \\\\ 0 \\\\ 1 \\end{pmatrix} $$\n",
    "### Start by forming the matrix $\\bf{A} = \\begin{pmatrix} 1 & 2 & 3 & 0 \\\\ -1 & -2 & -3 & 0 \\\\ 1 & 2 & 3 & 0 \\\\ 0 & 0 & 1 & 1 \\end{pmatrix} $. Find the row echelon form of $\\bf{A}$ using Gaussian elimination:\n",
    "## $$ \\begin{pmatrix} 1 & 2 & 3 & 0 \\\\ -1 & -2 & -3 & 0 \\\\ 1 & 2 & 3 & 0 \\\\ 0 & 0 & 1 & 1 \\end{pmatrix} \\to \\begin{pmatrix} 1 & 2 & 3 & 0 \\\\ 0 & 0 & 0 & 0 \\\\ 0 & 0 & 0 & 0 \\\\ 0 & 0 & 1 & 1 \\end{pmatrix} \\to \\begin{pmatrix} 1 & 2 & 3 & 0 \\\\ 0 & 0 & 1 & 1 \\\\ 0 & 0 & 0 & 0 \\\\ 0 & 0 & 0 & 0 \\end{pmatrix} $$\n",
    "\n",
    "### The pivot columns are the first and third columns, therefore a basis is given by\n",
    "## $$ \\begin{pmatrix} 1 \\\\ -1 \\\\ 1 \\\\ 0 \\end{pmatrix}, \\begin{pmatrix} 3 \\\\ -3 \\\\ 3 \\\\ 1 \\end{pmatrix} $$"
   ]
  },
  {
   "cell_type": "code",
   "execution_count": null,
   "id": "b4dbd478-7c11-43fa-893a-c782a31dd7f7",
   "metadata": {},
   "outputs": [],
   "source": []
  }
 ],
 "metadata": {
  "kernelspec": {
   "display_name": "Python 3",
   "language": "python",
   "name": "python3"
  },
  "language_info": {
   "codemirror_mode": {
    "name": "ipython",
    "version": 3
   },
   "file_extension": ".py",
   "mimetype": "text/x-python",
   "name": "python",
   "nbconvert_exporter": "python",
   "pygments_lexer": "ipython3",
   "version": "3.8.8"
  }
 },
 "nbformat": 4,
 "nbformat_minor": 5
}

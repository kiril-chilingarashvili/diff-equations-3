{
 "cells": [
  {
   "cell_type": "markdown",
   "id": "edd70929-7442-42e6-b7a9-0fb0dacd8ccc",
   "metadata": {},
   "source": [
    "# Unit 1: Linear Algebra, Part 1"
   ]
  },
  {
   "cell_type": "markdown",
   "id": "890a5f2e-b4d3-404b-8df5-e036c113a3d8",
   "metadata": {},
   "source": [
    "## Setting the context\n",
    "### Systems of differential equations arise naturally from many physical scenarios. Additionally, any higher order ODE (or system of such) can be written as a system of first-order ODEs. (This is called finding the companion matrix.) This is useful because MATLAB and other computer algebra systems have routines for solving systems of first order ODEs!\n",
    "\n",
    "### Here is where linear algebra enters the stage. Let's review how linear algebra came into play in solving 2x2 systems, so we can outline the goals of our understanding of linear algebra for the context of solving differential equations."
   ]
  },
  {
   "cell_type": "markdown",
   "id": "a8224242-0028-4f4b-b441-d1d26530c2a5",
   "metadata": {},
   "source": [
    "## Review of solving $2 \\times 2$ systems of DEs\n",
    "### Given a system of differential equations, our first step is to write this system as a matrix system\n",
    "## $$ \\bf{\\dot{x}} = \\bf{A} \\bf{x} + \\bf{b} $$\n",
    "\n",
    "### For now, we assume $\\bf{b} = \\bf{0}$, as we will not handle solving the inhomogeneous case until we've developed tools from linear algebra to help us in this endeavor.\n",
    "### The process for solving the system $\\bf{\\dot{x}} = \\bf{A} \\bf{x}$ which has distinct eigenvalues is as follows:\n",
    "\n",
    "### ***Step 1***: Find the eigenvalues of $\\bf{A}$. (Find $\\lambda_1, \\lambda_2$ that solves $\\det(\\bf{A} - \\lambda \\bf{I}) = \\bf{0}$.)\n",
    "### ***Step 2***: Find the eigenvectors of $\\bf{A}$ corresponding to each eigenvalue. (Find $\\bf{v_1}, \\bf{v_2}$ that solve $(\\bf{A} - \\lambda \\bf{I}) \\bf{v} = \\bf{0}$ for each $\\lambda_i, i = 1,2$.)\n",
    "### ***Step 3***: Solutions take the form\n",
    "## $$ \\bf{x}(t) = c_1 e^{\\lambda_1 t} \\bf{v_1} + c_2 e^{\\lambda_2 t} \\bf{v_2} $$\n",
    "\n",
    "### for arbitrary constants $c_1$ and $c_2$ which can be determined from initial conditions.\n",
    "\n",
    "### The process of solving homogenous higher order systems of differential equations consists of the same steps if there are distinct eigenvalues. The key issues are that we must now expand our linear algebra toolbox to handle solutions to linear systems, linear independence, determinants, eigenvalues and eigenvectors, and more in $3$ or more dimensions. We will also be able to use these tools to solve systems with repeated eigenvalues. That is the goal of the next several lectures.\n",
    "\n",
    "### We will develop our linear algebra toolbox both by hand on paper and with computer aid MATLAB in tandem."
   ]
  },
  {
   "cell_type": "markdown",
   "id": "ea4bbf14-edee-4706-a605-b3322a267b6d",
   "metadata": {},
   "source": [
    "## Geometry of linear systems\n",
    "### Given a system of $2$ equations with $2$ unknowns, each equation describes a line.\n",
    "## $$ a x + b y = 8 $$\n",
    "## $$ c x+ d y = 2 $$\n",
    "### The solution is the intersection of the solutions to each equation independently. There are 3 possibilities for the solution to such a system:\n",
    "![Solutions](img/solutions.png)\n",
    "\n",
    "### Given a system of $3$ equations and $3$ unknowns, it is more complicated – the solution can be a point, a line, a plane, or nothing!\n",
    "\n",
    "### Beyond equations with 3 unknowns, we have a hard time visualizing the solutions spaces geometrically. Instead, it is helpful to have algorithmic approaches to finding solutions. Part of this approach will involve writing our systems in terms of matrices. In this lecture, we will focus on developing an algorithm for finding solutions when there is one solution, a line of solutions, no solution. This same approach works in other situations, as seen in the complicated example at the end of this lecture."
   ]
  },
  {
   "cell_type": "markdown",
   "id": "16d4f3a9-9ce3-4af9-afbf-dfcb7ed78827",
   "metadata": {},
   "source": [
    "## Writing systems in matrix form\n",
    "\n",
    "### A system of $3$ equations with $3$ unknowns,\n",
    "## $$ 8y-4z=0 $$\n",
    "## $$ x-y-4z=1$$\n",
    "## $$ -x+5y+2z = 0 $$\n",
    "### can be rewritten in matrix form as $\\bf{A}\\bf{x} = \\bf{b}$:\n",
    "## $$ \\underset{\\bf{A}}{\\begin{pmatrix} 0 & 8 & -4 \\\\ 1 & -1 & -4 \\\\ -1 & 5 & 2 \\end{pmatrix}} \\underset{\\bf{x}}{\\begin{pmatrix} x \\\\ y \\\\ z \\end{pmatrix}} = \\underset{\\bf{b}}{\\begin{pmatrix} 0 \\\\ 1 \\\\ 0 \\end{pmatrix}} $$\n",
    "\n",
    "### We can think of multiplying the vector $\\bf{x}$ and the matrix $\\bf{A}$ in $2$ equivalent ways as follows:\n",
    "\n",
    "### ***1.*** To multiply $\\bf{A}$ and $\\bf{x}$ to get a vector $\\bf{B}$, the th entry of $\\bf{B}$ is the dot product of the $i$th row of $\\bf{A}$ with $\\bf{x}$.\n",
    "\n",
    "## $$ \\begin{pmatrix} 0 & 8 & -4 \\\\ 1 & -1 & -4 \\\\ -1 & 5 & 2 \\end{pmatrix} \\begin{pmatrix} x \\\\ y \\\\ z \\end{pmatrix} = \\begin{pmatrix} 8y-4z \\\\ x-y-4z \\\\ -1x+5y+2z \\end{pmatrix} $$\n",
    "\n",
    "### This explains why the matrix form is equivalent to the original system of equations.\n",
    "\n",
    "### ***2.*** The product $\\bf{A}\\bf{x}$ can be expressed as a linear combination of the columns of $\\bf{A}$:\n",
    "## $$ \\begin{pmatrix} 0 & 8 & -4 \\\\ 1 & -1 & -4 \\\\ -1 & 5 & 2 \\end{pmatrix} \\begin{pmatrix} x \\\\ y \\\\ z \\end{pmatrix} = x \\begin{pmatrix} 0 \\\\ 1 \\\\ -1 \\end{pmatrix} + y \\begin{pmatrix} 8 \\\\ -1 \\\\ 5 \\end{pmatrix} + z \\begin{pmatrix} -4 \\\\ -4 \\\\ 2 \\end{pmatrix} $$\n",
    "\n",
    "### Notice that the coefficients $x$, $y$, and $z$ in this linear combination are the entries of the vector $\\bf{x}$."
   ]
  },
  {
   "cell_type": "markdown",
   "id": "5f12b1c2-f04b-4c49-be17-9b9c08627d65",
   "metadata": {},
   "source": [
    "## Matrix notation and matrix algebra\n",
    "\n",
    "### We will start with the novice view of a matrix as a table of numbers:\n",
    "## $$ \\begin{pmatrix} 1 & 3 & 3 & 0 & 3 \\\\ 3 & 47 & 3 & 8 & 38 \\\\ 8 & 3 & 0 & 0 & 0 \\\\ 0 & 0 & 32 & 4 & 3 \\\\ 1 & 2 & 1 & 0 & 1 \\end{pmatrix} $$\n",
    "\n",
    "### If we do not know what these numbers are, or wish to describe a generic matrix, we may choose to use variables instead:\n",
    "## $$ \\begin{pmatrix} a & b & c & d & e \\\\ f & g & h & i & j \\\\ k & l & m & n & o \\\\ p & q & r & s & t \\\\ u & v & w & x & y \\end{pmatrix} $$\n",
    "\n",
    "### However, as our matrices get larger and larger, we tend to run out of letters pretty quickly. Instead, use a single letter and subscripts to denote its location within the matrix. We say a matrix $\\bf{a}$ is $m \\times n$ if it has $m$ rows and $n$ columns. We denote the entry in the $i$th row and $j$th column by $a_{ij}$, and write the full matrix as\n",
    "## $$ \\begin{array} \\ \\phantom{a} \\\\ \\phantom{a} \\\\ \\phantom{a} \\\\ \\color{red}{\\text{row}\\, i} \\\\ \\phantom{a} \\\\ \\phantom{a} \\\\ \\end{array} \\begin{array} \\ \\begin{array} \\ \\phantom{a} & \\phantom{a} & \\phantom{a} & \\color{red}{\\text{column}\\, j} & \\phantom{a} & \\phantom{a} \\end{array} \\\\ \\begin{pmatrix} a_{11} & a_{12} & \\cdots & {\\color{red}{|}} & \\cdots & a_{1n} \\\\ a_{21} & a_{22} & \\cdots & {\\color{red}{|}} & \\cdots & a_{2n} \\\\ \\vdots & \\vdots & \\cdots & {\\color{red}{|}} & \\cdots & \\vdots \\\\ {\\color{red}{-}} & {\\color{red}{-}} & {\\color{red}{-}} & {\\color{red}{a_{ij}}} & {\\color{red}{-}} & {\\color{red}{-}} \\\\ \\vdots & \\vdots & \\cdots & {\\color{red}{|}} & \\cdots & \\vdots \\\\ a_{m1} & a_{m2} & \\cdots & {\\color{red}{|}} & \\cdots & a_{mn} \\end{pmatrix} \\end{array} $$\n",
    "\n",
    "### In this course, we will mostly be concerned with square matrices, which are matrices whose number of rows is equal to the number of columns.\n",
    "\n",
    "### We can think of multiplying vectors and matrices in 2 equivalent ways as follows:\n",
    "\n",
    "### ***1.*** To multiply $\\bf{A}$ and $\\bf{x}$ to get a vector $\\bf{b}$, the $j$th entry of $\\bf{b}$ is the dot product of the $j$th row of $\\bf{A}$ with $\\bf{x}$.\n",
    "## $$ \\begin{pmatrix} a_{11} & a_{12} & \\cdots & a_{1n} \\\\ a_{21} & a_{22} & \\cdots & a_{2n} \\\\ \\vdots & \\vdots & \\cdots & \\vdots \\\\ a_{m1} & a_{m2} & \\cdots & a_{mn} \\end{pmatrix} \\begin{pmatrix} \\color{red}{x_1} \\\\ \\color{red}{x_2} \\\\ \\vdots \\\\ \\color{red}{x_n} \\end{pmatrix} = \\begin{pmatrix} a_{11} \\color{red}{x_1} & a_{12} \\color{red}{x_2} & \\cdots & a_{1n}\\color{red}{x_n} \\\\ a_{21}\\color{red}{x_1} & a_{22}\\color{red}{x_2} & \\cdots & a_{2n}\\color{red}{x_n} \\\\ \\vdots & \\vdots & \\cdots & \\vdots \\\\ a_{m1}\\color{red}{x_1} & a_{m2}\\color{red}{x_2} & \\cdots & a_{mn}\\color{red}{x_n} \\end{pmatrix}  $$\n",
    "\n",
    "### ***2.*** The product $\\bf{A}\\bf{x}$ can be expressed as a linear combination of the columns of $\\bf{A}$:\n",
    "## $$ \\begin{pmatrix} a_{11} & a_{12} & \\cdots & a_{1n} \\\\ a_{21} & a_{22} & \\cdots & a_{2n} \\\\ \\vdots & \\vdots & \\cdots & \\vdots \\\\ a_{m1} & a_{m2} & \\cdots & a_{mn} \\end{pmatrix} \\begin{pmatrix} \\color{red}{x_1} \\\\ \\color{red}{x_2} \\\\ \\vdots \\\\ \\color{red}{x_n} \\end{pmatrix} = {\\color{red}{x_1}} \\begin{pmatrix} a_{11} \\\\ a_{21} \\\\ \\vdots \\\\ a_{m1} \\end{pmatrix} + {\\color{red}{x_2}} \\begin{pmatrix} a_{12} \\\\ a_{22} \\\\ \\vdots \\\\ a_{m2} \\end{pmatrix} + \\cdots + {\\color{red}{x_n}} \\begin{pmatrix} a_{1n} \\\\ a_{2n} \\\\ \\vdots \\\\ a_{mn} \\end{pmatrix} $$\n",
    "\n",
    "### where the coefficients are the entries of the vector $\\bf{x}$"
   ]
  },
  {
   "cell_type": "markdown",
   "id": "cb27d972-1d81-4ebb-9d20-38c8a32e407f",
   "metadata": {},
   "source": [
    "## Properties of matrix vector multiplication\n",
    "\n",
    "### ***0.*** For any matrix $\\bf{A}$, and the zero vector $\\bf{0}$:\n",
    "## $$ \\bf{A} \\bf{0} = \\bf{0} $$\n",
    "### ***1.*** For any matrix $\\bf{A}$, a $c$ scalar, and a vector $\\bf{x}$:\n",
    "## $$ \\bf{A} (c \\bf{x}) = c (\\bf{A} \\bf{x}) $$\n",
    "### ***2.*** For any matrix $\\bf{A}$, and vectors $\\bf{x}$ and $\\bf{y}$:\n",
    "## $$ \\bf{A} (\\bf{x} + \\bf{y}) = \\bf{A} \\bf{x} + \\bf{A} \\bf{y} $$"
   ]
  },
  {
   "cell_type": "markdown",
   "id": "0ee5ec0d-697d-4b54-ad6b-079f1bf45526",
   "metadata": {},
   "source": [
    "## Matrices as functions\n",
    "\n",
    "### Another view of an $m \\times n$ matrix that will be useful for us is to think of it as a function from $\\mathbb{R}^n$ to $\\mathbb{R}^m$.\n",
    "\n",
    "### ***Example 5.1***\n",
    "### Consider the matrix $\\bf{A} = \\begin{pmatrix} 1 & 2 \\\\ 4 & 7 \\\\ 8 & 9 \\end{pmatrix} $ as a function $\\bf{f}$ from $\\mathbb{R}^2$ to $\\mathbb{R}^3$. To evaluate $\\bf{f}$ at $\\bf{v} = \\begin{pmatrix} 10 \\\\ 1 \\end{pmatrix}$, we multiply the vector $\\bf{v}$ by the matrix $\\bf{A}$:\n",
    "## $$ \\begin{pmatrix} 1 & 2 \\\\ 4 & 7 \\\\ 8 & 9 \\end{pmatrix} \\begin{pmatrix} {\\color{red}{10}} \\\\ {\\color{red}{1}} \\end{pmatrix} = \\begin{pmatrix} 1({\\color{red}{10}}) + 2 ({\\color{red}{1}}) \\\\ 4 ({\\color{red}{10}}) + 7 ({\\color{red}{1}}) \\\\ 8 ({\\color{red}{10}}) + 9 ({\\color{red}{1}}) \\end{pmatrix} = \\begin{pmatrix} 12 \\\\ 47 \\\\ 89 \\end{pmatrix} $$\n",
    "### The result is a vector with $3$ entries; a vector in $\\mathbb{R}^3$."
   ]
  },
  {
   "cell_type": "code",
   "execution_count": null,
   "id": "a7269513-7dd7-4fcb-b43b-96de3e582a08",
   "metadata": {},
   "outputs": [],
   "source": []
  }
 ],
 "metadata": {
  "kernelspec": {
   "display_name": "Python 3",
   "language": "python",
   "name": "python3"
  },
  "language_info": {
   "codemirror_mode": {
    "name": "ipython",
    "version": 3
   },
   "file_extension": ".py",
   "mimetype": "text/x-python",
   "name": "python",
   "nbconvert_exporter": "python",
   "pygments_lexer": "ipython3",
   "version": "3.8.8"
  }
 },
 "nbformat": 4,
 "nbformat_minor": 5
}

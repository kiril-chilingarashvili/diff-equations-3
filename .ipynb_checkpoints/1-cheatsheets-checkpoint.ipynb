{
 "cells": [
  {
   "cell_type": "markdown",
   "id": "edd70929-7442-42e6-b7a9-0fb0dacd8ccc",
   "metadata": {},
   "source": [
    "# Unit 1: Linear Algebra, Part 1"
   ]
  },
  {
   "cell_type": "markdown",
   "id": "890a5f2e-b4d3-404b-8df5-e036c113a3d8",
   "metadata": {},
   "source": [
    "## Setting the context\n",
    "### Systems of differential equations arise naturally from many physical scenarios. Additionally, any higher order ODE (or system of such) can be written as a system of first-order ODEs. (This is called finding the companion matrix.) This is useful because MATLAB and other computer algebra systems have routines for solving systems of first order ODEs!\n",
    "\n",
    "### Here is where linear algebra enters the stage. Let's review how linear algebra came into play in solving 2x2 systems, so we can outline the goals of our understanding of linear algebra for the context of solving differential equations."
   ]
  },
  {
   "cell_type": "code",
   "execution_count": null,
   "id": "eee56bfe-5057-47d8-919b-9051738e2a19",
   "metadata": {},
   "outputs": [],
   "source": []
  }
 ],
 "metadata": {
  "kernelspec": {
   "display_name": "Python 3",
   "language": "python",
   "name": "python3"
  },
  "language_info": {
   "codemirror_mode": {
    "name": "ipython",
    "version": 3
   },
   "file_extension": ".py",
   "mimetype": "text/x-python",
   "name": "python",
   "nbconvert_exporter": "python",
   "pygments_lexer": "ipython3",
   "version": "3.8.8"
  }
 },
 "nbformat": 4,
 "nbformat_minor": 5
}

{
 "cells": [
  {
   "cell_type": "markdown",
   "id": "edd70929-7442-42e6-b7a9-0fb0dacd8ccc",
   "metadata": {},
   "source": [
    "# Unit 1: Linear Algebra, Part 1"
   ]
  },
  {
   "cell_type": "markdown",
   "id": "890a5f2e-b4d3-404b-8df5-e036c113a3d8",
   "metadata": {},
   "source": [
    "## Setting the context\n",
    "### Systems of differential equations arise naturally from many physical scenarios. Additionally, any higher order ODE (or system of such) can be written as a system of first-order ODEs. (This is called finding the companion matrix.) This is useful because MATLAB and other computer algebra systems have routines for solving systems of first order ODEs!\n",
    "\n",
    "### Here is where linear algebra enters the stage. Let's review how linear algebra came into play in solving 2x2 systems, so we can outline the goals of our understanding of linear algebra for the context of solving differential equations."
   ]
  },
  {
   "cell_type": "markdown",
   "id": "a8224242-0028-4f4b-b441-d1d26530c2a5",
   "metadata": {},
   "source": [
    "## Review of solving $2 \\times 2$ systems of DEs\n",
    "### Given a system of differential equations, our first step is to write this system as a matrix system\n",
    "## $$ \\bf{\\dot{x}} = \\bf{A} \\bf{x} + \\bf{b} $$\n",
    "\n",
    "### For now, we assume $\\bf{b} = \\bf{0}$, as we will not handle solving the inhomogeneous case until we've developed tools from linear algebra to help us in this endeavor.\n",
    "### The process for solving the system $\\bf{\\dot{x}} = \\bf{A} \\bf{x}$ which has distinct eigenvalues is as follows:\n",
    "\n",
    "### ***Step 1***: Find the eigenvalues of $\\bf{A}$. (Find $\\lambda_1, \\lambda_2$ that solves $\\det(\\bf{A} - \\lambda \\bf{I}) = \\bf{0}$.)\n",
    "### ***Step 2***: Find the eigenvectors of $\\bf{A}$ corresponding to each eigenvalue. (Find $\\bf{v_1}, \\bf{v_2}$ that solve $(\\bf{A} - \\lambda \\bf{I}) \\bf{v} = \\bf{0}$ for each $\\lambda_i, i = 1,2$.)\n",
    "### ***Step 3***: Solutions take the form\n",
    "## $$ \\bf{x}(t) = c_1 e^{\\lambda_1 t} \\bf{v_1} + c_2 e^{\\lambda_2 t} \\bf{v_2} $$\n",
    "\n",
    "### for arbitrary constants $c_1$ and $c_2$ which can be determined from initial conditions.\n",
    "\n",
    "### The process of solving homogenous higher order systems of differential equations consists of the same steps if there are distinct eigenvalues. The key issues are that we must now expand our linear algebra toolbox to handle solutions to linear systems, linear independence, determinants, eigenvalues and eigenvectors, and more in $3$ or more dimensions. We will also be able to use these tools to solve systems with repeated eigenvalues. That is the goal of the next several lectures.\n",
    "\n",
    "### We will develop our linear algebra toolbox both by hand on paper and with computer aid MATLAB in tandem."
   ]
  },
  {
   "cell_type": "markdown",
   "id": "ea4bbf14-edee-4706-a605-b3322a267b6d",
   "metadata": {},
   "source": [
    "## Geometry of linear systems\n",
    "### Given a system of $2$ equations with $2$ unknowns, each equation describes a line.\n",
    "## $$ a x + b y = 8 $$\n",
    "## $$ c x+ d y = 2 $$\n",
    "### The solution is the intersection of the solutions to each equation independently. There are 3 possibilities for the solution to such a system:\n",
    "![Solutions](img/solutions.png)\n",
    "\n",
    "### Given a system of $3$ equations and $3$ unknowns, it is more complicated – the solution can be a point, a line, a plane, or nothing!\n",
    "\n",
    "### Beyond equations with 3 unknowns, we have a hard time visualizing the solutions spaces geometrically. Instead, it is helpful to have algorithmic approaches to finding solutions. Part of this approach will involve writing our systems in terms of matrices. In this lecture, we will focus on developing an algorithm for finding solutions when there is one solution, a line of solutions, no solution. This same approach works in other situations, as seen in the complicated example at the end of this lecture."
   ]
  },
  {
   "cell_type": "markdown",
   "id": "16d4f3a9-9ce3-4af9-afbf-dfcb7ed78827",
   "metadata": {},
   "source": [
    "## Writing systems in matrix form\n",
    "\n",
    "### A system of $3$ equations with $3$ unknowns,\n",
    "## $$ 8y-4z=0 $$\n",
    "## $$ x-y-4z=1$$\n",
    "## $$ -x+5y+2z = 0 $$\n",
    "### can be rewritten in matrix form as $\\bf{A}\\bf{x} = \\bf{b}$:\n",
    "## $$ \\underset{\\bf{A}}{\\begin{pmatrix} 0 & 8 & -4 \\\\ 1 & -1 & -4 \\\\ -1 & 5 & 2 \\end{pmatrix}} \\underset{\\bf{x}}{\\begin{pmatrix} x \\\\ y \\\\ z \\end{pmatrix}} = \\underset{\\bf{b}}{\\begin{pmatrix} 0 \\\\ 1 \\\\ 0 \\end{pmatrix}} $$\n",
    "\n",
    "### We can think of multiplying the vector $\\bf{x}$ and the matrix $\\bf{A}$ in $2$ equivalent ways as follows:\n",
    "\n",
    "### ***1.*** To multiply $\\bf{A}$ and $\\bf{x}$ to get a vector $\\bf{B}$, the th entry of $\\bf{B}$ is the dot product of the $i$th row of $\\bf{A}$ with $\\bf{x}$.\n",
    "\n",
    "## $$ \\begin{pmatrix} 0 & 8 & -4 \\\\ 1 & -1 & -4 \\\\ -1 & 5 & 2 \\end{pmatrix} \\begin{pmatrix} x \\\\ y \\\\ z \\end{pmatrix} = \\begin{pmatrix} 8y-4z \\\\ x-y-4z \\\\ -1x+5y+2z \\end{pmatrix} $$\n",
    "\n",
    "### This explains why the matrix form is equivalent to the original system of equations.\n",
    "\n",
    "### ***2.*** The product $\\bf{A}\\bf{x}$ can be expressed as a linear combination of the columns of $\\bf{A}$:\n",
    "## $$ \\begin{pmatrix} 0 & 8 & -4 \\\\ 1 & -1 & -4 \\\\ -1 & 5 & 2 \\end{pmatrix} \\begin{pmatrix} x \\\\ y \\\\ z \\end{pmatrix} = x \\begin{pmatrix} 0 \\\\ 1 \\\\ -1 \\end{pmatrix} + y \\begin{pmatrix} 8 \\\\ -1 \\\\ 5 \\end{pmatrix} + z \\begin{pmatrix} -4 \\\\ -4 \\\\ 2 \\end{pmatrix} $$\n",
    "\n",
    "### Notice that the coefficients $x$, $y$, and $z$ in this linear combination are the entries of the vector $\\bf{x}$."
   ]
  },
  {
   "cell_type": "markdown",
   "id": "5f12b1c2-f04b-4c49-be17-9b9c08627d65",
   "metadata": {},
   "source": [
    "## Matrix notation and matrix algebra\n",
    "\n",
    "### We will start with the novice view of a matrix as a table of numbers:\n",
    "## $$ \\begin{pmatrix} 1 & 3 & 3 & 0 & 3 \\\\ 3 & 47 & 3 & 8 & 38 \\\\ 8 & 3 & 0 & 0 & 0 \\\\ 0 & 0 & 32 & 4 & 3 \\\\ 1 & 2 & 1 & 0 & 1 \\end{pmatrix} $$\n",
    "\n",
    "### If we do not know what these numbers are, or wish to describe a generic matrix, we may choose to use variables instead:\n",
    "## $$ \\begin{pmatrix} a & b & c & d & e \\\\ f & g & h & i & j \\\\ k & l & m & n & o \\\\ p & q & r & s & t \\\\ u & v & w & x & y \\end{pmatrix} $$\n",
    "\n",
    "### However, as our matrices get larger and larger, we tend to run out of letters pretty quickly. Instead, use a single letter and subscripts to denote its location within the matrix. We say a matrix $\\bf{a}$ is $m \\times n$ if it has $m$ rows and $n$ columns. We denote the entry in the $i$th row and $j$th column by $a_{ij}$, and write the full matrix as\n",
    "## $$ \\begin{array} \\ \\phantom{a} \\\\ \\phantom{a} \\\\ \\phantom{a} \\\\ \\color{red}{\\text{row}\\, i} \\\\ \\phantom{a} \\\\ \\phantom{a} \\\\ \\end{array} \\begin{array} \\ \\begin{array} \\ \\phantom{a} & \\phantom{a} & \\phantom{a} & \\color{red}{\\text{column}\\, j} & \\phantom{a} & \\phantom{a} \\end{array} \\\\ \\begin{pmatrix} a_{11} & a_{12} & \\cdots & {\\color{red}{|}} & \\cdots & a_{1n} \\\\ a_{21} & a_{22} & \\cdots & {\\color{red}{|}} & \\cdots & a_{2n} \\\\ \\vdots & \\vdots & \\cdots & {\\color{red}{|}} & \\cdots & \\vdots \\\\ {\\color{red}{-}} & {\\color{red}{-}} & {\\color{red}{-}} & {\\color{red}{a_{ij}}} & {\\color{red}{-}} & {\\color{red}{-}} \\\\ \\vdots & \\vdots & \\cdots & {\\color{red}{|}} & \\cdots & \\vdots \\\\ a_{m1} & a_{m2} & \\cdots & {\\color{red}{|}} & \\cdots & a_{mn} \\end{pmatrix} \\end{array} $$\n",
    "\n",
    "### In this course, we will mostly be concerned with square matrices, which are matrices whose number of rows is equal to the number of columns.\n",
    "\n",
    "### We can think of multiplying vectors and matrices in 2 equivalent ways as follows:\n",
    "\n",
    "### ***1.*** To multiply $\\bf{A}$ and $\\bf{x}$ to get a vector $\\bf{b}$, the $j$th entry of $\\bf{b}$ is the dot product of the $j$th row of $\\bf{A}$ with $\\bf{x}$.\n",
    "## $$ \\begin{pmatrix} a_{11} & a_{12} & \\cdots & a_{1n} \\\\ a_{21} & a_{22} & \\cdots & a_{2n} \\\\ \\vdots & \\vdots & \\cdots & \\vdots \\\\ a_{m1} & a_{m2} & \\cdots & a_{mn} \\end{pmatrix} \\begin{pmatrix} \\color{red}{x_1} \\\\ \\color{red}{x_2} \\\\ \\vdots \\\\ \\color{red}{x_n} \\end{pmatrix} = \\begin{pmatrix} a_{11} \\color{red}{x_1} & a_{12} \\color{red}{x_2} & \\cdots & a_{1n}\\color{red}{x_n} \\\\ a_{21}\\color{red}{x_1} & a_{22}\\color{red}{x_2} & \\cdots & a_{2n}\\color{red}{x_n} \\\\ \\vdots & \\vdots & \\cdots & \\vdots \\\\ a_{m1}\\color{red}{x_1} & a_{m2}\\color{red}{x_2} & \\cdots & a_{mn}\\color{red}{x_n} \\end{pmatrix}  $$\n",
    "\n",
    "### ***2.*** The product $\\bf{A}\\bf{x}$ can be expressed as a linear combination of the columns of $\\bf{A}$:\n",
    "## $$ \\begin{pmatrix} a_{11} & a_{12} & \\cdots & a_{1n} \\\\ a_{21} & a_{22} & \\cdots & a_{2n} \\\\ \\vdots & \\vdots & \\cdots & \\vdots \\\\ a_{m1} & a_{m2} & \\cdots & a_{mn} \\end{pmatrix} \\begin{pmatrix} \\color{red}{x_1} \\\\ \\color{red}{x_2} \\\\ \\vdots \\\\ \\color{red}{x_n} \\end{pmatrix} = {\\color{red}{x_1}} \\begin{pmatrix} a_{11} \\\\ a_{21} \\\\ \\vdots \\\\ a_{m1} \\end{pmatrix} + {\\color{red}{x_2}} \\begin{pmatrix} a_{12} \\\\ a_{22} \\\\ \\vdots \\\\ a_{m2} \\end{pmatrix} + \\cdots + {\\color{red}{x_n}} \\begin{pmatrix} a_{1n} \\\\ a_{2n} \\\\ \\vdots \\\\ a_{mn} \\end{pmatrix} $$\n",
    "\n",
    "### where the coefficients are the entries of the vector $\\bf{x}$"
   ]
  },
  {
   "cell_type": "markdown",
   "id": "cb27d972-1d81-4ebb-9d20-38c8a32e407f",
   "metadata": {},
   "source": [
    "## Properties of matrix vector multiplication\n",
    "\n",
    "### ***0.*** For any matrix $\\bf{A}$, and the zero vector $\\bf{0}$:\n",
    "## $$ \\bf{A} \\bf{0} = \\bf{0} $$\n",
    "### ***1.*** For any matrix $\\bf{A}$, a $c$ scalar, and a vector $\\bf{x}$:\n",
    "## $$ \\bf{A} (c \\bf{x}) = c (\\bf{A} \\bf{x}) $$\n",
    "### ***2.*** For any matrix $\\bf{A}$, and vectors $\\bf{x}$ and $\\bf{y}$:\n",
    "## $$ \\bf{A} (\\bf{x} + \\bf{y}) = \\bf{A} \\bf{x} + \\bf{A} \\bf{y} $$"
   ]
  },
  {
   "cell_type": "markdown",
   "id": "0ee5ec0d-697d-4b54-ad6b-079f1bf45526",
   "metadata": {},
   "source": [
    "## Matrices as functions\n",
    "\n",
    "### Another view of an $m \\times n$ matrix that will be useful for us is to think of it as a function from $\\mathbb{R}^n$ to $\\mathbb{R}^m$.\n",
    "\n",
    "### ***Example 5.1***\n",
    "### Consider the matrix $\\bf{A} = \\begin{pmatrix} 1 & 2 \\\\ 4 & 7 \\\\ 8 & 9 \\end{pmatrix} $ as a function $\\bf{f}$ from $\\mathbb{R}^2$ to $\\mathbb{R}^3$. To evaluate $\\bf{f}$ at $\\bf{v} = \\begin{pmatrix} 10 \\\\ 1 \\end{pmatrix}$, we multiply the vector $\\bf{v}$ by the matrix $\\bf{A}$:\n",
    "## $$ \\begin{pmatrix} 1 & 2 \\\\ 4 & 7 \\\\ 8 & 9 \\end{pmatrix} \\begin{pmatrix} {\\color{red}{10}} \\\\ {\\color{red}{1}} \\end{pmatrix} = \\begin{pmatrix} 1({\\color{red}{10}}) + 2 ({\\color{red}{1}}) \\\\ 4 ({\\color{red}{10}}) + 7 ({\\color{red}{1}}) \\\\ 8 ({\\color{red}{10}}) + 9 ({\\color{red}{1}}) \\end{pmatrix} = \\begin{pmatrix} 12 \\\\ 47 \\\\ 89 \\end{pmatrix} $$\n",
    "### The result is a vector with $3$ entries; a vector in $\\mathbb{R}^3$."
   ]
  },
  {
   "cell_type": "markdown",
   "id": "3941bf61-b620-42d4-aa99-d6ca0975a78b",
   "metadata": {},
   "source": [
    "## The geometry of matrices as functions\n",
    "\n",
    "### Imagine evaluating an $m \\times n$ matrix $\\bf{A}$ on every vector in the input space $\\mathbb{R}^n$, to get vectors in the output space $\\mathbb{R}^m$. To visualize it, draw a shape in the input space, apply $\\bf{A}$ to every point in the shape, and plot the output points in the output space.\n",
    "\n",
    "### ***Problem 6.1***\n",
    "### The matrix $\\begin{pmatrix} 2 & 0 \\\\ 0 & 1 \\end{pmatrix}$ represents a function $\\bf{f}$ from $\\mathbb{R}^2$ to $\\mathbb{R}^2$. Determine what it does to the ***standard basis*** vectors $\\bf{e_1} = \\begin{pmatrix} 1 \\\\ 0 \\end{pmatrix}, \\, \\bf{e_2} = \\begin{pmatrix} 0 \\\\ 1 \\end{pmatrix}$ of $\\mathbb{R}^2$. Then depict what happens to a smiley face of unit area under this matrix function.\n",
    "\n",
    "### ***Solution***: \n",
    "### We have\n",
    "## $$ \\bf{f} \\begin{pmatrix} 1 \\\\ 0 \\end{pmatrix} = \\begin{pmatrix} 2 & 0 \\\\ 0 & 1 \\end{pmatrix} \\begin{pmatrix} 1 \\\\ 0 \\end{pmatrix} = \\begin{pmatrix} 2 \\\\ 0 \\end{pmatrix} $$\n",
    "## $$ \\bf{f} \\begin{pmatrix} 0 \\\\ 1 \\end{pmatrix} = \\begin{pmatrix} 2 & 0 \\\\ 0 & 1 \\end{pmatrix} \\begin{pmatrix} 0 \\\\ 1 \\end{pmatrix} = \\begin{pmatrix} 0 \\\\ 1 \\end{pmatrix} $$\n",
    "\n",
    "### and the smiley with unit radius is stretched horizontally into a wide smiley of the same height.\n",
    "![Smiley](img/smiley.png)"
   ]
  },
  {
   "cell_type": "markdown",
   "id": "bd5d847a-1d45-4ee2-bcd3-656ae15a26dd",
   "metadata": {},
   "source": [
    "## Mathlet: [https://mathlets.org/mathlets/matrix-vector/](https://mathlets.org/mathlets/matrix-vector/)"
   ]
  },
  {
   "cell_type": "markdown",
   "id": "74bc4436-76fb-4b68-8254-6e6b913cd1c5",
   "metadata": {},
   "source": [
    "## Representing functions with matrices\n",
    "\n",
    "### It turns out that if we have a function from $\\mathbb{R}^n$ to $\\mathbb{R}^m$ that we know comes from multiplication on the left with a matrix $\\bf{A}$, we can find this matrix by looking at where this matrix sends the standard basis vectors!\n",
    "\n",
    "### ***Problem 7.1*** \n",
    "### Given $\\theta$, there is a $2 \\times 2$ matrix $\\bf{R}$ whose associated function rotates each vector in $\\mathbb{R}^2$ counterclockwise by the angle $\\theta$. What is it?\n",
    "![Rotation](img/rotation.png)\n",
    "\n",
    "### ***Solution***: \n",
    "### The rotation maps $\\begin{pmatrix} 1 \\\\ 0 \\end{pmatrix}$ to $\\begin{pmatrix} \\cos{\\theta} \\\\ \\sin{\\theta} \\end{pmatrix}$ and $\\begin{pmatrix} 0 \\\\ 1 \\end{pmatrix} $ to $\\begin{pmatrix} -\\sin{\\theta} \\\\ \\cos{\\theta} \\end{pmatrix} $. We know that the matrix with columns $\\bf{R} \\begin{pmatrix} 1 \\\\ 0 \\end{pmatrix} $ and $\\bf{R} \\begin{pmatrix} 0 \\\\ 1 \\end{pmatrix} $ is the matrix we want, and that this approach for finding a matrix representing a function always works. Thus\n",
    "## $$ (\\text{first column of }\\, \\bf{R}) = \\bf{R} \\begin{pmatrix} 1 \\\\ 0 \\end{pmatrix} = \\begin{pmatrix} \\cos{\\theta} \\\\ \\sin{\\theta} \\end{pmatrix} $$\n",
    "## $$ (\\text{second column of }\\, \\bf{R}) = \\bf{R} \\begin{pmatrix} 0 \\\\ 1 \\end{pmatrix} = \\begin{pmatrix} -\\sin{\\theta} \\\\ \\cos{\\theta} \\end{pmatrix} $$\n",
    "### so\n",
    "## $$ \\bf{R} = \\begin{pmatrix} \\cos{\\theta} & -\\sin{\\theta} \\\\ \\sin{\\theta} & \\cos{\\theta} \\end{pmatrix} $$"
   ]
  },
  {
   "cell_type": "markdown",
   "id": "be0b863e-54f8-43fc-8349-def7d9548c97",
   "metadata": {},
   "source": [
    "## Rotation in three dimensions\n",
    "\n",
    "### What is the matrix $\\bf{A}$ which rotates the $xy$-plane in $\\mathbb{R}^3$ counterclockwise by an angle $\\theta$ about the $z$-axis?\n",
    "\n",
    "![3D Rotation](img/3d-rotation.png)\n",
    "\n",
    "### ***Solution***:\n",
    "### The $z$-axis is fixed by this rotation, so\n",
    "## $$ \\bf{A} \\begin{pmatrix} 0 \\\\ 0 \\\\ 1 \\end{pmatrix} = \\begin{pmatrix} 0 \\\\ 0 \\\\ 1 \\end{pmatrix} $$\n",
    "### On the other hand, the $x$ and $y$ basis vectors rotate by $\\theta$ in the plane, but still don't have a $z$-coordinate after the rotation; only their $x$ and $y$ components change. So, similar to the example above,\n",
    "\n",
    "## $$ \\bf{A} \\begin{pmatrix} 1 \\\\ 0 \\\\ 0 \\end{pmatrix} = \\begin{pmatrix} \\cos{\\theta} \\\\ \\sin{\\theta} \\\\ 0 \\end{pmatrix} $$\n",
    "## $$ \\bf{A} \\begin{pmatrix} 0 \\\\ 1 \\\\ 0 \\end{pmatrix} = \\begin{pmatrix} -\\sin{\\theta} \\\\ \\cos{\\theta} \\\\ 0 \\end{pmatrix} $$\n",
    "## $$ \\bf{A} = \\begin{pmatrix} \\cos{\\theta} & -\\sin{\\theta} & 0 \\\\ \\sin{\\theta} & \\cos{\\theta} & 0 \\\\ 0 & 0 & 1 \\end{pmatrix} $$"
   ]
  },
  {
   "cell_type": "markdown",
   "id": "c3ced85d-eaa0-48d2-9a4f-93dad459c4f9",
   "metadata": {},
   "source": [
    "### ***Geometric examples in*** $\\mathbb{R}^3$:\n",
    "### Here are some functions from $\\mathbb{R}^3$ to $\\mathbb{R}^3$ that can be represented as a matrix: reflections across a plane through the origin, rotations about a line through the origin, and projections onto a plane or line through the origin.\n",
    "\n",
    "### ***Nonexample***:\n",
    "### A function from $\\mathbb{R}^3$ to $\\mathbb{R}^3$ which translates all points by a fixed amount cannot be represented by multipliction by a matrix."
   ]
  },
  {
   "cell_type": "markdown",
   "id": "11648759-d5e0-4ee1-980d-31c59808e9fe",
   "metadata": {},
   "source": [
    "## When can a function be represented by a matrix?\n",
    "\n",
    "### A matrix represents a very special kind of function called a ***linear transformation***.\n",
    "### A function $\\bf{f} : \\mathbb{R}^n \\to \\mathbb{R}^m$ is a ***linear transformation*** if:\n",
    "### ***0.***   it maps the zero vector in $\\mathbb{R}^n$ to the zero vector in $\\mathbb{R}^m: \\bf{F}(\\bf{0}) = 0$,\n",
    "### ***1.***   for a vector $\\bf{v}$ and a constant $c$, $\\bf{f}(c \\bf{v}) = c \\bf{f}(\\bf{v})$, and\n",
    "### ***2.***   for vectors $\\bf{v}$ and $\\bf{w}$ in $\\mathbb{R}^n$, $\\bf{f}(\\bf{v} + \\bf{w}) = \\bf{f}(\\bf{v}) + \\bf{f}(\\bf{w})$.\n",
    "\n",
    "### What this means roughly is that the function preserves vector addition and multiplication by a scalar. In pictures, we could draw this the following way.\n",
    "![Linear Transformation](img/ltran-1.png)\n",
    "### If you take two vectors and add them, then take the linear transformation, this is the same as first taking the linear transformation of each of the two vectors, and then adding them.\n",
    "![Linear Transformation](img/ltran-2.png)\n",
    "\n",
    "### Any function that is a linear transformation can be represented by a matrix by the method described above in the text.\n",
    "### To learn more about linear transformations, you may want to watch the following video.\n",
    "## [Linear transformations and matrices](https://www.youtube.com/watch?v=kYB8IZa5AuE)"
   ]
  },
  {
   "cell_type": "markdown",
   "id": "e7aaea05-1299-44d7-a70f-e7fbbf409bfd",
   "metadata": {},
   "source": [
    "## Augmented matrix and row operations\n",
    "\n",
    "### ***Example 8.1***\n",
    "### Consider the following system.\n",
    "## $$ 8y-4z=0 $$\n",
    "## $$ x-y+4z=1 $$\n",
    "## $$ -x-5y+2z=0 $$\n",
    "\n",
    "### We can encode all the information of this system in this ***augmented matrix***, which is a new matrix with one extra column formed by putting the vector $\\bf{b}$ on the right side of the matrix $\\bf{A}$:\n",
    "## $$ \\left( \\begin{array} {c|c} \\bf{A} & \\bf{b} \\end{array}\\right) = \\left( \\begin{array}{rrr|r} 0 &  8 &  -4 &  0 \\\\ 1 &  -1 &  4 &  1 \\\\ -1 &  -5 &  2 &  0 \\end{array} \\right) $$\n",
    "\n",
    "### ***Equation Operations***\n",
    "### One way to solve a linear system is by performing the following operations repeatedly, in some order:\n",
    "### - Multiply an equation by a nonzero number.\n",
    "### - Interchange two equations.\n",
    "### - Add a multiple of one equation to another equation.\n",
    "### Each of these operations are valid because they don't change the solution set.\n",
    "\n",
    "### ***Row operations***\n",
    "### The equation operations correspond to operations on the augmented matrix, called ***elementary row operations***:\n",
    "### - Multiply a row by a nonzero number.\n",
    "### - Interchange two rows.\n",
    "### - Add a multiple of one row to another row (while leaving the first row as it was).\n",
    "### We can do the following pairs of corresponding equation and row operations on the system and the augmented matrix:\n",
    "\n",
    "### 1. Multiply an equation by a nonzero number\n",
    "## $$ \\begin{array} {cc} \\text{1. Multiply an equation} & \\text{1. Multiply an equation} \\\\ \\text{by a nonzero number} & \\text{by a nonzero number} \\\\ \\, & \\, \\\\ \\begin{array} {lcr} {\\color{red}{(3)}} (8) y + {\\color{red}{(3)}} (-4) z & = & {\\color{red}{(3)}} (0) \\\\ x-y+4z & = & 1 \\\\ -x-5y+2z & = & 0 \\end{array} & {\\left( \\begin{array} {ccc|c} {\\color{red}{(3)}} (0) & {\\color{red}{(3)}} (8) & {\\color{red}{(3)}} (-4) & {\\color{red}{(3)}} (0) \\\\ 1 & -1 & 4 & 1 \\\\ -1 & -5 & 2 & 0 \\end{array} \\right)} \\\\ \\, & \\, \\\\ \\text{2. Interchange two equations} & \\text{2. Interchange two equations} \\\\ \\begin{array} {lcr} {\\color{red}{x-y+4z}} & {\\color{red}{=}} & {\\color{red}{1}} \\\\ {\\color{red}{8y-4z}} & {\\color{red}{=}} & {\\color{red}{0}} \\\\ -x-5y+2z & = & 0 \\end{array} & {\\left( \\begin{array} {ccc|c} {\\color{red}{1}} & {\\color{red}{-1}} & {\\color{red}{4}} & {\\color{red}{1}} \\\\ {\\color{red}{0}} & {\\color{red}{8}} & {\\color{red}{-4}} & {\\color{red}{0}} \\\\ -1 & -5 & 2 & 0 \\end{array} \\right)} \\\\ \\, & \\, \\\\ \\text{Add a multiple of one} & \\text{Add a multiple of one} \\\\  \\text{equation to another equation} & \\text{equation to another equation} \\\\ \\text{Adding 2 times the second equation} & \\text{Adding 2 times the second equation} \\\\  \\text{to the third one we get:} & \\text{to the third one we get:} \\\\ \\, & \\, \\\\ \\begin{array} {lcr} 8y-4z & = & 0 \\\\ x-y+4z & = & 1 \\\\ {\\color{red}{x-7y+10z}} & {\\color{red}{=}} & {\\color{red}{2}} \\end{array} & {\\left(\\begin{array} {ccc|c} 0 & 8 & -4 & 0 \\\\ 1 & -1 & 4 & 1 \\\\ {\\color{red}{1}} & {\\color{red}{-7}} & {\\color{red}{10}} & {\\color{red}{2}} \\end{array} \\right)} \\end{array} $$\n"
   ]
  },
  {
   "cell_type": "code",
   "execution_count": null,
   "id": "d9b6d1c2-1def-43f0-8857-c56cef43cd39",
   "metadata": {},
   "outputs": [],
   "source": []
  }
 ],
 "metadata": {
  "kernelspec": {
   "display_name": "Python 3",
   "language": "python",
   "name": "python3"
  },
  "language_info": {
   "codemirror_mode": {
    "name": "ipython",
    "version": 3
   },
   "file_extension": ".py",
   "mimetype": "text/x-python",
   "name": "python",
   "nbconvert_exporter": "python",
   "pygments_lexer": "ipython3",
   "version": "3.8.8"
  }
 },
 "nbformat": 4,
 "nbformat_minor": 5
}
